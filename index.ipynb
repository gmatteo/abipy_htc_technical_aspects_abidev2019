{
 "cells": [
  {
   "cell_type": "code",
   "execution_count": 90,
   "metadata": {
    "slideshow": {
     "slide_type": "skip"
    }
   },
   "outputs": [],
   "source": [
    "import os\n",
    "\n",
    "# Ignore numpy warnings\n",
    "import warnings\n",
    "warnings.filterwarnings('ignore')\n",
    "\n",
    "%matplotlib inline\n",
    "#%matplotlib notebook\n",
    "\n",
    "# Use seaborn settings.\n",
    "import seaborn as sns\n",
    "sns.set(\n",
    "        #context=\"paper\",\n",
    "        context=\"talk\",\n",
    "        #context=\"poster\",\n",
    "        style='darkgrid',\n",
    "        #style=\"dark\",\n",
    "        #palette='deep',\n",
    "        font='sans-serif', \n",
    "        #font_scale=1.0, \n",
    "        #color_codes=False, \n",
    "        rc={'figure.figsize': (12, 8.0)}, # width and height in inches.\n",
    ")\n",
    "\n",
    "import IPython\n",
    "\n",
    "def _embed(src, width=\"800\", height=\"400\"):\n",
    "    return IPython.display.IFrame(src=src, width=str(width), height=str(height))\n",
    "\n",
    "from IPython.core.magic import (register_line_magic, register_cell_magic,\n",
    "                                register_line_cell_magic)\n",
    "\n",
    "@register_line_magic\n",
    "def embed(line):\n",
    "    \"my line magic\"\n",
    "    #return line\n",
    "    return _embed(line)\n",
    "\n",
    "\n",
    "# We delete these to avoid name conflicts for automagic to work\n",
    "del embed\n",
    "#del lcmagic\n",
    "\n",
    "# Theme\n",
    "# import jtplot module in notebook\n",
    "#from jupyterthemes import jtplot\n",
    "\n",
    "# choose which theme to inherit plotting style from\n",
    "# onedork | grade3 | oceans16 | chesterish | monokai | solarizedl | solarizedd\n",
    "#jtplot.style(theme='monokai')\n",
    "\n",
    "# set \"context\" (paper, notebook, talk, poster)\n",
    "# scale font-size of ticklabels, legend, etc.\n",
    "# remove spines from x and y axes and make grid dashed\n",
    "#jtplot.style(context='talk', fscale=1.4, spines=False, gridlines='--')\n",
    "\n",
    "# turn on X- and Y-axis tick marks (default=False)\n",
    "# turn off the axis grid lines (default=True)\n",
    "# and set the default figure size\n",
    "#jtplot.style(ticks=True, grid=False, figsize=(6, 4.5))\n",
    "\n",
    "# reset default matplotlib rcParams\n",
    "#jtplot.reset()\n",
    "\n",
    "from abipy import abilab\n",
    "import abipy.data as abidata\n",
    "\n",
    "si_pseudo = os.path.join(abidata.pseudo_dir, \"14si.pspnc\")"
   ]
  },
  {
   "cell_type": "markdown",
   "metadata": {
    "slideshow": {
     "slide_type": "slide"
    }
   },
   "source": [
    "# Technical aspects related to high-throughput calculations with ABINIT\n",
    "\n",
    "### M. Giantomassi and the AbiPy group\n",
    "\n",
    "9th international ABINIT developer workshop 20-22nd May 2019 - Louvain-la-Neuve, Belgium\n",
    "\n",
    "<!-- link rel=\"stylesheet\" href=\"reveal.js/css/theme/sky.css\" id=\"theme\" -->\n",
    "\n",
    "<img src=\"./assets/intro_logos.png\" width=\"85%\" heigh=\"15%\" align=\"center\">\n",
    "\n",
    "<hr> \n",
    "\n",
    "* These slides have been generated using [jupyter](https://jupyter.org), [nbconvert](https://github.com/jupyter/nbconvert) and [revealjs](https://revealjs.com/)\n",
    "\n",
    "* The notebook can be downloaded from this [github repo](https://github.com/gmatteo/abipy_htc_technical_aspects_abidev2019)\n",
    "\n",
    "* To install and configure the software, follow these [installation instructions](https://github.com/abinit/abipy#getting-abipy)\n",
    "\n",
    "Use the Space key to navigate through all slides.\n",
    "\n",
    "<!--\n",
    "In this talk, I will present the approach employed in AbiPy to implement automatic ABINIT calculations. More specifically, I will discuss how we employ\n",
    "YAML and netcdf files to exchange information between Fortran and Python,\n",
    "the logic used in AbiPy to parallelize and optimize calculations at runtime and\n",
    "the protocol used to handle possible errors during the ab-initio computation. I\n",
    "will also discuss how to use the Fortran API of ABINIT to generate netcdf files\n",
    "that can interoperate seamlessly with our high-throughput infrastructure. In the\n",
    "last part, I will present some of the technical problems we are still facing and\n",
    "discuss possible approaches to address these issues.\n",
    "-->\n",
    "\n",
    "\n",
    "\n",
    "\n"
   ]
  },
  {
   "cell_type": "markdown",
   "metadata": {
    "slideshow": {
     "slide_type": "skip"
    }
   },
   "source": [
    "\n",
    "<img src=\"./assets/abipy_logo.jpg\" width=\"55%\" align=\"center\">\n",
    "\n",
    "## What is AbiPy?\n",
    "\n",
    "#### Python package for:\n",
    "\n",
    "   * Generating ABINIT input files automatically\n",
    "   * Post-processing output results (*netcdf* and *text* files)\n",
    "   * Interfacing ABINIT with external tools (e.g. [Vesta](http://jp-minerals.org/vesta/en/))\n",
    "   * Creating and executing workflows (band structures, phonons, $GW$…)\n",
    "   \n",
    "#### Project:\n",
    "\n",
    "* Developed and maintained by the ABINIT community\n",
    "* Used by developers to validate, profile and optimize ABINIT\n",
    "* Hosted on [github](https://github.com/abinit/abipy) \n",
    "* Release under the GPLv2 license"
   ]
  },
  {
   "cell_type": "markdown",
   "metadata": {
    "slideshow": {
     "slide_type": "skip"
    }
   },
   "source": [
    "## Why python?\n",
    "\n",
    "   * Easy to use and to learn\n",
    "   * Great support for science ([numpy](http://www.numpy.org/), [scipy](https://www.scipy.org/), [pandas](http://pandas.pydata.org/), [matplotlib](https://matplotlib.org/) …)\n",
    "   * Interactive environments ([ipython](http://ipython.org/), [jupyter notebooks](https://jupyter.org/), GUIs)\n",
    "   * More powerful and flexible than Fortran for implementing the high-level logic needed in modern ab-initio workflows\n",
    "   * [pymatgen](https://github.com/materialsproject) ecosystem and the [materials project database](https://www.materialsproject.org/)…"
   ]
  },
  {
   "cell_type": "markdown",
   "metadata": {
    "slideshow": {
     "slide_type": "skip"
    }
   },
   "source": [
    "## What do we need to automate calculations?\n",
    "\n",
    "* Tools to parse and analyze output results\n",
    "* python API to generate input files\n",
    "* High-level logic for:\n",
    "\n",
    "    * Managing complicated workflows\n",
    "    * Exposing task parallelism (independent steps can be executed in parallel)\n",
    "    * Handling runtime errors and restarting calculations\n",
    "    * Saving final results in machine-readable format (e.g. databases)\n",
    "\n",
    "<img src=\"./assets/sdata201865-f2.jpg\" width=\"50%\" align=\"center\">\n",
    "\n",
    "<hr>\n",
    "\n",
    "### Let's discuss the different parts step by step…"
   ]
  },
  {
   "cell_type": "markdown",
   "metadata": {
    "slideshow": {
     "slide_type": "subslide"
    }
   },
   "source": [
    "## AbiPy design principles\n",
    "\n",
    "* Extend the pymatgen code-base with ABINIT-specific objects\n",
    "* Layered structure designed for different use-cases:\n",
    "        \n",
    "     * Post-processing tools and command-line interfaces\n",
    "     * API to automate calculations and data analysis\n",
    "     * High-throughput infrastructure ([abiflows](https://github.com/abinit/abiflows), [fireworks](https://github.com/materialsproject/fireworks), [mongodb](https://www.mongodb.com/))\n",
    "     \n",
    "* Closely connected to the ABINIT executable:\n",
    "\n",
    "    * CPU-intensive algorithms performed by ABINIT (Fortran + MPI + OpenMP)\n",
    "    * Glue code implemented in python\n",
    "   \n"
   ]
  },
  {
   "cell_type": "markdown",
   "metadata": {
    "slideshow": {
     "slide_type": "slide"
    }
   },
   "source": [
    "## Workflow infrastructure\n",
    "\n",
    "Two different approaches:\n",
    "\n",
    "#### AbiPy workflows:\n",
    "\n",
    "   * Lightweight implementation (*pymatgen* + *AbiPy*)\n",
    "   * No database required. Object persistence provided by [*pickle*](https://docs.python.org/3/library/pickle.html)\n",
    "   * Ideal tool for prototyping \n",
    "    \n",
    "    \n",
    "#### AbiFlows workflows: \n",
    "\n",
    "   * Requires [MongoDb](https://www.mongodb.com/) database\n",
    "   * Based on [fireworks](https://materialsproject.github.io/fireworks/)\n",
    "   * Designed and optimized for <u>high-throughput applications</u>\n",
    "   \n",
    "<hr>\n",
    "\n",
    "Both approaches share the same codebase (*AbinitInput*, factory functions, AbiPy objects).\n",
    "\n",
    "Number and type of calculations are important ➝ choose the approach that suits to your needs."
   ]
  },
  {
   "cell_type": "markdown",
   "metadata": {
    "slideshow": {
     "slide_type": "subslide"
    }
   },
   "source": [
    "* ABINIT and AbiPy communicate through Yaml docs and [netcdf](https://www.unidata.ucar.edu/software/netcdf/docs/) files\n",
    "\n",
    "* AbiPy employs this \"protocol\" to generate input files, handle errors, implement high-level logic\n",
    "\n",
    "## Why two formats for communicating?\n",
    "\n",
    "* yaml docs\n",
    "\n",
    "    * Small documents for error message with context\n",
    "    * Used to access Abinit-computed quantities (*autoparal*, list of *perturbations*)\n",
    "    * Extracted from log file \n",
    "    * Easy to write with plain Fortran write\n",
    "        \n",
    "* netcdf\n",
    "\n",
    "    * Portable binary format implemented in C\n",
    "    * Fortran/Python bindings and support for parallel MPI-IO (HDF5)\n",
    "    * [ETSF-IO specifications](https://www.etsf.eu/fileformats) for crystalline structures, wavefunctions, densities…"
   ]
  },
  {
   "cell_type": "markdown",
   "metadata": {
    "slideshow": {
     "slide_type": "subslide"
    }
   },
   "source": [
    "## How do we understand that the job completed successfully?\n",
    "<p></p>\n",
    "\n",
    "```yaml\n",
    "--- !FinalSummary\n",
    "program: abinit\n",
    "version: 8.11.6\n",
    "start_datetime: Sat Mar 30 23:01:14 2019\n",
    "end_datetime: Sat Mar 30 23:04:04 2019\n",
    "overall_cpu_time:         168.8\n",
    "overall_wall_time:         169.7\n",
    "exit_requested_by_user: no \n",
    "timelimit: 0\n",
    "pseudos: \n",
    "    Li  : 9517c0b7d24d4898578b8627ce68311d\n",
    "    F   : 14cf65a61ba7320a86892d2f062b1f44\n",
    "usepaw: 0\n",
    "mpi_procs: 1\n",
    "omp_threads: 1\n",
    "num_warnings: 2\n",
    "num_comments: 73\n",
    "...\n",
    "```"
   ]
  },
  {
   "cell_type": "markdown",
   "metadata": {},
   "source": [
    "## Abort handled by the developer\n",
    "<p></p>\n",
    "\n",
    "#### Fortran\n",
    "\n",
    "```fortran\n",
    " MSG_ERROR(\"Hello\")\n",
    "```\n",
    "\n",
    "#### Yaml doc in log file\n",
    "\n",
    "* src_file and str_line added by CPP preprocessor\n",
    "* message: Informative string for user, may be used by AbiPy for quick fixes"
   ]
  },
  {
   "cell_type": "markdown",
   "metadata": {
    "slideshow": {
     "slide_type": "subslide"
    }
   },
   "source": [
    "#### Common runtime Errors\n",
    "\n",
    "#### Common runtime errors are associated with additional metadata and actions performed by the code \n",
    "\n",
    "```fortran\n",
    "    MSG_ERROR_CLASS(dilatmx_errmsg, \"DilatmxError\")\n",
    "```"
   ]
  },
  {
   "cell_type": "markdown",
   "metadata": {
    "slideshow": {
     "slide_type": "subslide"
    }
   },
   "source": [
    "\n",
    "```fortran\n",
    "! check dilatmx here and correct if necessary\n",
    " if (usewvl == 0) then\n",
    "   call chkdilatmx(dt_chkdilatmx,dilatmx,rprimd,rprimd_orig,dilatmx_errmsg)\n",
    "   _IBM6(\"dilatxm_errmsg: \"//TRIM(dilatmx_errmsg))\n",
    "   if (LEN_TRIM(dilatmx_errmsg) /= 0) then\n",
    "     MSG_WARNING(dilatmx_errmsg)\n",
    "     nerr_dilatmx = nerr_dilatmx+1\n",
    "     if (nerr_dilatmx > 3) then\n",
    "       ! Write last structure before aborting, so that we can restart from it.\n",
    "       ! zion is not available, but it's not useful here.\n",
    "       if (me == master) then\n",
    "         ! Init crystal\n",
    "         hist%ihist = abihist_findIndex(hist,-1)\n",
    "         call hist2var(acell,hist,ab_mover%natom,rprimd,xred,DEBUG)\n",
    "         call crystal_init(amu_curr,crystal,0,ab_mover%natom,&\n",
    "           npsp,ab_mover%ntypat,ab_mover%nsym,rprimd,ab_mover%typat,xred,&\n",
    "           [(-one, ii=1,ab_mover%ntypat)],ab_mover%znucl,2,.False.,.False.,\"dilatmx_structure\",&\n",
    "           symrel=ab_mover%symrel,tnons=ab_mover%tnons,symafm=ab_mover%symafm)\n",
    "\n",
    "#ifdef HAVE_NETCDF\n",
    "         ! Write netcdf file\n",
    "         filename = strcat(filnam_ds4, \"_DILATMX_STRUCT.nc\")\n",
    "         NCF_CHECK(crystal%ncwrite_path(filename))\n",
    "#endif\n",
    "         call crystal%free()\n",
    "       end if\n",
    "       call xmpi_barrier(comm_cell)\n",
    "       write (dilatmx_errmsg, '(a,i0,3a)') &\n",
    "        'Dilatmx has been exceeded too many times (', nerr_dilatmx, ')',ch10, &\n",
    "        'Restart your calculation from larger lattice vectors and/or a larger dilatmx'\n",
    "       MSG_ERROR_CLASS(dilatmx_errmsg, \"DilatmxError\")\n",
    "     end if\n",
    "   else\n",
    "     nerr_dilatmx=0\n",
    "   end if\n",
    " end if\n",
    "```"
   ]
  },
  {
   "cell_type": "markdown",
   "metadata": {
    "slideshow": {
     "slide_type": "skip"
    }
   },
   "source": [
    "#### This function returns an *AbiFile* object provinding access to physical properties.\n",
    "\n",
    "Conventions:\n",
    "\n",
    "   * *abifile.structure* ➝ crystalline structure (subclass of pymatgen *Structure*)\n",
    "   * *abifile.ebands* ➝ electron band energies\n",
    "   * *abifile.ebands.kpoints* ➝ list of k-points (k-path, IBZ) \n",
    "   * *abifile.phbands* ➝ phonon frequencies and displacements\n",
    "   \n",
    "Several AbiPy objects provide *plot* methods returning [*matplotlib*](https://matplotlib.org/) figures"
   ]
  },
  {
   "cell_type": "markdown",
   "metadata": {
    "slideshow": {
     "slide_type": "slide"
    }
   },
   "source": [
    "## Clean exit with *--timeline* and smart-io mode\n",
    "<p></p>\n",
    "\n",
    "```sh\n",
    "cat job.sh\n",
    "\n",
    "#!/bin/bash\n",
    "#SBATCH --ntasks=48\n",
    "#SBATCH --time=12:00:00\n",
    "\n",
    "abinit -timelimit 12:00:00 < run.file > run.log 2> run.err\n",
    "```\n",
    "\n",
    "* Available for iterative algorithms (Relax, Scf, Nscf?)\n",
    "* Compute wall-time required by one iteration, save intermediate results if timelimit is approaching\n",
    "* Abipy will restart the job from the previous results\n",
    "* timelimit and prtwf -1 to reduce IO-pressure and avoid disk-quota hell "
   ]
  },
  {
   "cell_type": "markdown",
   "metadata": {
    "slideshow": {
     "slide_type": "slide"
    }
   },
   "source": [
    "## Abipy Robots\n",
    "\n",
    "* High-level interface to operate on <u>multiple files</u> with the same file extension\n",
    "\n",
    "* Useful for:\n",
    "\n",
    "     * convergence studies\n",
    "     * producing multiple plots\n",
    "     * building [Pandas dataframes](https://pandas.pydata.org/) (data in tabular format powered by python)\n",
    "\n",
    "* Each *Robot* is associated to a file extension, *e.g.* \n",
    "\n",
    "     * GSR.nc ➝ *GsrRobot*\n",
    "     * DDB ➝ *DdbRobot*\n",
    "     \n",
    "* *Robots* can be constructed from:\n",
    "\n",
    "    1. List of filenames\n",
    "    2. Directories and regular expressions\n",
    "    \n",
    "* Command line interface provided by the *abicomp.py* script:\n",
    "\n",
    "* To generate notebook to compare multiple *GSR* files, use:\n",
    "\n",
    "            abicomp.py gsr out1_GSR.nc  out2_GSR.nc --notebook"
   ]
  },
  {
   "cell_type": "markdown",
   "metadata": {
    "slideshow": {
     "slide_type": "skip"
    }
   },
   "source": [
    "### Post-processing the DFPT results available in the MP database\n",
    "\n",
    "* More than 1500 DFPT calculations done with abiflows ([Petretto et al.](https://www.nature.com/articles/sdata201865))\n",
    "* Results available on the materials project website (including the *DDB* files) \n",
    "\n",
    "<hr>\n",
    "\n",
    "Let's assume we want to reuse the raw data for our research work:\n",
    "\n",
    "   * Handling 1500 tabs in the web browser is not feasible\n",
    "   * We need a <u>programmatic</u> interface to automate stuff. \n",
    "\n",
    "With python we can easily connect the different parts of the puzzle:\n",
    "\n",
    "* REST API to get the raw data (*DDB*) from the MP database\n",
    "* Computation of phonons, thermodinamical properties, Born effective charges, dielectric tensor, IR spectrum with ABINIT\n",
    "* Post-processing with AbiPy\n",
    "\n",
    "For a more comprehensive discussion see this \n",
    "[abitutorial](https://nbviewer.jupyter.org/github/abinit/abitutorials/blob/master/abitutorials/ddb.ipynb)\n",
    "\n",
    "<!--\n",
    "The results for the rocksalt phase of MgO are available at https://materialsproject.org/materials/mp-1009129/\n",
    "-->"
   ]
  },
  {
   "cell_type": "markdown",
   "metadata": {
    "slideshow": {
     "slide_type": "slide"
    }
   },
   "source": [
    "# How to automate input file generation with AbiPy\n",
    "\n",
    "<img src=\"./assets/automate_input_files.jpg\" width=\"85%\" align=\"center\">"
   ]
  },
  {
   "cell_type": "markdown",
   "metadata": {
    "slideshow": {
     "slide_type": "slide"
    }
   },
   "source": [
    "## *AbinitInput* object \n",
    "\n",
    "Programmatic interface to generate input files:\n",
    "\n",
    "* *Dict-like* object storing ABINIT variables \n",
    "* Methods to set multiple variables (*e.g.* **k**-path from *structure*)\n",
    "* Factory functions to generate input files with minimal effort\n",
    "\n",
    "Can invoke ABINIT to get important parameters such as:\n",
    "\n",
    "  * list of **k**-points in the IBZ\n",
    "  * list of irreducible DFPT perturbations\n",
    "  * list of possible configurations for MPI jobs (*npkpt*, *npfft*, *npband* …)\n",
    "     \n",
    "#### To build an input, we need a *structure* and a list of *pseudos*:"
   ]
  },
  {
   "cell_type": "code",
   "execution_count": 91,
   "metadata": {
    "slideshow": {
     "slide_type": "-"
    }
   },
   "outputs": [],
   "source": [
    "inp = abilab.AbinitInput(structure=\"si.cif\", pseudos=\"14si.pspnc\")"
   ]
  },
  {
   "cell_type": "markdown",
   "metadata": {
    "slideshow": {
     "slide_type": "subslide"
    }
   },
   "source": [
    "#### Low-level API (should look familiar to Abinit users):"
   ]
  },
  {
   "cell_type": "code",
   "execution_count": 92,
   "metadata": {
    "slideshow": {
     "slide_type": "-"
    }
   },
   "outputs": [
    {
     "data": {
      "text/plain": [
       "True"
      ]
     },
     "execution_count": 92,
     "metadata": {},
     "output_type": "execute_result"
    }
   ],
   "source": [
    "inp[\"ecut\"] = 8\n",
    "\"ecut\" in inp"
   ]
  },
  {
   "cell_type": "markdown",
   "metadata": {
    "slideshow": {
     "slide_type": "-"
    }
   },
   "source": [
    "#### Use *set_vars* to set the value of several variables with a single call:"
   ]
  },
  {
   "cell_type": "code",
   "execution_count": 93,
   "metadata": {
    "slideshow": {
     "slide_type": "-"
    }
   },
   "outputs": [],
   "source": [
    "inp.set_vars(kptopt=1, ngkpt=[2, 2, 2],  \n",
    "             shiftk=[0.0, 0.0, 0.0, 0.5, 0.5, 0.5]  # 2 shifts in one list\n",
    "            );"
   ]
  },
  {
   "cell_type": "markdown",
   "metadata": {
    "slideshow": {
     "slide_type": "-"
    }
   },
   "source": [
    "#### althought it's much easier to use:"
   ]
  },
  {
   "cell_type": "code",
   "execution_count": 94,
   "metadata": {
    "slideshow": {
     "slide_type": "-"
    }
   },
   "outputs": [
    {
     "data": {
      "text/plain": [
       "{'ngkpt': array([2, 2, 2]),\n",
       " 'kptopt': 1,\n",
       " 'nshiftk': 4,\n",
       " 'shiftk': array([[0.5, 0.5, 0.5],\n",
       "        [0.5, 0. , 0. ],\n",
       "        [0. , 0.5, 0. ],\n",
       "        [0. , 0. , 0.5]])}"
      ]
     },
     "execution_count": 94,
     "metadata": {},
     "output_type": "execute_result"
    }
   ],
   "source": [
    "inp.set_autokmesh(nksmall=2)"
   ]
  },
  {
   "cell_type": "markdown",
   "metadata": {
    "slideshow": {
     "slide_type": "notes"
    }
   },
   "source": [
    "####  The method builds a homogeneous k-mesh from metavariables:\n",
    "\n",
    "* *nksmall* is the number of divisions used to sample the smallest lattice vector\n",
    "* *shiftk* is automatically selected from an internal database."
   ]
  },
  {
   "cell_type": "code",
   "execution_count": 95,
   "metadata": {
    "slideshow": {
     "slide_type": "skip"
    }
   },
   "outputs": [
    {
     "data": {
      "image/png": "[encoded data removed]",
      "text/plain": [
       "<Figure size 864x576 with 1 Axes>"
      ]
     },
     "metadata": {},
     "output_type": "display_data"
    }
   ],
   "source": [
    "inp.structure.plot();"
   ]
  },
  {
   "cell_type": "markdown",
   "metadata": {
    "slideshow": {
     "slide_type": "subslide"
    }
   },
   "source": [
    "#### An *AbinitInput* has a structure object "
   ]
  },
  {
   "cell_type": "code",
   "execution_count": 96,
   "metadata": {
    "slideshow": {
     "slide_type": "-"
    }
   },
   "outputs": [
    {
     "name": "stdout",
     "output_type": "stream",
     "text": [
      "Si2\n"
     ]
    }
   ],
   "source": [
    "print(inp.structure.formula)"
   ]
  },
  {
   "cell_type": "markdown",
   "metadata": {
    "slideshow": {
     "slide_type": "-"
    }
   },
   "source": [
    "#### and a list of pseudopotentials"
   ]
  },
  {
   "cell_type": "code",
   "execution_count": 97,
   "metadata": {
    "slideshow": {
     "slide_type": "-"
    }
   },
   "outputs": [
    {
     "name": "stdout",
     "output_type": "stream",
     "text": [
      "<NcAbinitPseudo: 14si.pspnc>\n",
      "  summary: Troullier-Martins psp for element  Si        Thu Oct 27 17:31:21 EDT 1994\n",
      "  number of valence electrons: 4.0\n",
      "  maximum angular momentum: d\n",
      "  angular momentum for local part: d\n",
      "  XC correlation: LDA_XC_TETER93\n",
      "  supports spin-orbit: False\n",
      "  radius for non-linear core correction: 1.80626423934776\n",
      "  hint for low accuracy: ecut: 0.0, pawecutdg: 0.0\n",
      "  hint for normal accuracy: ecut: 0.0, pawecutdg: 0.0\n",
      "  hint for high accuracy: ecut: 0.0, pawecutdg: 0.0\n"
     ]
    }
   ],
   "source": [
    "for pseudo in inp.pseudos:\n",
    "    print(pseudo)"
   ]
  },
  {
   "cell_type": "markdown",
   "metadata": {
    "slideshow": {
     "slide_type": "-"
    }
   },
   "source": [
    "#### Pseudos from the [PseudoDojo project](http://www.pseudo-dojo.org/) provide hints for the cutoff energy."
   ]
  },
  {
   "cell_type": "code",
   "execution_count": 98,
   "metadata": {
    "slideshow": {
     "slide_type": "-"
    }
   },
   "outputs": [],
   "source": [
    "#from pseudo_dojo.core.pseudos import OfficialDojoTable\n",
    "#pseudo_table = OfficialDojoTable.from_dojodir('ONCVPSP-PBEsol-PDv0.4','standard')"
   ]
  },
  {
   "cell_type": "markdown",
   "metadata": {
    "slideshow": {
     "slide_type": "skip"
    }
   },
   "source": [
    "#### Inside the notebook, one gets the HTML representation with links to the documentation:"
   ]
  },
  {
   "cell_type": "code",
   "execution_count": 99,
   "metadata": {
    "slideshow": {
     "slide_type": "-"
    }
   },
   "outputs": [
    {
     "data": {
      "text/html": [
       "############################################################################################<br>#                                       SECTION: basic                                      <br>############################################################################################<br> <a href=\"https://docs.abinit.org/variables/basic#ecut\" target=\"_blank\">ecut</a> 8<br> <a href=\"https://docs.abinit.org/variables/basic#kptopt\" target=\"_blank\">kptopt</a> 1<br> <a href=\"https://docs.abinit.org/variables/basic#ngkpt\" target=\"_blank\">ngkpt</a> 2 2 2<br> <a href=\"https://docs.abinit.org/variables/basic#shiftk\" target=\"_blank\">shiftk</a><br>    0.5    0.5    0.5<br>    0.5    0.0    0.0<br>    0.0    0.5    0.0<br>    0.0    0.0    0.5<br> <a href=\"https://docs.abinit.org/variables/basic#nshiftk\" target=\"_blank\">nshiftk</a> 4<br>############################################################################################<br>#                                         STRUCTURE                                         <br>############################################################################################<br> <a href=\"https://docs.abinit.org/variables/basic#natom\" target=\"_blank\">natom</a> 2<br> <a href=\"https://docs.abinit.org/variables/basic#ntypat\" target=\"_blank\">ntypat</a> 1<br> <a href=\"https://docs.abinit.org/variables/basic#typat\" target=\"_blank\">typat</a> 1 1<br> <a href=\"https://docs.abinit.org/variables/basic#znucl\" target=\"_blank\">znucl</a> 14<br> <a href=\"https://docs.abinit.org/variables/basic#xred\" target=\"_blank\">xred</a><br>    0.0000000000    0.0000000000    0.0000000000<br>    0.2500000000    0.2500000000    0.2500000000<br> <a href=\"https://docs.abinit.org/variables/basic#acell\" target=\"_blank\">acell</a>    1.0    1.0    1.0<br> <a href=\"https://docs.abinit.org/variables/basic#rprim\" target=\"_blank\">rprim</a><br>    6.3285005272    0.0000000000    3.6537614829<br>    2.1095001757    5.9665675167    3.6537614829<br>    0.0000000000    0.0000000000    7.3075229659"
      ],
      "text/plain": [
       "<AbinitInput at 120980950208>"
      ]
     },
     "execution_count": 99,
     "metadata": {},
     "output_type": "execute_result"
    }
   ],
   "source": [
    "inp"
   ]
  },
  {
   "cell_type": "markdown",
   "metadata": {
    "slideshow": {
     "slide_type": "subslide"
    }
   },
   "source": [
    "#### To generate a high-symmetry k-path (taken from an internal database)"
   ]
  },
  {
   "cell_type": "code",
   "execution_count": 100,
   "metadata": {
    "slideshow": {
     "slide_type": "-"
    }
   },
   "outputs": [
    {
     "data": {
      "text/plain": [
       "{'kptbounds': array([[0.   , 0.   , 0.   ],\n",
       "        [0.5  , 0.   , 0.5  ],\n",
       "        [0.5  , 0.25 , 0.75 ],\n",
       "        [0.375, 0.375, 0.75 ],\n",
       "        [0.   , 0.   , 0.   ],\n",
       "        [0.5  , 0.5  , 0.5  ],\n",
       "        [0.625, 0.25 , 0.625],\n",
       "        [0.5  , 0.25 , 0.75 ],\n",
       "        [0.5  , 0.5  , 0.5  ],\n",
       "        [0.375, 0.375, 0.75 ],\n",
       "        [0.625, 0.25 , 0.625],\n",
       "        [0.5  , 0.   , 0.5  ]]), 'kptopt': -11, 'ndivsm': 10, 'iscf': -2}"
      ]
     },
     "execution_count": 100,
     "metadata": {},
     "output_type": "execute_result"
    }
   ],
   "source": [
    "inp.set_kpath(ndivsm=10)"
   ]
  },
  {
   "cell_type": "markdown",
   "metadata": {
    "slideshow": {
     "slide_type": "-"
    }
   },
   "source": [
    "* Ten points to sample the smallest segment of the **k**-path\n",
    "* Other segments are sampled so that proportions are preserved"
   ]
  },
  {
   "cell_type": "markdown",
   "metadata": {
    "slideshow": {
     "slide_type": "slide"
    }
   },
   "source": [
    "## Interfacing Abinit with Python via *AbinitInput*\n",
    "\n",
    "* Once we have an *AbinitInput*, it is possible to execute Abinit to:\n",
    "\n",
    "    * get useful information from the Fortran code (e.g. IBZ, space group…)\n",
    "    * validate the input file before running the calculation \n",
    "        \n",
    "* Methods invoking Abinit start with the *abi* prefix followed by a verb: \n",
    "\n",
    "    * *inp.abiget_irred_phperts(...)* \n",
    "    * *inp.abivalidate()*\n",
    "\n",
    "#### Important: \n",
    "\n",
    "* To call Abinit from AbiPy, one has to prepare a configuration file (*manager.yml*)\n",
    "  providing all the information required to execute/submit Abinit jobs: \n",
    "\n",
    "     * `$PATH`, `$LD_LIBRARY_PATH`\n",
    "     * modules\n",
    "     * python environment\n",
    "\n",
    "\n",
    "* For futher info consult the [documentation](https://abinit.github.io/abipy/workflows/taskmanager.html)\n",
    "\n"
   ]
  },
  {
   "cell_type": "markdown",
   "metadata": {
    "slideshow": {
     "slide_type": "subslide"
    }
   },
   "source": [
    "## Example of *manager.yml* for laptops (shell adapter)\n",
    "<hr>\n",
    "\n",
    "```yaml\n",
    "\n",
    "qadapters:\n",
    "  # List of qadapters objects \n",
    "  - priority: 1 \n",
    "    queue:\n",
    "      qtype: shell\n",
    "      qname: localhost\n",
    "    job:\n",
    "       mpi_runner: mpirun\n",
    "       pre_run: \n",
    "           # abinit exec must be in $PATH\n",
    "           - export PATH=$HOME/git_repos/abinit/_build/src/98_main:$PATH\n",
    "    limits:\n",
    "       timelimit: 30:00\n",
    "       max_cores: 2\n",
    "    hardware:\n",
    "       num_nodes: 2\n",
    "       sockets_per_node: 1\n",
    "       cores_per_socket: 2\n",
    "       mem_per_node: 4Gb\n",
    "```\n",
    "\n",
    "* Examples of configuration files for clusters are available [here](https://abinit.github.io/abipy/workflows/manager_examples.html)\n",
    "\n",
    "* Use *abirun.py doc_manager* to get documentation inside the shell"
   ]
  },
  {
   "cell_type": "markdown",
   "metadata": {
    "slideshow": {
     "slide_type": "subslide"
    }
   },
   "source": [
    "## An example for a Slurm-based cluster\n",
    "<hr>\n",
    "\n",
    "```yaml\n",
    "\n",
    "hardware: &hardware\n",
    "   num_nodes: 80\n",
    "   sockets_per_node: 2\n",
    "   cores_per_socket: 12\n",
    "   mem_per_node: 95Gb\n",
    "\n",
    "job: &job\n",
    "    mpi_runner: mpirun\n",
    "    modules: # Load modules used to compile Abinit \n",
    "        - intel/2017b\n",
    "        - netCDF-Fortran/4.4.4-intel-2017b\n",
    "        - abinit_8.11\n",
    "    pre_run: \"ulimit -s unlimited\"\n",
    "\n",
    "# Slurm options.\n",
    "qadapters:\n",
    "  - priority: 1\n",
    "    queue:\n",
    "       qtype: slurm\n",
    "       #qname: Def\n",
    "    limits:\n",
    "       timelimit: 0-0:30:00\n",
    "       min_cores: 1\n",
    "       max_cores: 12\n",
    "       min_mem_per_proc: 1000\n",
    "       max_mem_per_proc: 2000\n",
    "       max_num_launches: 10\n",
    "    hardware: *hardware\n",
    "    job: *job\n",
    "```"
   ]
  },
  {
   "cell_type": "markdown",
   "metadata": {
    "slideshow": {
     "slide_type": "subslide"
    }
   },
   "source": [
    "#### To get the list of k-points in the IBZ as computed by Abinit:"
   ]
  },
  {
   "cell_type": "code",
   "execution_count": 101,
   "metadata": {
    "slideshow": {
     "slide_type": "-"
    }
   },
   "outputs": [
    {
     "name": "stdout",
     "output_type": "stream",
     "text": [
      "Number of k-points: 198\n",
      "Weights normalized to: 198.0\n",
      "0 kpt: [0. 0. 0.] weight: 1.0\n",
      "1 kpt: [0.01785714 0.         0.01785714] weight: 1.0\n",
      "2 kpt: [0.03571429 0.         0.03571429] weight: 1.0\n",
      "3 kpt: [0.05357143 0.         0.05357143] weight: 1.0\n",
      "4 kpt: [0.07142857 0.         0.07142857] weight: 1.0\n",
      "...\n"
     ]
    }
   ],
   "source": [
    "ibz = inp.abiget_ibz()\n",
    "\n",
    "print(\"Number of k-points:\", len(ibz.points))\n",
    "print(\"Weights normalized to:\", ibz.weights.sum())\n",
    "n = min(5, len(ibz.points))\n",
    "for i, (k, w) in enumerate(zip(ibz.points[:n], ibz.weights[:n])):\n",
    "    print(i, \"kpt:\", k, \"weight:\", w)\n",
    "if n != len(ibz.points): print(\"...\")"
   ]
  },
  {
   "cell_type": "markdown",
   "metadata": {
    "slideshow": {
     "slide_type": "subslide"
    }
   },
   "source": [
    "#### To get the list of possible parallel configurations for this input up to *max_ncpus*:"
   ]
  },
  {
   "cell_type": "code",
   "execution_count": 102,
   "metadata": {
    "slideshow": {
     "slide_type": "-"
    }
   },
   "outputs": [
    {
     "name": "stdout",
     "output_type": "stream",
     "text": [
      "Best efficiency:\n",
      " {'efficiency': 0.8465,\n",
      " 'mem_per_cpu': 0.0,\n",
      " 'mpi_ncpus': 5,\n",
      " 'omp_ncpus': 1,\n",
      " 'tot_ncpus': 5,\n",
      " 'vars': {'bandpp': 1,\n",
      "          'npband': 1,\n",
      "          'npfft': 1,\n",
      "          'npimage': 1,\n",
      "          'npkpt': 5,\n",
      "          'npspinor': 1}}\n",
      "\n",
      "Best speedup:\n",
      " {'efficiency': 0.8465,\n",
      " 'mem_per_cpu': 0.0,\n",
      " 'mpi_ncpus': 5,\n",
      " 'omp_ncpus': 1,\n",
      " 'tot_ncpus': 5,\n",
      " 'vars': {'bandpp': 1,\n",
      "          'npband': 1,\n",
      "          'npfft': 1,\n",
      "          'npimage': 1,\n",
      "          'npkpt': 5,\n",
      "          'npspinor': 1}}\n",
      "\n"
     ]
    }
   ],
   "source": [
    "inp[\"paral_kgb\"] = 1\n",
    "pconfs = inp.abiget_autoparal_pconfs(max_ncpus=5)\n",
    "print(\"Best efficiency:\\n\", pconfs.sort_by_efficiency()[0])\n",
    "print(\"Best speedup:\\n\", pconfs.sort_by_speedup()[0])"
   ]
  },
  {
   "cell_type": "markdown",
   "metadata": {
    "slideshow": {
     "slide_type": "subslide"
    }
   },
   "source": [
    "#### To get the list of irreducible phonon perturbations for a given q-point:"
   ]
  },
  {
   "cell_type": "code",
   "execution_count": 103,
   "metadata": {
    "slideshow": {
     "slide_type": "-"
    }
   },
   "outputs": [
    {
     "data": {
      "text/plain": [
       "[{'qpt': [0.25, 0.0, 0.0], 'ipert': 1, 'idir': 1},\n",
       " {'qpt': [0.25, 0.0, 0.0], 'ipert': 1, 'idir': 2}]"
      ]
     },
     "execution_count": 103,
     "metadata": {},
     "output_type": "execute_result"
    }
   ],
   "source": [
    "inp.abiget_irred_phperts(qpt=(0.25, 0, 0))"
   ]
  },
  {
   "cell_type": "markdown",
   "metadata": {
    "slideshow": {
     "slide_type": "-"
    }
   },
   "source": [
    "#### To get the irreducible perturbations for strain calculations:"
   ]
  },
  {
   "cell_type": "code",
   "execution_count": 104,
   "metadata": {
    "slideshow": {
     "slide_type": "-"
    }
   },
   "outputs": [
    {
     "data": {
      "text/plain": [
       "[{'qpt': [0.0, 0.0, 0.0], 'ipert': 1, 'idir': 1},\n",
       " {'qpt': [0.0, 0.0, 0.0], 'ipert': 5, 'idir': 1},\n",
       " {'qpt': [0.0, 0.0, 0.0], 'ipert': 5, 'idir': 2},\n",
       " {'qpt': [0.0, 0.0, 0.0], 'ipert': 5, 'idir': 3},\n",
       " {'qpt': [0.0, 0.0, 0.0], 'ipert': 6, 'idir': 1},\n",
       " {'qpt': [0.0, 0.0, 0.0], 'ipert': 6, 'idir': 2},\n",
       " {'qpt': [0.0, 0.0, 0.0], 'ipert': 6, 'idir': 3}]"
      ]
     },
     "execution_count": 104,
     "metadata": {},
     "output_type": "execute_result"
    }
   ],
   "source": [
    "inp.abiget_irred_strainperts()"
   ]
  },
  {
   "cell_type": "markdown",
   "metadata": {
    "slideshow": {
     "slide_type": "-"
    }
   },
   "source": [
    "* DFPT perturbations are independent hence jobs can be executed in parallel\n",
    "* These methods represent the **building block** to generate workflows at runtime.\n",
    "<!-- div class=\"alert alert-info\"> </div -->"
   ]
  },
  {
   "cell_type": "markdown",
   "metadata": {
    "slideshow": {
     "slide_type": "subslide"
    }
   },
   "source": [
    "## Multiple Datasets\n",
    "\n",
    "* List of *AbinitInput* objects\n",
    "* A handy tool to generate multiple input files with common variables:\n",
    "     \n",
    "    * Convergence studies (same structure, different *ngkpt*, *tsmear* …)\n",
    "    * Input files for calculations requiring multiple steps (DFPT, $GW$)\n",
    "\n",
    "#### Let's build a *MultiDataset* containing two datasets:"
   ]
  },
  {
   "cell_type": "code",
   "execution_count": 105,
   "metadata": {
    "slideshow": {
     "slide_type": "-"
    }
   },
   "outputs": [],
   "source": [
    "multi = abilab.MultiDataset(structure=\"si.cif\", pseudos=\"14si.pspnc\", ndtset=2)\n",
    "\n",
    "multi.set_vars(ecut=4);"
   ]
  },
  {
   "cell_type": "markdown",
   "metadata": {},
   "source": [
    "#### Iterating over *multi* gives *AbinitInput* objects:"
   ]
  },
  {
   "cell_type": "code",
   "execution_count": 106,
   "metadata": {},
   "outputs": [
    {
     "data": {
      "text/plain": [
       "True"
      ]
     },
     "execution_count": 106,
     "metadata": {},
     "output_type": "execute_result"
    }
   ],
   "source": [
    "all(inp[\"ecut\"] == 4 for inp in multi)"
   ]
  },
  {
   "cell_type": "markdown",
   "metadata": {
    "slideshow": {
     "slide_type": "subslide"
    }
   },
   "source": [
    "#### To set the variables of a particular dataset, use:"
   ]
  },
  {
   "cell_type": "code",
   "execution_count": 107,
   "metadata": {
    "slideshow": {
     "slide_type": "-"
    }
   },
   "outputs": [],
   "source": [
    "multi[0].set_vars(ngkpt=[2, 2, 2], tsmear=0.004)\n",
    "multi[1].set_vars(ngkpt=[4, 4, 4], tsmear=0.008);"
   ]
  },
  {
   "cell_type": "markdown",
   "metadata": {
    "slideshow": {
     "slide_type": "-"
    }
   },
   "source": [
    "#### To get a dataframe with the values of the variables, use:"
   ]
  },
  {
   "cell_type": "code",
   "execution_count": 108,
   "metadata": {
    "slideshow": {
     "slide_type": "-"
    }
   },
   "outputs": [
    {
     "data": {
      "text/html": [
       "<div>\n",
       "<style scoped>\n",
       "    .dataframe tbody tr th:only-of-type {\n",
       "        vertical-align: middle;\n",
       "    }\n",
       "\n",
       "    .dataframe tbody tr th {\n",
       "        vertical-align: top;\n",
       "    }\n",
       "\n",
       "    .dataframe thead th {\n",
       "        text-align: right;\n",
       "    }\n",
       "</style>\n",
       "<table border=\"1\" class=\"dataframe\">\n",
       "  <thead>\n",
       "    <tr style=\"text-align: right;\">\n",
       "      <th></th>\n",
       "      <th>ngkpt</th>\n",
       "      <th>tsmear</th>\n",
       "    </tr>\n",
       "  </thead>\n",
       "  <tbody>\n",
       "    <tr>\n",
       "      <th>dataset 0</th>\n",
       "      <td>[2, 2, 2]</td>\n",
       "      <td>0.004</td>\n",
       "    </tr>\n",
       "    <tr>\n",
       "      <th>dataset 1</th>\n",
       "      <td>[4, 4, 4]</td>\n",
       "      <td>0.008</td>\n",
       "    </tr>\n",
       "  </tbody>\n",
       "</table>\n",
       "</div>"
      ],
      "text/plain": [
       "               ngkpt  tsmear\n",
       "dataset 0  [2, 2, 2]   0.004\n",
       "dataset 1  [4, 4, 4]   0.008"
      ]
     },
     "execution_count": 108,
     "metadata": {},
     "output_type": "execute_result"
    }
   ],
   "source": [
    "multi.get_vars_dataframe(\"ngkpt\", \"tsmear\")"
   ]
  },
  {
   "cell_type": "markdown",
   "metadata": {
    "slideshow": {
     "slide_type": "-"
    }
   },
   "source": [
    "#### The function *split_datasets* returns the list of *AbinitInput* stored in *MultiDataset*"
   ]
  },
  {
   "cell_type": "code",
   "execution_count": 109,
   "metadata": {
    "slideshow": {
     "slide_type": "-"
    }
   },
   "outputs": [],
   "source": [
    "gs1, gs2 = multi.split_datasets()"
   ]
  },
  {
   "cell_type": "markdown",
   "metadata": {
    "slideshow": {
     "slide_type": "slide"
    }
   },
   "source": [
    "## Factory functions for typical calculations\n",
    "\n",
    "* Functions returning *AbinitInput* or *MultiDataset* depending on the calculation type\n",
    "* Minimal input from user:\n",
    "\n",
    "     * *structure* object or file providing it\n",
    "     * list of *pseudos*\n",
    "     * *metavariables* e.g. *kppra* for the BZ sampling\n",
    "     \n",
    "* Default values designed to cover the most common scenarios\n",
    "* Less flexible than the low-level API but easier to use\n",
    "* Optional arguments to change the default behaviour (smearing=\"gaussian:0.1 eV\")\n",
    "* For a command line interface, use the *abinp.py* script.\n",
    "\n",
    "#### To build an input for SCF+NSCF run with (relaxed) structure from the materials project database:\n",
    "\n",
    "\n",
    "        abinp.py ebands mp-149 \n",
    "\n",
    "\n",
    "### Some examples..."
   ]
  },
  {
   "cell_type": "markdown",
   "metadata": {
    "slideshow": {
     "slide_type": "skip"
    }
   },
   "source": [
    "### Input file for band structure calculation + DOS\n",
    "\n",
    "1. GS run to get the density \n",
    "2. NSCF run along high-symmetry **k**-path\n",
    "3. NSCF run with **k**-mesh to compute the DOS"
   ]
  },
  {
   "cell_type": "code",
   "execution_count": 110,
   "metadata": {
    "slideshow": {
     "slide_type": "skip"
    }
   },
   "outputs": [
    {
     "data": {
      "text/html": [
       "<div>\n",
       "<style scoped>\n",
       "    .dataframe tbody tr th:only-of-type {\n",
       "        vertical-align: middle;\n",
       "    }\n",
       "\n",
       "    .dataframe tbody tr th {\n",
       "        vertical-align: top;\n",
       "    }\n",
       "\n",
       "    .dataframe thead th {\n",
       "        text-align: right;\n",
       "    }\n",
       "</style>\n",
       "<table border=\"1\" class=\"dataframe\">\n",
       "  <thead>\n",
       "    <tr style=\"text-align: right;\">\n",
       "      <th></th>\n",
       "      <th>kptopt</th>\n",
       "      <th>iscf</th>\n",
       "      <th>ngkpt</th>\n",
       "    </tr>\n",
       "  </thead>\n",
       "  <tbody>\n",
       "    <tr>\n",
       "      <th>dataset 0</th>\n",
       "      <td>1</td>\n",
       "      <td>None</td>\n",
       "      <td>[8, 8, 8]</td>\n",
       "    </tr>\n",
       "    <tr>\n",
       "      <th>dataset 1</th>\n",
       "      <td>-11</td>\n",
       "      <td>-2</td>\n",
       "      <td>None</td>\n",
       "    </tr>\n",
       "    <tr>\n",
       "      <th>dataset 2</th>\n",
       "      <td>1</td>\n",
       "      <td>-2</td>\n",
       "      <td>[14, 14, 14]</td>\n",
       "    </tr>\n",
       "  </tbody>\n",
       "</table>\n",
       "</div>"
      ],
      "text/plain": [
       "           kptopt  iscf         ngkpt\n",
       "dataset 0       1  None     [8, 8, 8]\n",
       "dataset 1     -11    -2          None\n",
       "dataset 2       1    -2  [14, 14, 14]"
      ]
     },
     "execution_count": 110,
     "metadata": {},
     "output_type": "execute_result"
    }
   ],
   "source": [
    "multi = abilab.ebands_input(structure=\"si.cif\", \n",
    "                            pseudos=\"14si.pspnc\",\n",
    "                            ecut=8, \n",
    "                            spin_mode=\"unpolarized\", \n",
    "                            smearing=None, \n",
    "                            dos_kppa=5000)\n",
    "\n",
    "multi.get_vars_dataframe(\"kptopt\", \"iscf\", \"ngkpt\")"
   ]
  },
  {
   "cell_type": "markdown",
   "metadata": {
    "slideshow": {
     "slide_type": "skip"
    }
   },
   "source": [
    "#### To build an input for SCF+NSCF run with (relaxed) structure from the materials project database:\n",
    "\n",
    "\n",
    "        abinp.py ebands mp-149          "
   ]
  },
  {
   "cell_type": "markdown",
   "metadata": {
    "slideshow": {
     "slide_type": "skip"
    }
   },
   "source": [
    "#### $GW$ calculations with the plasmon-pole model. The calculation consists of:\n",
    "\n",
    "1. GS run to compute the density \n",
    "2. nscf-run to produce a WFK file with *nscf_nband* states\n",
    "3. Input files to compute the screening ($W$) and the self-energy ($\\Sigma^{e-e} = GW$)"
   ]
  },
  {
   "cell_type": "code",
   "execution_count": 111,
   "metadata": {
    "scrolled": false,
    "slideshow": {
     "slide_type": "skip"
    }
   },
   "outputs": [
    {
     "data": {
      "text/html": [
       "<div>\n",
       "<style scoped>\n",
       "    .dataframe tbody tr th:only-of-type {\n",
       "        vertical-align: middle;\n",
       "    }\n",
       "\n",
       "    .dataframe tbody tr th {\n",
       "        vertical-align: top;\n",
       "    }\n",
       "\n",
       "    .dataframe thead th {\n",
       "        text-align: right;\n",
       "    }\n",
       "</style>\n",
       "<table border=\"1\" class=\"dataframe\">\n",
       "  <thead>\n",
       "    <tr style=\"text-align: right;\">\n",
       "      <th></th>\n",
       "      <th>optdriver</th>\n",
       "      <th>ngkpt</th>\n",
       "      <th>nband</th>\n",
       "      <th>ecuteps</th>\n",
       "      <th>ecutsigx</th>\n",
       "    </tr>\n",
       "  </thead>\n",
       "  <tbody>\n",
       "    <tr>\n",
       "      <th>dataset 0</th>\n",
       "      <td>None</td>\n",
       "      <td>[8, 8, 8]</td>\n",
       "      <td>14</td>\n",
       "      <td>None</td>\n",
       "      <td>None</td>\n",
       "    </tr>\n",
       "    <tr>\n",
       "      <th>dataset 1</th>\n",
       "      <td>None</td>\n",
       "      <td>[8, 8, 8]</td>\n",
       "      <td>50</td>\n",
       "      <td>None</td>\n",
       "      <td>None</td>\n",
       "    </tr>\n",
       "    <tr>\n",
       "      <th>dataset 2</th>\n",
       "      <td>3</td>\n",
       "      <td>[8, 8, 8]</td>\n",
       "      <td>50</td>\n",
       "      <td>2</td>\n",
       "      <td>None</td>\n",
       "    </tr>\n",
       "    <tr>\n",
       "      <th>dataset 3</th>\n",
       "      <td>4</td>\n",
       "      <td>[8, 8, 8]</td>\n",
       "      <td>50</td>\n",
       "      <td>2</td>\n",
       "      <td>4</td>\n",
       "    </tr>\n",
       "  </tbody>\n",
       "</table>\n",
       "</div>"
      ],
      "text/plain": [
       "          optdriver      ngkpt  nband ecuteps ecutsigx\n",
       "dataset 0      None  [8, 8, 8]     14    None     None\n",
       "dataset 1      None  [8, 8, 8]     50    None     None\n",
       "dataset 2         3  [8, 8, 8]     50       2     None\n",
       "dataset 3         4  [8, 8, 8]     50       2        4"
      ]
     },
     "execution_count": 111,
     "metadata": {},
     "output_type": "execute_result"
    }
   ],
   "source": [
    "multi = abilab.g0w0_with_ppmodel_inputs(\n",
    "    structure=\"si.cif\", pseudos=\"14si.pspnc\", \n",
    "    kppa=1000, nscf_nband=50, ecuteps=2, ecutsigx=4, ecut=8, \n",
    "    spin_mode=\"unpolarized\")\n",
    "\n",
    "multi.get_vars_dataframe(\"optdriver\", \"ngkpt\", \"nband\", \"ecuteps\", \"ecutsigx\")"
   ]
  },
  {
   "cell_type": "markdown",
   "metadata": {
    "slideshow": {
     "slide_type": "skip"
    }
   },
   "source": [
    "* *nscf_nband*  ➝ number of bands in $GW$ (occ + empty)\n",
    "* *ecuteps* ➝ planewave cutoff for $W_{G, G'}$ in Hartree \n",
    "* *ecutsigx* ➝ cutoff energy for the exchange part $\\Sigma_x$\n",
    "* *kppa* ➝ k-point sampling (#kpts per reciprocal atom)"
   ]
  },
  {
   "cell_type": "markdown",
   "metadata": {
    "slideshow": {
     "slide_type": "subslide"
    }
   },
   "source": [
    "## Main features\n",
    "\n",
    "* Support for different resource managers (*Slurm*, *PBS*, *Torque*, *SGE*, *LoadLever*, *shell*)\n",
    "* *autoparal*: the number of MPI processes is optimized at runtime\n",
    "* Error handlers for common runtime failures\n",
    "* Iterative algorithms are automatically restarted by the framework\n",
    "\n",
    "<img src=\"./assets/not_converged_task_2.png\" width=\"45%\" align=\"center\">"
   ]
  },
  {
   "cell_type": "markdown",
   "metadata": {
    "slideshow": {
     "slide_type": "subslide"
    }
   },
   "source": [
    "## Object-oriented API and inheritance diagram\n",
    "\n",
    "* Task objects to handle different types of calculations\n",
    "* Automated handling of dependencies (WFK, DEN, DDB, …)\n",
    "* Workflow generators for common cases\n",
    "\n",
    "   * Relaxation\n",
    "   * Band structures\n",
    "   * Phonons\n",
    "\n",
    "* Templates for database insertion based on *mongoengine* and *mongodb* documents\n",
    "\n",
    "<img src=\"./assets/class_hierarchy.png\" width=\"70%\" align=\"center\">\n",
    "\n",
    "<!-- \n",
    "* Automatized choice of number of cores (*autoparal*)\n",
    "* Error handling\n",
    "-->"
   ]
  },
  {
   "cell_type": "markdown",
   "metadata": {
    "slideshow": {
     "slide_type": "slide"
    }
   },
   "source": [
    "### How to build an AbiPy workflow\n",
    "\n",
    "<!--\n",
    "https://nbviewer.jupyter.org/github/abinit/abitutorials/blob/master/abitutorials/dfpt/lesson_dfpt.ipynb\n",
    "\n",
    "The function makes some assumptions for important parameters such as the crystalline structure and the pseudos. This is done on purpose to keep the code as simple as possible. It should not be so difficult to generalize the implementation to take into account other cases. Let's start to play with our new function:\n",
    "\n",
    "To explain in more details the syntax and the API used in AbiPy to build a flow with dependencies, let's build a Flow from scratch.\n",
    "-->\n",
    "\n",
    "Let's start with an empty flow in the *hello_flow* directory "
   ]
  },
  {
   "cell_type": "code",
   "execution_count": 112,
   "metadata": {
    "slideshow": {
     "slide_type": "-"
    }
   },
   "outputs": [],
   "source": [
    "from abipy import flowtk\n",
    "hello_flow = flowtk.Flow(workdir=\"hello_flow\")"
   ]
  },
  {
   "cell_type": "markdown",
   "metadata": {
    "slideshow": {
     "slide_type": "-"
    }
   },
   "source": [
    "and use the [graphviz tool](https://www.graphviz.org/) after each step to show what's happening."
   ]
  },
  {
   "cell_type": "code",
   "execution_count": 113,
   "metadata": {
    "scrolled": true
   },
   "outputs": [
    {
     "data": {
      "image/svg+xml": [
       "<?xml version=\"1.0\" encoding=\"UTF-8\" standalone=\"no\"?>\n",
       "<!DOCTYPE svg PUBLIC \"-//W3C//DTD SVG 1.1//EN\"\n",
       " \"http://www.w3.org/Graphics/SVG/1.1/DTD/svg11.dtd\">\n",
       "<!-- Generated by graphviz version 2.40.1 (20161225.0304)\n",
       " -->\n",
       "<!-- Title: flow Pages: 1 -->\n",
       "<svg width=\"252pt\" height=\"66pt\"\n",
       " viewBox=\"0.00 0.00 251.99 66.00\" xmlns=\"http://www.w3.org/2000/svg\" xmlns:xlink=\"http://www.w3.org/1999/xlink\">\n",
       "<g id=\"graph0\" class=\"graph\" transform=\"scale(1 1) rotate(0) translate(11.9927 40)\">\n",
       "<title>flow</title>\n",
       "<polygon fill=\"#ffffff\" stroke=\"transparent\" points=\"-11.9927,26 -11.9927,-40 239.9927,-40 239.9927,26 -11.9927,26\"/>\n",
       "<text text-anchor=\"start\" x=\".0073\" y=\"15.2\" font-family=\"Times,serif\" font-size=\"14.00\" fill=\"#000000\">Flow, node_id=566, workdir=hello_flow</text>\n",
       "</g>\n",
       "</svg>\n"
      ],
      "text/plain": [
       "<graphviz.dot.Digraph at 0x1c2b05c6a0>"
      ]
     },
     "execution_count": 113,
     "metadata": {},
     "output_type": "execute_result"
    }
   ],
   "source": [
    "hello_flow.get_graphviz()"
   ]
  },
  {
   "cell_type": "markdown",
   "metadata": {
    "slideshow": {
     "slide_type": "subslide"
    }
   },
   "source": [
    "#### We also need a function returning two inputs for SCF/NSCF run:"
   ]
  },
  {
   "cell_type": "code",
   "execution_count": 114,
   "metadata": {
    "slideshow": {
     "slide_type": "subslide"
    }
   },
   "outputs": [],
   "source": [
    "def make_scf_nscf_inputs():\n",
    "    \"\"\"\n",
    "    Build and return two input files for the GS-SCF and the GS-NSCF tasks.\n",
    "    \"\"\"\n",
    "    multi = abilab.MultiDataset(structure=\"si.cif\", pseudos=\"14si.pspnc\", ndtset=2)\n",
    "\n",
    "    # Set global variables (dataset1 and dataset2)\n",
    "    multi.set_vars(ecut=6, nband=8)\n",
    "\n",
    "    # Dataset 1 (GS-SCF run)\n",
    "    multi[0].set_kmesh(ngkpt=[8, 8, 8], shiftk=[0, 0, 0])\n",
    "    multi[0].set_vars(tolvrs=1e-6)\n",
    "\n",
    "    # Dataset 2 (GS-NSCF run on a k-path)\n",
    "    kptbounds = [\n",
    "        [0.5, 0.0, 0.0], # L point\n",
    "        [0.0, 0.0, 0.0], # Gamma point\n",
    "        [0.0, 0.5, 0.5], # X point\n",
    "    ]\n",
    "\n",
    "    multi[1].set_kpath(ndivsm=6, kptbounds=kptbounds)\n",
    "    multi[1].set_vars(tolwfr=1e-12)\n",
    "    \n",
    "    # Return two input files for the GS and the NSCF run\n",
    "    scf_input, nscf_input = multi.split_datasets()\n",
    "    return scf_input, nscf_input"
   ]
  },
  {
   "cell_type": "markdown",
   "metadata": {
    "slideshow": {
     "slide_type": "-"
    }
   },
   "source": [
    "#### In terms of factory functions, similar results can be obtained with:"
   ]
  },
  {
   "cell_type": "code",
   "execution_count": 115,
   "metadata": {
    "slideshow": {
     "slide_type": "-"
    }
   },
   "outputs": [],
   "source": [
    "from abipy.abio.factories import ebands_input\n",
    "scf_input, nscf_input = ebands_input(structure=\"si.cif\", pseudos=\"14si.pspnc\")"
   ]
  },
  {
   "cell_type": "markdown",
   "metadata": {
    "slideshow": {
     "slide_type": "subslide"
    }
   },
   "source": [
    "#### To add a *Task* we create an *AbinitInput* and we register it in the flow:"
   ]
  },
  {
   "cell_type": "code",
   "execution_count": 116,
   "metadata": {
    "slideshow": {
     "slide_type": "-"
    }
   },
   "outputs": [
    {
     "data": {
      "image/svg+xml": [
       "<?xml version=\"1.0\" encoding=\"UTF-8\" standalone=\"no\"?>\n",
       "<!DOCTYPE svg PUBLIC \"-//W3C//DTD SVG 1.1//EN\"\n",
       " \"http://www.w3.org/Graphics/SVG/1.1/DTD/svg11.dtd\">\n",
       "<!-- Generated by graphviz version 2.40.1 (20161225.0304)\n",
       " -->\n",
       "<!-- Title: flow Pages: 1 -->\n",
       "<svg width=\"252pt\" height=\"104pt\"\n",
       " viewBox=\"0.00 0.00 251.99 104.00\" xmlns=\"http://www.w3.org/2000/svg\" xmlns:xlink=\"http://www.w3.org/1999/xlink\">\n",
       "<g id=\"graph0\" class=\"graph\" transform=\"scale(1 1) rotate(0) translate(11.9927 78)\">\n",
       "<title>flow</title>\n",
       "<polygon fill=\"#ffffff\" stroke=\"transparent\" points=\"-11.9927,26 -11.9927,-78 239.9927,-78 239.9927,26 -11.9927,26\"/>\n",
       "<text text-anchor=\"start\" x=\".0073\" y=\"15.2\" font-family=\"Times,serif\" font-size=\"14.00\" fill=\"#000000\">Flow, node_id=566, workdir=hello_flow</text>\n",
       "<g id=\"clust1\" class=\"cluster\">\n",
       "<title>clusterw0</title>\n",
       "<path fill=\"#e0eeee\" stroke=\"#000000\" d=\"M88.2381,.3591C88.2381,.3591 140.2381,.3591 140.2381,.3591 146.2381,.3591 152.2381,-5.6409 152.2381,-11.6409 152.2381,-11.6409 152.2381,-61.6409 152.2381,-61.6409 152.2381,-67.6409 146.2381,-73.6409 140.2381,-73.6409 140.2381,-73.6409 88.2381,-73.6409 88.2381,-73.6409 82.2381,-73.6409 76.2381,-67.6409 76.2381,-61.6409 76.2381,-61.6409 76.2381,-11.6409 76.2381,-11.6409 76.2381,-5.6409 82.2381,.3591 88.2381,.3591\"/>\n",
       "<text text-anchor=\"middle\" x=\"114.2381\" y=\"-58.4409\" font-family=\"Times,serif\" font-size=\"14.00\" fill=\"#000000\">Work (w0)</text>\n",
       "</g>\n",
       "<!-- w0_t0 -->\n",
       "<g id=\"node1\" class=\"node\">\n",
       "<title>w0_t0</title>\n",
       "<ellipse fill=\"#ff0000\" stroke=\"#ff0000\" cx=\"114.4762\" cy=\"-25.2818\" rx=\"27.8878\" ry=\"18\"/>\n",
       "<text text-anchor=\"middle\" x=\"114.4762\" y=\"-26.8818\" font-family=\"Times,serif\" font-size=\"8.00\" fill=\"#000000\">w0_t0</text>\n",
       "<text text-anchor=\"middle\" x=\"114.4762\" y=\"-18.8818\" font-family=\"Times,serif\" font-size=\"8.00\" fill=\"#000000\">ScfTask</text>\n",
       "</g>\n",
       "</g>\n",
       "</svg>\n"
      ],
      "text/plain": [
       "<graphviz.dot.Digraph at 0x1c2aa8acf8>"
      ]
     },
     "execution_count": 116,
     "metadata": {},
     "output_type": "execute_result"
    }
   ],
   "source": [
    "scf_input, nscf_input = make_scf_nscf_inputs()\n",
    "\n",
    "hello_flow.register_scf_task(scf_input, append=True)\n",
    "hello_flow.get_graphviz()"
   ]
  },
  {
   "cell_type": "markdown",
   "metadata": {
    "slideshow": {
     "slide_type": "-"
    }
   },
   "source": [
    "#### To select the first *work*:"
   ]
  },
  {
   "cell_type": "code",
   "execution_count": 117,
   "metadata": {
    "slideshow": {
     "slide_type": "-"
    }
   },
   "outputs": [
    {
     "data": {
      "text/plain": [
       "<Work, node_id=567, workdir=hello_flow/w0>"
      ]
     },
     "execution_count": 117,
     "metadata": {},
     "output_type": "execute_result"
    }
   ],
   "source": [
    "hello_flow[0]"
   ]
  },
  {
   "cell_type": "markdown",
   "metadata": {
    "slideshow": {
     "slide_type": "-"
    }
   },
   "source": [
    "#### To select the first *task* of the first *work*:"
   ]
  },
  {
   "cell_type": "code",
   "execution_count": 118,
   "metadata": {
    "slideshow": {
     "slide_type": "-"
    }
   },
   "outputs": [
    {
     "data": {
      "text/plain": [
       "<ScfTask, node_id=568, workdir=hello_flow/w0/t0>"
      ]
     },
     "execution_count": 118,
     "metadata": {},
     "output_type": "execute_result"
    }
   ],
   "source": [
    "hello_flow[0][0]"
   ]
  },
  {
   "cell_type": "markdown",
   "metadata": {
    "slideshow": {
     "slide_type": "subslide"
    }
   },
   "source": [
    "### How to define dependencies\n",
    "\n",
    "* Let's add NSCF calculation that depends on the *scf_task* through the DEN file.\n",
    "* Dependencies are specified via the {*task*: \"file_ext\"} dictionary"
   ]
  },
  {
   "cell_type": "code",
   "execution_count": 119,
   "metadata": {
    "slideshow": {
     "slide_type": "-"
    }
   },
   "outputs": [
    {
     "data": {
      "image/svg+xml": [
       "<?xml version=\"1.0\" encoding=\"UTF-8\" standalone=\"no\"?>\n",
       "<!DOCTYPE svg PUBLIC \"-//W3C//DTD SVG 1.1//EN\"\n",
       " \"http://www.w3.org/Graphics/SVG/1.1/DTD/svg11.dtd\">\n",
       "<!-- Generated by graphviz version 2.40.1 (20161225.0304)\n",
       " -->\n",
       "<!-- Title: flow Pages: 1 -->\n",
       "<svg width=\"261pt\" height=\"120pt\"\n",
       " viewBox=\"0.00 0.00 260.51 120.00\" xmlns=\"http://www.w3.org/2000/svg\" xmlns:xlink=\"http://www.w3.org/1999/xlink\">\n",
       "<g id=\"graph0\" class=\"graph\" transform=\"scale(1 1) rotate(0) translate(4 116)\">\n",
       "<title>flow</title>\n",
       "<polygon fill=\"#ffffff\" stroke=\"transparent\" points=\"-4,4 -4,-116 256.5067,-116 256.5067,4 -4,4\"/>\n",
       "<text text-anchor=\"start\" x=\"12.2607\" y=\"-6.8\" font-family=\"Times,serif\" font-size=\"14.00\" fill=\"#000000\">Flow, node_id=566, workdir=hello_flow</text>\n",
       "<g id=\"clust1\" class=\"cluster\">\n",
       "<title>clusterw0</title>\n",
       "<path fill=\"#e0eeee\" stroke=\"#000000\" d=\"M20,-30C20,-30 232.5067,-30 232.5067,-30 238.5067,-30 244.5067,-36 244.5067,-42 244.5067,-42 244.5067,-92 244.5067,-92 244.5067,-98 238.5067,-104 232.5067,-104 232.5067,-104 20,-104 20,-104 14,-104 8,-98 8,-92 8,-92 8,-42 8,-42 8,-36 14,-30 20,-30\"/>\n",
       "<text text-anchor=\"middle\" x=\"126.2533\" y=\"-88.8\" font-family=\"Times,serif\" font-size=\"14.00\" fill=\"#000000\">Work (w0)</text>\n",
       "</g>\n",
       "<!-- w0_t0 -->\n",
       "<g id=\"node1\" class=\"node\">\n",
       "<title>w0_t0</title>\n",
       "<ellipse fill=\"#ff0000\" stroke=\"#ff0000\" cx=\"43.9439\" cy=\"-56\" rx=\"27.8878\" ry=\"18\"/>\n",
       "<text text-anchor=\"middle\" x=\"43.9439\" y=\"-57.6\" font-family=\"Times,serif\" font-size=\"8.00\" fill=\"#000000\">w0_t0</text>\n",
       "<text text-anchor=\"middle\" x=\"43.9439\" y=\"-49.6\" font-family=\"Times,serif\" font-size=\"8.00\" fill=\"#000000\">ScfTask</text>\n",
       "</g>\n",
       "<!-- w0_t1 -->\n",
       "<g id=\"node2\" class=\"node\">\n",
       "<title>w0_t1</title>\n",
       "<ellipse fill=\"#c85064\" stroke=\"#c85064\" cx=\"205.5834\" cy=\"-56\" rx=\"30.8467\" ry=\"18\"/>\n",
       "<text text-anchor=\"middle\" x=\"205.5834\" y=\"-57.6\" font-family=\"Times,serif\" font-size=\"8.00\" fill=\"#000000\">w0_t1</text>\n",
       "<text text-anchor=\"middle\" x=\"205.5834\" y=\"-49.6\" font-family=\"Times,serif\" font-size=\"8.00\" fill=\"#000000\">NscfTask</text>\n",
       "</g>\n",
       "<!-- w0_t0&#45;&gt;w0_t1 -->\n",
       "<g id=\"edge1\" class=\"edge\">\n",
       "<title>w0_t0&#45;&gt;w0_t1</title>\n",
       "<path fill=\"none\" stroke=\"#ff0000\" d=\"M72.0993,-56C97.5556,-56 135.3585,-56 164.2429,-56\"/>\n",
       "<polygon fill=\"#ff0000\" stroke=\"#ff0000\" points=\"164.4417,-59.5001 174.4416,-56 164.4416,-52.5001 164.4417,-59.5001\"/>\n",
       "<text text-anchor=\"middle\" x=\"123.274\" y=\"-58.8\" font-family=\"Times,serif\" font-size=\"14.00\" fill=\"#000000\">DEN</text>\n",
       "</g>\n",
       "</g>\n",
       "</svg>\n"
      ],
      "text/plain": [
       "<graphviz.dot.Digraph at 0x1c2aa3e550>"
      ]
     },
     "execution_count": 119,
     "metadata": {},
     "output_type": "execute_result"
    }
   ],
   "source": [
    "hello_flow.register_nscf_task(nscf_input, deps={hello_flow[0][0]: \"DEN\"}, \n",
    "                              append=True)\n",
    "\n",
    "hello_flow.get_graphviz(engine=\"dot\")"
   ]
  },
  {
   "cell_type": "markdown",
   "metadata": {
    "slideshow": {
     "slide_type": "-"
    }
   },
   "source": [
    "#### A *Work* is a list of *Tasks* and we can iterate with the syntax:"
   ]
  },
  {
   "cell_type": "code",
   "execution_count": 120,
   "metadata": {},
   "outputs": [
    {
     "name": "stdout",
     "output_type": "stream",
     "text": [
      "<ScfTask, node_id=568, workdir=hello_flow/w0/t0>\n",
      "<NscfTask, node_id=569, workdir=hello_flow/w0/t1>\n"
     ]
    }
   ],
   "source": [
    "for task in hello_flow[0]:\n",
    "    print(task)"
   ]
  },
  {
   "cell_type": "markdown",
   "metadata": {
    "slideshow": {
     "slide_type": "notes"
    }
   },
   "source": [
    "### A more complicated dependency:\n",
    "\n",
    "* We want to add another *NscTask* with a different value of bands\n",
    "\n",
    "* The new task should read the WFK file produced by *w0_t1* \n",
    "  and use the DEN file produced by the first task *w0_t0*\n",
    "\n",
    "```python\n",
    "    deps = {hello_flow[0][0]: \"DEN\", hello_flow[0][1]: \"WFK\"}\n",
    "```\n",
    "    \n",
    "<!--\n",
    "Excellent, we managed to build our first AbiPy flow with inter-dependent tasks in just six lines of code (including the three calls to graphviz). \n",
    "\n",
    "Well, the syntax for the new deps, it's just:\n",
    "\n",
    "deps = {hello_flow[0][0]: \"DEN\", hello_flow[0][1]: \"WFK\"}\n",
    "but we should also change the input variable nband in the nscf_input before creating the new NscTask (remember that building a Task requires an AbinitInput object and a list of dependencies, if any).\n",
    "\n",
    "Now there are two ways to increase nband: the wrong way and the correct one! Let's start from the wrong way because it's always useful to learn from our mistakes. Let's print some values just for the record:\n",
    "-->"
   ]
  },
  {
   "cell_type": "code",
   "execution_count": 121,
   "metadata": {
    "slideshow": {
     "slide_type": "notes"
    }
   },
   "outputs": [
    {
     "data": {
      "image/svg+xml": [
       "<?xml version=\"1.0\" encoding=\"UTF-8\" standalone=\"no\"?>\n",
       "<!DOCTYPE svg PUBLIC \"-//W3C//DTD SVG 1.1//EN\"\n",
       " \"http://www.w3.org/Graphics/SVG/1.1/DTD/svg11.dtd\">\n",
       "<!-- Generated by graphviz version 2.40.1 (20161225.0304)\n",
       " -->\n",
       "<!-- Title: flow Pages: 1 -->\n",
       "<svg width=\"427pt\" height=\"170pt\"\n",
       " viewBox=\"0.00 0.00 427.46 170.00\" xmlns=\"http://www.w3.org/2000/svg\" xmlns:xlink=\"http://www.w3.org/1999/xlink\">\n",
       "<g id=\"graph0\" class=\"graph\" transform=\"scale(1 1) rotate(0) translate(4 166)\">\n",
       "<title>flow</title>\n",
       "<polygon fill=\"#ffffff\" stroke=\"transparent\" points=\"-4,4 -4,-166 423.4635,-166 423.4635,4 -4,4\"/>\n",
       "<text text-anchor=\"start\" x=\"95.7391\" y=\"-6.8\" font-family=\"Times,serif\" font-size=\"14.00\" fill=\"#000000\">Flow, node_id=566, workdir=hello_flow</text>\n",
       "<g id=\"clust1\" class=\"cluster\">\n",
       "<title>clusterw0</title>\n",
       "<path fill=\"#e0eeee\" stroke=\"#000000\" d=\"M20,-30C20,-30 399.4635,-30 399.4635,-30 405.4635,-30 411.4635,-36 411.4635,-42 411.4635,-42 411.4635,-142 411.4635,-142 411.4635,-148 405.4635,-154 399.4635,-154 399.4635,-154 20,-154 20,-154 14,-154 8,-148 8,-142 8,-142 8,-42 8,-42 8,-36 14,-30 20,-30\"/>\n",
       "<text text-anchor=\"middle\" x=\"209.7318\" y=\"-138.8\" font-family=\"Times,serif\" font-size=\"14.00\" fill=\"#000000\">Work (w0)</text>\n",
       "</g>\n",
       "<!-- w0_t0 -->\n",
       "<g id=\"node1\" class=\"node\">\n",
       "<title>w0_t0</title>\n",
       "<ellipse fill=\"#ff0000\" stroke=\"#ff0000\" cx=\"43.9439\" cy=\"-92\" rx=\"27.8878\" ry=\"18\"/>\n",
       "<text text-anchor=\"middle\" x=\"43.9439\" y=\"-93.6\" font-family=\"Times,serif\" font-size=\"8.00\" fill=\"#000000\">w0_t0</text>\n",
       "<text text-anchor=\"middle\" x=\"43.9439\" y=\"-85.6\" font-family=\"Times,serif\" font-size=\"8.00\" fill=\"#000000\">ScfTask</text>\n",
       "</g>\n",
       "<!-- w0_t1 -->\n",
       "<g id=\"node2\" class=\"node\">\n",
       "<title>w0_t1</title>\n",
       "<ellipse fill=\"#c85064\" stroke=\"#c85064\" cx=\"205.5834\" cy=\"-56\" rx=\"30.8467\" ry=\"18\"/>\n",
       "<text text-anchor=\"middle\" x=\"205.5834\" y=\"-57.6\" font-family=\"Times,serif\" font-size=\"8.00\" fill=\"#000000\">w0_t1</text>\n",
       "<text text-anchor=\"middle\" x=\"205.5834\" y=\"-49.6\" font-family=\"Times,serif\" font-size=\"8.00\" fill=\"#000000\">NscfTask</text>\n",
       "</g>\n",
       "<!-- w0_t0&#45;&gt;w0_t1 -->\n",
       "<g id=\"edge1\" class=\"edge\">\n",
       "<title>w0_t0&#45;&gt;w0_t1</title>\n",
       "<path fill=\"none\" stroke=\"#ff0000\" d=\"M70.6353,-86.0553C96.7842,-80.2315 136.9238,-71.2917 166.6341,-64.6747\"/>\n",
       "<polygon fill=\"#ff0000\" stroke=\"#ff0000\" points=\"167.6681,-68.0303 176.668,-62.44 166.1463,-61.1977 167.6681,-68.0303\"/>\n",
       "<text text-anchor=\"middle\" x=\"123.274\" y=\"-78.8\" font-family=\"Times,serif\" font-size=\"14.00\" fill=\"#000000\">DEN</text>\n",
       "</g>\n",
       "<!-- w0_t2 -->\n",
       "<g id=\"node3\" class=\"node\">\n",
       "<title>w0_t2</title>\n",
       "<ellipse fill=\"#c85064\" stroke=\"#c85064\" cx=\"372.5403\" cy=\"-81\" rx=\"30.8467\" ry=\"18\"/>\n",
       "<text text-anchor=\"middle\" x=\"372.5403\" y=\"-82.6\" font-family=\"Times,serif\" font-size=\"8.00\" fill=\"#000000\">w0_t2</text>\n",
       "<text text-anchor=\"middle\" x=\"372.5403\" y=\"-74.6\" font-family=\"Times,serif\" font-size=\"8.00\" fill=\"#000000\">NscfTask</text>\n",
       "</g>\n",
       "<!-- w0_t0&#45;&gt;w0_t2 -->\n",
       "<g id=\"edge2\" class=\"edge\">\n",
       "<title>w0_t0&#45;&gt;w0_t2</title>\n",
       "<path fill=\"none\" stroke=\"#ff0000\" d=\"M68.629,-100.5783C84.1232,-105.2144 104.632,-110 123.274,-110 123.274,-110 123.274,-110 289.0619,-110 306.6816,-110 325.2926,-104.1638 340.4596,-97.7277\"/>\n",
       "<polygon fill=\"#ff0000\" stroke=\"#ff0000\" points=\"342.2138,-100.7757 349.884,-93.4669 339.3301,-94.3973 342.2138,-100.7757\"/>\n",
       "<text text-anchor=\"middle\" x=\"205.5834\" y=\"-112.8\" font-family=\"Times,serif\" font-size=\"14.00\" fill=\"#000000\">DEN</text>\n",
       "</g>\n",
       "<!-- w0_t1&#45;&gt;w0_t2 -->\n",
       "<g id=\"edge3\" class=\"edge\">\n",
       "<title>w0_t1&#45;&gt;w0_t2</title>\n",
       "<path fill=\"none\" stroke=\"#c85064\" d=\"M235.8181,-60.5273C262.8849,-64.5803 302.769,-70.5525 332.4824,-75.0018\"/>\n",
       "<polygon fill=\"#c85064\" stroke=\"#c85064\" points=\"332.1225,-78.4868 342.5306,-76.5064 333.1592,-71.564 332.1225,-78.4868\"/>\n",
       "<text text-anchor=\"middle\" x=\"289.0619\" y=\"-72.8\" font-family=\"Times,serif\" font-size=\"14.00\" fill=\"#000000\">WFK</text>\n",
       "</g>\n",
       "</g>\n",
       "</svg>\n"
      ],
      "text/plain": [
       "<graphviz.dot.Digraph at 0x1c2a9b5a58>"
      ]
     },
     "execution_count": 121,
     "metadata": {},
     "output_type": "execute_result"
    }
   ],
   "source": [
    "t1 = hello_flow[0][1]\n",
    "\n",
    "# Copy the input of t1 and change nband\n",
    "new_input = t1.input.new_with_vars(nband=1000)  \n",
    "\n",
    "deps = {hello_flow[0][0]: \"DEN\", hello_flow[0][1]: \"WFK\"}\n",
    "\n",
    "hello_flow.register_nscf_task(new_input, deps=deps, append=True)\n",
    "hello_flow.get_graphviz(engine=\"dot\")"
   ]
  },
  {
   "cell_type": "markdown",
   "metadata": {
    "slideshow": {
     "slide_type": "subslide"
    }
   },
   "source": [
    "#### Tasks can be connected to external files:"
   ]
  },
  {
   "cell_type": "code",
   "execution_count": 122,
   "metadata": {
    "slideshow": {
     "slide_type": "-"
    }
   },
   "outputs": [
    {
     "name": "stdout",
     "output_type": "stream",
     "text": [
      "nband in tasks: [8, 10, 20]\n"
     ]
    },
    {
     "data": {
      "image/svg+xml": [
       "<?xml version=\"1.0\" encoding=\"UTF-8\" standalone=\"no\"?>\n",
       "<!DOCTYPE svg PUBLIC \"-//W3C//DTD SVG 1.1//EN\"\n",
       " \"http://www.w3.org/Graphics/SVG/1.1/DTD/svg11.dtd\">\n",
       "<!-- Generated by graphviz version 2.40.1 (20161225.0304)\n",
       " -->\n",
       "<!-- Title: flow Pages: 1 -->\n",
       "<svg width=\"343pt\" height=\"231pt\"\n",
       " viewBox=\"0.00 0.00 343.00 231.00\" xmlns=\"http://www.w3.org/2000/svg\" xmlns:xlink=\"http://www.w3.org/1999/xlink\">\n",
       "<g id=\"graph0\" class=\"graph\" transform=\"scale(1 1) rotate(0) translate(4 205)\">\n",
       "<title>flow</title>\n",
       "<polygon fill=\"#ffffff\" stroke=\"transparent\" points=\"-4,26 -4,-205 339,-205 339,26 -4,26\"/>\n",
       "<text text-anchor=\"start\" x=\"42.6143\" y=\"15.2\" font-family=\"Times,serif\" font-size=\"14.00\" fill=\"#000000\">Flow, node_id=571, workdir=flow_with_file</text>\n",
       "<g id=\"clust1\" class=\"cluster\">\n",
       "<title>clusterw0</title>\n",
       "<path fill=\"#e0eeee\" stroke=\"#000000\" d=\"M21.2944,-127.3264C21.2944,-127.3264 74.2944,-127.3264 74.2944,-127.3264 80.2944,-127.3264 86.2944,-133.3264 86.2944,-139.3264 86.2944,-139.3264 86.2944,-189.3264 86.2944,-189.3264 86.2944,-195.3264 80.2944,-201.3264 74.2944,-201.3264 74.2944,-201.3264 21.2944,-201.3264 21.2944,-201.3264 15.2944,-201.3264 9.2944,-195.3264 9.2944,-189.3264 9.2944,-189.3264 9.2944,-139.3264 9.2944,-139.3264 9.2944,-133.3264 15.2944,-127.3264 21.2944,-127.3264\"/>\n",
       "<text text-anchor=\"middle\" x=\"47.7944\" y=\"-186.1264\" font-family=\"Times,serif\" font-size=\"14.00\" fill=\"#000000\">Work (w0)</text>\n",
       "</g>\n",
       "<g id=\"clust2\" class=\"cluster\">\n",
       "<title>clusterw1</title>\n",
       "<path fill=\"#e0eeee\" stroke=\"#000000\" d=\"M197.1446,-127.4383C197.1446,-127.4383 251.1446,-127.4383 251.1446,-127.4383 257.1446,-127.4383 263.1446,-133.4383 263.1446,-139.4383 263.1446,-139.4383 263.1446,-189.4383 263.1446,-189.4383 263.1446,-195.4383 257.1446,-201.4383 251.1446,-201.4383 251.1446,-201.4383 197.1446,-201.4383 197.1446,-201.4383 191.1446,-201.4383 185.1446,-195.4383 185.1446,-189.4383 185.1446,-189.4383 185.1446,-139.4383 185.1446,-139.4383 185.1446,-133.4383 191.1446,-127.4383 197.1446,-127.4383\"/>\n",
       "<text text-anchor=\"middle\" x=\"224.1446\" y=\"-186.2383\" font-family=\"Times,serif\" font-size=\"14.00\" fill=\"#000000\">Work (w1)</text>\n",
       "</g>\n",
       "<g id=\"clust3\" class=\"cluster\">\n",
       "<title>clusterw2</title>\n",
       "<path fill=\"#e0eeee\" stroke=\"#000000\" d=\"M134.7061,-.1723C134.7061,-.1723 188.7061,-.1723 188.7061,-.1723 194.7061,-.1723 200.7061,-6.1723 200.7061,-12.1723 200.7061,-12.1723 200.7061,-62.1723 200.7061,-62.1723 200.7061,-68.1723 194.7061,-74.1723 188.7061,-74.1723 188.7061,-74.1723 134.7061,-74.1723 134.7061,-74.1723 128.7061,-74.1723 122.7061,-68.1723 122.7061,-62.1723 122.7061,-62.1723 122.7061,-12.1723 122.7061,-12.1723 122.7061,-6.1723 128.7061,-.1723 134.7061,-.1723\"/>\n",
       "<text text-anchor=\"middle\" x=\"161.7061\" y=\"-58.9723\" font-family=\"Times,serif\" font-size=\"14.00\" fill=\"#000000\">Work (w2)</text>\n",
       "</g>\n",
       "<!-- w0_t0 -->\n",
       "<g id=\"node1\" class=\"node\">\n",
       "<title>w0_t0</title>\n",
       "<ellipse fill=\"#c85064\" stroke=\"#c85064\" cx=\"47.8413\" cy=\"-153.5737\" rx=\"30.8467\" ry=\"18\"/>\n",
       "<text text-anchor=\"middle\" x=\"47.8413\" y=\"-155.1737\" font-family=\"Times,serif\" font-size=\"8.00\" fill=\"#000000\">w0_t0</text>\n",
       "<text text-anchor=\"middle\" x=\"47.8413\" y=\"-147.1737\" font-family=\"Times,serif\" font-size=\"8.00\" fill=\"#000000\">NscfTask</text>\n",
       "</g>\n",
       "<!-- w1_t0 -->\n",
       "<g id=\"node2\" class=\"node\">\n",
       "<title>w1_t0</title>\n",
       "<ellipse fill=\"#c85064\" stroke=\"#c85064\" cx=\"223.9178\" cy=\"-153.5161\" rx=\"30.8467\" ry=\"18\"/>\n",
       "<text text-anchor=\"middle\" x=\"223.9178\" y=\"-155.1161\" font-family=\"Times,serif\" font-size=\"8.00\" fill=\"#000000\">w1_t0</text>\n",
       "<text text-anchor=\"middle\" x=\"223.9178\" y=\"-147.1161\" font-family=\"Times,serif\" font-size=\"8.00\" fill=\"#000000\">NscfTask</text>\n",
       "</g>\n",
       "<!-- w2_t0 -->\n",
       "<g id=\"node3\" class=\"node\">\n",
       "<title>w2_t0</title>\n",
       "<ellipse fill=\"#c85064\" stroke=\"#c85064\" cx=\"161.2832\" cy=\"-26.3195\" rx=\"30.8467\" ry=\"18\"/>\n",
       "<text text-anchor=\"middle\" x=\"161.2832\" y=\"-27.9195\" font-family=\"Times,serif\" font-size=\"8.00\" fill=\"#000000\">w2_t0</text>\n",
       "<text text-anchor=\"middle\" x=\"161.2832\" y=\"-19.9195\" font-family=\"Times,serif\" font-size=\"8.00\" fill=\"#000000\">NscfTask</text>\n",
       "</g>\n",
       "<!-- /Users/gmatteo/git_repos/abipy/abipy/data/refs/si_ebands/si_DEN.nc -->\n",
       "<g id=\"node4\" class=\"node\">\n",
       "<title>/Users/gmatteo/git_repos/abipy/abipy/data/refs/si_ebands/si_DEN.nc</title>\n",
       "<ellipse fill=\"#6633ff\" stroke=\"#6633ff\" cx=\"167.5933\" cy=\"-101.2394\" rx=\"167.734\" ry=\"18\"/>\n",
       "<text text-anchor=\"start\" x=\"25.4409\" y=\"-98.8394\" font-family=\"Times,serif\" font-size=\"8.00\" fill=\"#000000\">FileNode, node_id=574, rpath=../../git_repos/abipy/abipy/data/refs/si_ebands/si_DEN.nc</text>\n",
       "</g>\n",
       "<!-- /Users/gmatteo/git_repos/abipy/abipy/data/refs/si_ebands/si_DEN.nc&#45;&gt;w0_t0 -->\n",
       "<g id=\"edge1\" class=\"edge\">\n",
       "<title>/Users/gmatteo/git_repos/abipy/abipy/data/refs/si_ebands/si_DEN.nc&#45;&gt;w0_t0</title>\n",
       "<path fill=\"none\" stroke=\"#6633ff\" d=\"M127.3845,-118.8115C112.6993,-125.2293 96.2385,-132.423 82.1179,-138.5941\"/>\n",
       "<polygon fill=\"#6633ff\" stroke=\"#6633ff\" points=\"80.5281,-135.4692 72.7665,-142.6809 83.3313,-141.8834 80.5281,-135.4692\"/>\n",
       "</g>\n",
       "<!-- /Users/gmatteo/git_repos/abipy/abipy/data/refs/si_ebands/si_DEN.nc&#45;&gt;w1_t0 -->\n",
       "<g id=\"edge2\" class=\"edge\">\n",
       "<title>/Users/gmatteo/git_repos/abipy/abipy/data/refs/si_ebands/si_DEN.nc&#45;&gt;w1_t0</title>\n",
       "<path fill=\"none\" stroke=\"#6633ff\" d=\"M186.977,-119.23C191.1138,-123.0696 195.5314,-127.1697 199.8205,-131.1506\"/>\n",
       "<polygon fill=\"#6633ff\" stroke=\"#6633ff\" points=\"197.6032,-133.8678 207.3137,-138.1053 202.3651,-128.7371 197.6032,-133.8678\"/>\n",
       "</g>\n",
       "<!-- /Users/gmatteo/git_repos/abipy/abipy/data/refs/si_ebands/si_DEN.nc&#45;&gt;w2_t0 -->\n",
       "<g id=\"edge3\" class=\"edge\">\n",
       "<title>/Users/gmatteo/git_repos/abipy/abipy/data/refs/si_ebands/si_DEN.nc&#45;&gt;w2_t0</title>\n",
       "<path fill=\"none\" stroke=\"#6633ff\" d=\"M166.0658,-83.1033C165.3502,-74.6079 164.4809,-64.2865 163.6807,-54.7854\"/>\n",
       "<polygon fill=\"#6633ff\" stroke=\"#6633ff\" points=\"167.1455,-54.2191 162.8185,-44.5481 160.1702,-54.8066 167.1455,-54.2191\"/>\n",
       "</g>\n",
       "</g>\n",
       "</svg>\n"
      ],
      "text/plain": [
       "<graphviz.dot.Digraph at 0x1c2aa2b550>"
      ]
     },
     "execution_count": 122,
     "metadata": {},
     "output_type": "execute_result"
    }
   ],
   "source": [
    "flow_with_file = flowtk.Flow(workdir=\"flow_with_file\")\n",
    "\n",
    "den_filepath = abidata.ref_file(\"si_DEN.nc\")\n",
    "flow_with_file.register_nscf_task(nscf_input, deps={den_filepath: \"DEN\"})\n",
    "\n",
    "for nband in [10, 20]:\n",
    "    flow_with_file.register_nscf_task(nscf_input.new_with_vars(nband=nband), \n",
    "                                      deps={den_filepath: \"DEN\"}, append=False)\n",
    "\n",
    "print(\"nband in tasks:\", [task.input[\"nband\"] for task in flow_with_file.iflat_tasks()])\n",
    "\n",
    "flow_with_file.get_graphviz()"
   ]
  },
  {
   "cell_type": "markdown",
   "metadata": {
    "slideshow": {
     "slide_type": "slide"
    }
   },
   "source": [
    "## Phonon band structure of AlAs\n",
    "\n",
    "Now we are finally ready for the calculation of the vibrational spectrum of AlAs. \n",
    "\n",
    "Once we have a function returning an input for SCF calculations, it's just a matter of \n",
    "of passing the SCF input to the *from_scf_input* factory function"
   ]
  },
  {
   "cell_type": "code",
   "execution_count": 123,
   "metadata": {
    "code_folding": [
     21
    ],
    "slideshow": {
     "slide_type": "skip"
    }
   },
   "outputs": [],
   "source": [
    "def make_scf_input(ecut=2, ngkpt=(4, 4, 4)):\n",
    "    \"\"\"\n",
    "    Generate an `AbinitInput` to perform GS calculation for AlAs.\n",
    "\n",
    "    Args:\n",
    "        ecut: Cutoff energy in Ha.\n",
    "        ngkpt: k-mesh divisions\n",
    "\n",
    "    Return:\n",
    "        `AbinitInput` object\n",
    "    \"\"\"\n",
    "    # Initialize the AlAs structure from an internal database. Use the pseudos shipped with AbiPy.\n",
    "    gs_inp = abilab.AbinitInput(structure=\"AlAs.cif\",\n",
    "                                pseudos=[\"13al.pspnc\", \"33as.pspnc\"])\n",
    "\n",
    "    # Set the value of the Abinit variables needed for GS runs.\n",
    "    gs_inp.set_vars(\n",
    "        nband=4,\n",
    "        ecut=ecut,\n",
    "        ngkpt=ngkpt,\n",
    "        nshiftk=4,\n",
    "        shiftk=[0.0, 0.0, 0.5,   # This gives the usual fcc Monkhorst-Pack grid\n",
    "                0.0, 0.5, 0.0,\n",
    "                0.5, 0.0, 0.0,\n",
    "                0.5, 0.5, 0.5],\n",
    "        tolvrs=1.0e-10,\n",
    "    )\n",
    "\n",
    "    return gs_inp"
   ]
  },
  {
   "cell_type": "code",
   "execution_count": 124,
   "metadata": {
    "slideshow": {
     "slide_type": "-"
    }
   },
   "outputs": [],
   "source": [
    "def build_flow_alas_phonons():\n",
    "    \"\"\"\n",
    "    Build and return a Flow to compute the dynamical matrix on a (2, 2, 2) qmesh\n",
    "    as well as DDK and Born effective charges.\n",
    "    The final DDB with all perturbations will be merged automatically and placed\n",
    "    in the Flow `outdir` directory.\n",
    "    \"\"\"\n",
    "    from abipy import flowtk\n",
    "    scf_input = make_scf_input(ecut=6, ngkpt=(4, 4, 4))\n",
    "    return flowtk.PhononFlow.from_scf_input(\"flow_alas_phonons\", scf_input,\n",
    "                                            ph_ngqpt=(2, 2, 2), with_becs=True)"
   ]
  },
  {
   "cell_type": "markdown",
   "metadata": {
    "slideshow": {
     "slide_type": "subslide"
    }
   },
   "source": [
    "#####  Abipy will call Abinit to get the list of DFPT perturbations and…"
   ]
  },
  {
   "cell_type": "code",
   "execution_count": 125,
   "metadata": {
    "scrolled": false,
    "slideshow": {
     "slide_type": "-"
    }
   },
   "outputs": [],
   "source": [
    "#flow_phbands = build_flow_alas_phonons()\n",
    "#flow_phbands.get_graphviz()"
   ]
  },
  {
   "cell_type": "markdown",
   "metadata": {
    "slideshow": {
     "slide_type": "-"
    }
   },
   "source": [
    "#### To execute the flow, use the *abirun.py* script:\n",
    "    \n",
    "    abirun.py flow_workdir scheduler\n",
    "\n",
    "\n",
    "For futher info, see \n",
    "[this notebook](https://nbviewer.jupyter.org/github/abinit/abitutorials/blob/master/abitutorials/flows.ipynb)"
   ]
  },
  {
   "cell_type": "markdown",
   "metadata": {
    "slideshow": {
     "slide_type": "slide"
    }
   },
   "source": [
    "<img src=\"./assets/abiflows_deps.png\" width=\"85%\" align=\"center\">"
   ]
  },
  {
   "cell_type": "markdown",
   "metadata": {
    "slideshow": {
     "slide_type": "slide"
    }
   },
   "source": [
    "## DFPT workflows with Abiflows, Fireworks and MongoDB\n",
    "\n",
    "* Databases makes life easier if one has to handle many calculations\n",
    "* Databases can be used to \n",
    "\n",
    "    * start calculations from previous results\n",
    "    * save the intermediate status of the jobs\n",
    "    * store the final results\n",
    "\n",
    "Building an *Abiflows* workflow for DFPT requires:"
   ]
  },
  {
   "cell_type": "code",
   "execution_count": 126,
   "metadata": {},
   "outputs": [],
   "source": [
    "#from pseudo_dojo.core.pseudos import OfficialDojoTable\n",
    "#from abiflows.fireworks.workflows.abinit_workflows import PhononFullFWWorkflow \n",
    "\n",
    "# Pseudopotential table from the PseudoDojo package\n",
    "#pseudo_table = OfficialDojoTable.from_dojodir('ONCVPSP-PBEsol-PDv0.4','standard')\n",
    "\n",
    "# Create fireworks workflow with default settings\n",
    "#structure = abilab.Structure.from_file(\"si.cif\")\n",
    "#wf = PhononFullFWWorkflow.from_factory(structure=structure, pseudos=pseudo_table)"
   ]
  },
  {
   "cell_type": "markdown",
   "metadata": {
    "slideshow": {
     "slide_type": "subslide"
    }
   },
   "source": [
    "### The dependency graph is similar to the ligthweigh version discussed before:\n",
    "\n",
    "<img src=\"./assets/abiflows_workflow.png\" width=\"95%\" align=\"center\">"
   ]
  },
  {
   "cell_type": "markdown",
   "metadata": {
    "slideshow": {
     "slide_type": "skip"
    }
   },
   "source": [
    "<img src=\"./assets/fw_model.png\" width=\"25%\" align=\"center\">"
   ]
  },
  {
   "cell_type": "markdown",
   "metadata": {
    "slideshow": {
     "slide_type": "slide"
    }
   },
   "source": [
    "##### but now one can take advantage of MongoDb to run many calculations in a full automatic way:\n",
    "\n",
    "\n",
    "```python\n",
    "from abiflows.fireworks.workflows.abinit_workflows import *\n",
    "from abiflows.database.mongoengine.utils import DatabaseData\n",
    "from abiflows.database.mongoengine.abinit_results import RelaxResult\n",
    "from pseudo_dojo.core.pseudos import OfficialDojoTable\n",
    "\n",
    "# Pseudopotential Table from PseudoDojo\n",
    "pseudo_table = OfficialDojoTable.from_dojodir('ONCVPSP-PBEsol-PDv0.4','standard')\n",
    "\n",
    "# Database with relaxed structures\n",
    "source_db = DatabaseData(host='database_address', port=27017, \n",
    "                         collection='collection_name_used_for_relax', \n",
    "                         database='database_used_to_store_relax_calc')\n",
    "\n",
    "# Database used to store DFPT results.\n",
    "db = DatabaseData(host='database_address', port=27017, collection='phonon_bs', \n",
    "                  database='database_name_eg_phonons')\n",
    "\n",
    "# Connect to the database\n",
    "source_db.connect_mongoengine()\n",
    "\n",
    "# Download relaxed structure from the database.\n",
    "with source_db.switch_collection(RelaxResult) as RelaxResult:\n",
    "    relaxed_structure = RelaxResult.objects(mp_id=\"mp-149\")[0].structure\n",
    "\n",
    "wf = PhononFullFWWorkflow.from_factory(structure=structure, pseudos=pseudo_table)\n",
    "\n",
    "wf.add_mongoengine_db_insertion(db)\n",
    "wf.add_final_cleanup([\"WFK\", \"1WF\", \"WFQ\", \"1POT\", \"1DEN\"])\n",
    "wf.add_to_db()\n",
    "```"
   ]
  },
  {
   "cell_type": "markdown",
   "metadata": {
    "slideshow": {
     "slide_type": "skip"
    }
   },
   "source": [
    "<img src=\"./assets/mongoengine_logo.png\" width=\"50%\" align=\"center\">\n",
    "\n",
    "#### Document-Object Mapper \n",
    "\n",
    "   * Like ORM but for document databases\n",
    "   * Mixins for standard quantities\n",
    "   * Document associated with workflows\n",
    "   * Standardized output\n",
    "\n",
    "abiflows.database.mongoengine modules:"
   ]
  },
  {
   "cell_type": "code",
   "execution_count": 127,
   "metadata": {
    "slideshow": {
     "slide_type": "skip"
    }
   },
   "outputs": [],
   "source": [
    "# DateMixin = DirectoryMixin = Document = object\n",
    "\n",
    "class MaterialMixin(object):\n",
    "    \"\"\"\n",
    "    fields describing the material examined in the calculation\n",
    "    \"\"\"\n",
    "\n",
    "#class PhononResult(MaterialMixin, DateMixin, DirectoryMixin, Document):\n",
    "#    \"\"\"\n",
    "#    results for a phonon workflow\n",
    "#    \"\"\""
   ]
  },
  {
   "cell_type": "markdown",
   "metadata": {
    "slideshow": {
     "slide_type": "subslide"
    }
   },
   "source": [
    "### How to recostruct AbiPy objects from a MondoDb database\n",
    "<hr>\n",
    "\n",
    "```python\n",
    "\n",
    "from abiflows.database.mongoengine.abinit_results import PhononResult\n",
    "\n",
    "# Find results for SiC\n",
    "r = PhononResult.objects(mp_id='mp-8062')[0] \n",
    "\n",
    "# Get DDB object from the database.\n",
    "with r.abinit_output.ddb.abiopen() as ddb: \n",
    "    \n",
    "    # Run anaddb \n",
    "    phbst, phdos = ddb.anaget_phbst_and_phdos_files(ngqpt=[8, 8, 5]) \n",
    "   \n",
    "    # Use AbiPy API\n",
    "    phbst.phbands.plot_with_phdos(phdos.phdos, units='cm-1')\n",
    "```"
   ]
  },
  {
   "cell_type": "markdown",
   "metadata": {
    "slideshow": {
     "slide_type": "slide"
    }
   },
   "source": [
    "## Conclusion\n",
    "\n",
    "* The *ab-initio* community is migrating to *python* to implement:\n",
    "\n",
    "    * Pre-processing and post-processing tools\n",
    "    * Web-based technologies to analyze/visualize data (*e.g.* *jupyter* notebooks …) \n",
    "    * High-level logic for scientific workflows and *high-throughput* applications\n",
    "    \n",
    "* <u>Difficulties</u> for users:\n",
    "\n",
    "    * Installation of big software stack (C, C++, Fortran, Python, Javascript …)\n",
    "    * Multiple technologies under the hood (databases, *JSON*, *HDF5*, *MPI/OMP* …) \n",
    "    * Users are supposed to be familiar with programming techniques\n",
    "\n",
    "* <u>Advantages</u> for users:\n",
    "    \n",
    "    * Traditional GUIs are still useful but researchers sometimes need programmatic \n",
    "      interfaces to analyze raw data\n",
    "    * Several *python* packages to boost productivity and do better science\n",
    "\n",
    "\n",
    "> \"An investment in knowledge pays the best interest\" (B. Franklin)"
   ]
  }
 ],
 "metadata": {
  "celltoolbar": "Slideshow",
  "kernelspec": {
   "display_name": "Python 3",
   "language": "python",
   "name": "python3"
  },
  "language_info": {
   "codemirror_mode": {
    "name": "ipython",
    "version": 3
   },
   "file_extension": ".py",
   "mimetype": "text/x-python",
   "name": "python",
   "nbconvert_exporter": "python",
   "pygments_lexer": "ipython3",
   "version": "3.6.8"
  },
  "latex_envs": {
   "bibliofile": "biblio.bib",
   "cite_by": "apalike",
   "current_citInitial": 1,
   "eqLabelWithNumbers": true,
   "eqNumInitial": 0
  }
 },
 "nbformat": 4,
 "nbformat_minor": 2
}
