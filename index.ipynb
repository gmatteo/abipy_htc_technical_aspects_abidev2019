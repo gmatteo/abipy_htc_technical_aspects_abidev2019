{
 "cells": [
  {
   "cell_type": "code",
   "execution_count": 1,
   "metadata": {
    "slideshow": {
     "slide_type": "skip"
    }
   },
   "outputs": [],
   "source": [
    "import os\n",
    "\n",
    "# Ignore numpy warnings\n",
    "import warnings\n",
    "warnings.filterwarnings('ignore')\n",
    "\n",
    "%matplotlib inline\n",
    "#%matplotlib notebook\n",
    "\n",
    "# Use seaborn settings.\n",
    "import seaborn as sns\n",
    "sns.set(\n",
    "        #context=\"paper\",\n",
    "        context=\"talk\",\n",
    "        #context=\"poster\",\n",
    "        style='darkgrid',\n",
    "        #style=\"dark\",\n",
    "        #palette='deep',\n",
    "        font='sans-serif', \n",
    "        #font_scale=1.0, \n",
    "        #color_codes=False, \n",
    "        rc={'figure.figsize': (12, 8.0)}, # width and height in inches.\n",
    ")\n",
    "\n",
    "import IPython\n",
    "\n",
    "def _embed(src, width=\"800\", height=\"400\"):\n",
    "    return IPython.display.IFrame(src=src, width=str(width), height=str(height))\n",
    "\n",
    "from IPython.core.magic import (register_line_magic, register_cell_magic,\n",
    "                                register_line_cell_magic)\n",
    "\n",
    "@register_line_magic\n",
    "def embed(line):\n",
    "    \"my line magic\"\n",
    "    #return line\n",
    "    return _embed(line)\n",
    "\n",
    "\n",
    "# We delete these to avoid name conflicts for automagic to work\n",
    "del embed\n",
    "#del lcmagic\n",
    "\n",
    "# Theme\n",
    "# import jtplot module in notebook\n",
    "#from jupyterthemes import jtplot\n",
    "\n",
    "# choose which theme to inherit plotting style from\n",
    "# onedork | grade3 | oceans16 | chesterish | monokai | solarizedl | solarizedd\n",
    "#jtplot.style(theme='monokai')\n",
    "\n",
    "# set \"context\" (paper, notebook, talk, poster)\n",
    "# scale font-size of ticklabels, legend, etc.\n",
    "# remove spines from x and y axes and make grid dashed\n",
    "#jtplot.style(context='talk', fscale=1.4, spines=False, gridlines='--')\n",
    "\n",
    "# turn on X- and Y-axis tick marks (default=False)\n",
    "# turn off the axis grid lines (default=True)\n",
    "# and set the default figure size\n",
    "#jtplot.style(ticks=True, grid=False, figsize=(6, 4.5))\n",
    "\n",
    "# reset default matplotlib rcParams\n",
    "#jtplot.reset()\n",
    "\n",
    "from abipy import abilab\n",
    "import abipy.data as abidata\n",
    "\n",
    "si_pseudo = os.path.join(abidata.pseudo_dir, \"14si.pspnc\")"
   ]
  },
  {
   "cell_type": "markdown",
   "metadata": {
    "slideshow": {
     "slide_type": "slide"
    }
   },
   "source": [
    "# Technical aspects related to automatic calculations with ABINIT\n",
    "\n",
    "### M. Giantomassi and the AbiPy group\n",
    "\n",
    "9th international ABINIT developer workshop<br>\n",
    "<small>20-22nd May 2019 - Louvain-la-Neuve, Belgium</small>\n",
    "\n",
    "<!-- link rel=\"stylesheet\" href=\"reveal.js/css/theme/sky.css\" id=\"theme\" -->\n",
    "\n",
    "<img src=\"./assets/intro_logos.png\" width=\"85%\" heigh=\"15%\" align=\"center\">\n",
    "\n",
    "## Overview:\n",
    "\n",
    "* Approach used to connect AbiPy with Abinit\n",
    "* Advantages and drawbacks for Yaml and netcdf\n",
    "* How to perform benchmarks and stress tests in python\n",
    "* Technical problems related to automatic calculations\n",
    "\n",
    "<!--\n",
    "<hr> \n",
    "\n",
    "* These slides have been generated using [jupyter](https://jupyter.org), [nbconvert](https://github.com/jupyter/nbconvert) and [revealjs](https://revealjs.com/)\n",
    "\n",
    "* The notebook can be downloaded from this [github repo](https://github.com/gmatteo/abipy_htc_technical_aspects_abidev2019)\n",
    "\n",
    "* To install and configure the software, follow these [installation instructions](https://github.com/abinit/abipy#getting-abipy)\n",
    "\n",
    "Use the Space key to navigate through all slides.\n",
    "\n",
    "\n",
    "In this talk, I will present the approach employed in AbiPy to implement automatic ABINIT calculations. More specifically, I will discuss how we employ\n",
    "YAML and netcdf files to exchange information between Fortran and Python,\n",
    "the logic used in AbiPy to parallelize and optimize calculations at runtime and\n",
    "the protocol used to handle possible errors during the ab-initio computation. I\n",
    "will also discuss how to use the Fortran API of ABINIT to generate netcdf files\n",
    "that can interoperate seamlessly with our high-throughput infrastructure. In the\n",
    "last part, I will present some of the technical problems we are still facing and\n",
    "discuss possible approaches to address these issues.\n",
    "-->"
   ]
  },
  {
   "cell_type": "markdown",
   "metadata": {
    "slideshow": {
     "slide_type": "skip"
    }
   },
   "source": [
    "<img src=\"./assets/abipy_logo.jpg\" width=\"55%\" align=\"center\">\n",
    "\n",
    "## What is AbiPy?\n",
    "\n",
    "#### Python package for:\n",
    "\n",
    "   * Generating ABINIT input files automatically\n",
    "   * Post-processing output results (*netcdf* and *text* files)\n",
    "   * Interfacing ABINIT with external tools (e.g. [Vesta](http://jp-minerals.org/vesta/en/))\n",
    "   * Creating and executing workflows (band structures, phonons, $GW$…)\n",
    "   \n",
    "#### Project:\n",
    "\n",
    "* Developed and maintained by the ABINIT community\n",
    "* Used by developers to validate, profile and optimize ABINIT\n",
    "* Hosted on [github](https://github.com/abinit/abipy) \n",
    "* Release under the GPLv2 license"
   ]
  },
  {
   "cell_type": "markdown",
   "metadata": {
    "slideshow": {
     "slide_type": "skip"
    }
   },
   "source": [
    "## Why python?\n",
    "\n",
    "   * Easy to use and to learn\n",
    "   * Great support for science ([numpy](http://www.numpy.org/), [scipy](https://www.scipy.org/), [pandas](http://pandas.pydata.org/), [matplotlib](https://matplotlib.org/) …)\n",
    "   * Interactive environments ([ipython](http://ipython.org/), [jupyter notebooks](https://jupyter.org/), GUIs)\n",
    "   * More powerful and flexible than Fortran for implementing the high-level logic needed in modern ab-initio workflows\n",
    "   * [pymatgen](https://github.com/materialsproject) ecosystem and the [materials project database](https://www.materialsproject.org/)…"
   ]
  },
  {
   "cell_type": "markdown",
   "metadata": {
    "slideshow": {
     "slide_type": "slide"
    }
   },
   "source": [
    "## What do we need to automate calculations?\n",
    "\n",
    "* Tools to parse and analyze output results\n",
    "* Programatic interface to generate input files\n",
    "* High-level logic for:\n",
    "    * Managing complicated workflows\n",
    "    * Exposing task parallelism (independent steps can be executed in parallel)\n",
    "    * Handling runtime errors and restarting calculations\n",
    "    * Saving final results in machine-readable format (e.g. databases)\n",
    "\n",
    "<hr>\n",
    "\n",
    "<center>\n",
    "<img src=\"./assets/sdata201865-f2.jpg\" width=\"60%\" align=\"center\">\n",
    "</center>"
   ]
  },
  {
   "cell_type": "markdown",
   "metadata": {
    "slideshow": {
     "slide_type": "subslide"
    }
   },
   "source": [
    "## AbiPy design principles\n",
    "\n",
    "* Extend the pymatgen code-base with ABINIT-specific objects\n",
    "* Layered structure designed for different use-cases:\n",
    "        \n",
    "     * Post-processing tools and command-line interfaces\n",
    "     * API to automate calculations and data analysis\n",
    "     * High-throughput infrastructure ([abiflows](https://github.com/abinit/abiflows), [fireworks](https://github.com/materialsproject/fireworks), [mongodb](https://www.mongodb.com/))\n",
    "     \n",
    "* Closely connected to the ABINIT executable:\n",
    "\n",
    "    * CPU-intensive algorithms performed by ABINIT (Fortran + MPI + OpenMP)\n",
    "    * Glue code implemented in python\n",
    "   \n"
   ]
  },
  {
   "cell_type": "markdown",
   "metadata": {
    "slideshow": {
     "slide_type": "subslide"
    }
   },
   "source": [
    "## Workflow infrastructure\n",
    "\n",
    "Two different approaches:\n",
    "\n",
    "#### AbiPy workflows:\n",
    "\n",
    "   * Lightweight implementation (*pymatgen* + *AbiPy*)\n",
    "   * No database required. Object persistence provided by [*pickle*](https://docs.python.org/3/library/pickle.html)\n",
    "   * Ideal tool for prototyping, testing and debugging the code \n",
    "    \n",
    "    \n",
    "#### AbiFlows workflows: \n",
    "\n",
    "   * Requires [MongoDb](https://www.mongodb.com/) database\n",
    "   * Based on [fireworks](https://materialsproject.github.io/fireworks/)\n",
    "   * Designed and optimized for <u>high-throughput applications</u>\n",
    "   \n",
    "<hr>\n",
    "\n",
    "Both approaches share the same codebase (*AbinitInput*, factory functions, AbiPy objects).\n",
    "\n",
    "Number and type of calculations are important ➝ choose the approach that suits to your needs."
   ]
  },
  {
   "cell_type": "markdown",
   "metadata": {
    "slideshow": {
     "slide_type": "subslide"
    }
   },
   "source": [
    "## Main features of workflows\n",
    "\n",
    "* Factory functions for typical calculations (DFPT, GW, BSE, EPH, ...)\n",
    "* Support for different resource managers (*Slurm*, *PBS*, *Torque*, *SGE*, *LoadLever*, *shell*)\n",
    "* *autoparal*: the number of MPI processes is optimized at runtime\n",
    "* Iterative algorithms are automatically restarted by the framework\n",
    "* Error handlers for common runtime failures\n",
    "\n",
    "<center>\n",
    "<img src=\"./assets/not_converged_task_2.png\" width=\"40%\" align=\"center\">\n",
    "</center>"
   ]
  },
  {
   "cell_type": "markdown",
   "metadata": {
    "slideshow": {
     "slide_type": "skip"
    }
   },
   "source": [
    "# How to automate input file generation with AbiPy\n",
    "\n",
    "<img src=\"./assets/automate_input_files.jpg\" width=\"85%\" align=\"center\">"
   ]
  },
  {
   "cell_type": "markdown",
   "metadata": {
    "slideshow": {
     "slide_type": "slide"
    }
   },
   "source": [
    "## *AbinitInput* object \n",
    "\n",
    "Programmatic interface to generate input files:\n",
    "* *Dict-like* object storing ABINIT variables \n",
    "* Methods to set multiple variables (*e.g.* **k**-path from *structure*)\n",
    "* Factory functions to generate input files with minimal effort\n",
    "\n",
    "Can invoke ABINIT to get important parameters such as:\n",
    "  * list of **k**-points in the IBZ\n",
    "  * list of irreducible DFPT perturbations\n",
    "  * list of possible configurations for MPI jobs (*npkpt*, *npfft*, *npband* …)\n",
    "     \n",
    "#### To build an input, we need a *structure* and a list of *pseudos*:"
   ]
  },
  {
   "cell_type": "code",
   "execution_count": 2,
   "metadata": {
    "slideshow": {
     "slide_type": "-"
    }
   },
   "outputs": [],
   "source": [
    "inp = abilab.AbinitInput(structure=\"si.cif\", pseudos=\"14si.pspnc\")"
   ]
  },
  {
   "cell_type": "markdown",
   "metadata": {
    "slideshow": {
     "slide_type": "subslide"
    }
   },
   "source": [
    "#### Low-level API (should look familiar to Abinit users):"
   ]
  },
  {
   "cell_type": "code",
   "execution_count": 3,
   "metadata": {
    "slideshow": {
     "slide_type": "-"
    }
   },
   "outputs": [
    {
     "data": {
      "text/plain": [
       "True"
      ]
     },
     "execution_count": 3,
     "metadata": {},
     "output_type": "execute_result"
    }
   ],
   "source": [
    "inp[\"ecut\"] = 8\n",
    "\"ecut\" in inp"
   ]
  },
  {
   "cell_type": "markdown",
   "metadata": {
    "slideshow": {
     "slide_type": "-"
    }
   },
   "source": [
    "#### Use *set_vars* to set the value of several variables with a single call:"
   ]
  },
  {
   "cell_type": "code",
   "execution_count": 4,
   "metadata": {
    "slideshow": {
     "slide_type": "-"
    }
   },
   "outputs": [],
   "source": [
    "inp.set_vars(kptopt=1, ngkpt=[2, 2, 2],  \n",
    "             shiftk=[0.0, 0.0, 0.0, 0.5, 0.5, 0.5]  # 2 shifts in one list\n",
    "            );"
   ]
  },
  {
   "cell_type": "markdown",
   "metadata": {
    "slideshow": {
     "slide_type": "-"
    }
   },
   "source": [
    "#### althought it's much easier to use:"
   ]
  },
  {
   "cell_type": "code",
   "execution_count": 5,
   "metadata": {
    "slideshow": {
     "slide_type": "-"
    }
   },
   "outputs": [
    {
     "data": {
      "text/plain": [
       "{'ngkpt': array([2, 2, 2]),\n",
       " 'kptopt': 1,\n",
       " 'nshiftk': 4,\n",
       " 'shiftk': array([[0.5, 0.5, 0.5],\n",
       "        [0.5, 0. , 0. ],\n",
       "        [0. , 0.5, 0. ],\n",
       "        [0. , 0. , 0.5]])}"
      ]
     },
     "execution_count": 5,
     "metadata": {},
     "output_type": "execute_result"
    }
   ],
   "source": [
    "inp.set_autokmesh(nksmall=2)"
   ]
  },
  {
   "cell_type": "markdown",
   "metadata": {
    "slideshow": {
     "slide_type": "notes"
    }
   },
   "source": [
    "####  The method builds a homogeneous k-mesh from metavariables:\n",
    "\n",
    "* *nksmall* is the number of divisions used to sample the smallest lattice vector\n",
    "* *shiftk* is automatically selected from an internal database."
   ]
  },
  {
   "cell_type": "markdown",
   "metadata": {
    "slideshow": {
     "slide_type": "subslide"
    }
   },
   "source": [
    "#### An *AbinitInput* has a structure object "
   ]
  },
  {
   "cell_type": "code",
   "execution_count": 6,
   "metadata": {
    "slideshow": {
     "slide_type": "-"
    }
   },
   "outputs": [
    {
     "name": "stdout",
     "output_type": "stream",
     "text": [
      "Full Formula (Si2)\n",
      "Reduced Formula: Si\n",
      "abc   :   3.866975   3.866975   3.866975\n",
      "angles:  60.000000  60.000000  60.000000\n",
      "Sites (2)\n",
      "  #  SP       a     b     c\n",
      "---  ----  ----  ----  ----\n",
      "  0  Si    0     0     0\n",
      "  1  Si    0.25  0.25  0.25\n"
     ]
    }
   ],
   "source": [
    "print(inp.structure)"
   ]
  },
  {
   "cell_type": "markdown",
   "metadata": {
    "slideshow": {
     "slide_type": "-"
    }
   },
   "source": [
    "#### and a list of pseudopotentials"
   ]
  },
  {
   "cell_type": "code",
   "execution_count": 7,
   "metadata": {
    "slideshow": {
     "slide_type": "-"
    }
   },
   "outputs": [
    {
     "name": "stdout",
     "output_type": "stream",
     "text": [
      "<NcAbinitPseudo: 14si.pspnc>\n",
      "  summary: Troullier-Martins psp for element  Si        Thu Oct 27 17:31:21 EDT 1994\n",
      "  number of valence electrons: 4.0\n",
      "  maximum angular momentum: d\n",
      "  angular momentum for local part: d\n",
      "  XC correlation: LDA_XC_TETER93\n",
      "  supports spin-orbit: False\n",
      "  radius for non-linear core correction: 1.80626423934776\n",
      "  hint for low accuracy: ecut: 0.0, pawecutdg: 0.0\n",
      "  hint for normal accuracy: ecut: 0.0, pawecutdg: 0.0\n",
      "  hint for high accuracy: ecut: 0.0, pawecutdg: 0.0\n"
     ]
    }
   ],
   "source": [
    "print(inp.pseudos[0])"
   ]
  },
  {
   "cell_type": "markdown",
   "metadata": {
    "slideshow": {
     "slide_type": "subslide"
    }
   },
   "source": [
    "#### Inside the notebook, one gets the HTML representation with links to the documentation:"
   ]
  },
  {
   "cell_type": "code",
   "execution_count": 8,
   "metadata": {
    "slideshow": {
     "slide_type": "-"
    }
   },
   "outputs": [
    {
     "data": {
      "text/html": [
       "############################################################################################<br>#                                       SECTION: basic                                      <br>############################################################################################<br> <a href=\"https://docs.abinit.org/variables/basic#ecut\" target=\"_blank\">ecut</a> 8<br> <a href=\"https://docs.abinit.org/variables/basic#kptopt\" target=\"_blank\">kptopt</a> 1<br> <a href=\"https://docs.abinit.org/variables/basic#ngkpt\" target=\"_blank\">ngkpt</a> 2 2 2<br> <a href=\"https://docs.abinit.org/variables/basic#shiftk\" target=\"_blank\">shiftk</a><br>    0.5    0.5    0.5<br>    0.5    0.0    0.0<br>    0.0    0.5    0.0<br>    0.0    0.0    0.5<br> <a href=\"https://docs.abinit.org/variables/basic#nshiftk\" target=\"_blank\">nshiftk</a> 4<br>############################################################################################<br>#                                         STRUCTURE                                         <br>############################################################################################<br> <a href=\"https://docs.abinit.org/variables/basic#natom\" target=\"_blank\">natom</a> 2<br> <a href=\"https://docs.abinit.org/variables/basic#ntypat\" target=\"_blank\">ntypat</a> 1<br> <a href=\"https://docs.abinit.org/variables/basic#typat\" target=\"_blank\">typat</a> 1 1<br> <a href=\"https://docs.abinit.org/variables/basic#znucl\" target=\"_blank\">znucl</a> 14<br> <a href=\"https://docs.abinit.org/variables/basic#xred\" target=\"_blank\">xred</a><br>    0.0000000000    0.0000000000    0.0000000000<br>    0.2500000000    0.2500000000    0.2500000000<br> <a href=\"https://docs.abinit.org/variables/basic#acell\" target=\"_blank\">acell</a>    1.0    1.0    1.0<br> <a href=\"https://docs.abinit.org/variables/basic#rprim\" target=\"_blank\">rprim</a><br>    6.3285005272    0.0000000000    3.6537614829<br>    2.1095001757    5.9665675167    3.6537614829<br>    0.0000000000    0.0000000000    7.3075229659"
      ],
      "text/plain": [
       "<AbinitInput at 4522742672>"
      ]
     },
     "execution_count": 8,
     "metadata": {},
     "output_type": "execute_result"
    }
   ],
   "source": [
    "inp"
   ]
  },
  {
   "cell_type": "markdown",
   "metadata": {
    "slideshow": {
     "slide_type": "notes"
    }
   },
   "source": [
    "#### To generate a high-symmetry k-path (taken from an internal database)"
   ]
  },
  {
   "cell_type": "code",
   "execution_count": 9,
   "metadata": {
    "slideshow": {
     "slide_type": "notes"
    }
   },
   "outputs": [
    {
     "data": {
      "text/plain": [
       "{'kptbounds': array([[0.   , 0.   , 0.   ],\n",
       "        [0.5  , 0.   , 0.5  ],\n",
       "        [0.5  , 0.25 , 0.75 ],\n",
       "        [0.375, 0.375, 0.75 ],\n",
       "        [0.   , 0.   , 0.   ],\n",
       "        [0.5  , 0.5  , 0.5  ],\n",
       "        [0.625, 0.25 , 0.625],\n",
       "        [0.5  , 0.25 , 0.75 ],\n",
       "        [0.5  , 0.5  , 0.5  ],\n",
       "        [0.375, 0.375, 0.75 ],\n",
       "        [0.625, 0.25 , 0.625],\n",
       "        [0.5  , 0.   , 0.5  ]]), 'kptopt': -11, 'ndivsm': 10, 'iscf': -2}"
      ]
     },
     "execution_count": 9,
     "metadata": {},
     "output_type": "execute_result"
    }
   ],
   "source": [
    "inp.set_kpath(ndivsm=10)"
   ]
  },
  {
   "cell_type": "markdown",
   "metadata": {
    "slideshow": {
     "slide_type": "notes"
    }
   },
   "source": [
    "* Ten points to sample the smallest segment of the **k**-path\n",
    "* Other segments are sampled so that proportions are preserved"
   ]
  },
  {
   "cell_type": "markdown",
   "metadata": {
    "slideshow": {
     "slide_type": "subslide"
    }
   },
   "source": [
    "#### If you mistype the name of the variable, AbinitInput raises an error:"
   ]
  },
  {
   "cell_type": "code",
   "execution_count": 10,
   "metadata": {
    "slideshow": {
     "slide_type": "-"
    }
   },
   "outputs": [
    {
     "name": "stdout",
     "output_type": "stream",
     "text": [
      "\n",
      "Cannot find variable `perl` in internal database.\n",
      "If you think this is not a typo, use:\n",
      "\n",
      "    input.set_spell_check(False)\n",
      "\n",
      "to disable spell checking. Perhaps the internal database is not in synch\n",
      "with the Abinit version you are using. Please contact the AbiPy developers.\n"
     ]
    }
   ],
   "source": [
    "try:\n",
    "    inp.set_vars(perl=0)\n",
    "except Exception as exc:\n",
    "    print(exc)"
   ]
  },
  {
   "cell_type": "markdown",
   "metadata": {
    "slideshow": {
     "slide_type": "subslide"
    }
   },
   "source": [
    "#### because AbiPy uses the internal database of input variables (see abimkdcocs talk)"
   ]
  },
  {
   "cell_type": "code",
   "execution_count": 11,
   "metadata": {
    "slideshow": {
     "slide_type": "-"
    }
   },
   "outputs": [
    {
     "data": {
      "text/html": [
       "<h2>Default value:</h2>\n",
       "<p>None</p>\n",
       "<h2>Description:</h2>\n",
       "<p>Used for kinetic energy cutoff which controls number of planewaves at given k point by:\n",
       "(1/2)[(2 Pi)*(k+Gmax)]  2  =<b>ecut</b> for Gmax.</p>\n",
       "<p>All planewaves inside this \"basis sphere\" centered at k are included in the basis (except if <b>dilatmx</b> is defined).\n",
       "Can be specified in Ha (the default), Ry, eV or Kelvin, since <b>ecut</b> has the\n",
       "'<b>ENERGY</b>' characteristics. (1 Ha=27.2113845 eV)\n",
       "This is the single parameter which can have an enormous effect on the quality\n",
       "of a calculation; basically the larger <b>ecut</b> is, the better converged the\n",
       "calculation is. For fixed geometry, the total energy MUST always decrease as\n",
       "<b>ecut</b> is raised because of the variational nature of the problem.</p>\n",
       "<p><em>Usually one runs at least several calculations at various <b>ecut</b> to\n",
       "investigate the convergence needed for reliable results.</em></p>\n",
       "<p>For k-points whose coordinates are build from 0 or 1/2, the implementation of\n",
       "time-reversal symmetry that links coefficients of the wavefunctions in\n",
       "reciprocal space has been realized. See the input variable <b>istwfk</b>. If\n",
       "activated (which corresponds to the Default mode), this input variable\n",
       "<b>istwfk</b> will allow to divide the number of plane wave (npw) treated\n",
       "explicitly by a factor of two. Still, the final result should be identical\n",
       "with the 'full' set of plane waves.</p>\n",
       "<p>See the input variable <b>ecutsm</b>, for the smoothing of the kinetic energy,\n",
       "needed to optimize unit cell parameters.</p>"
      ],
      "text/plain": [
       "ecut  <Energy CUToff>"
      ]
     },
     "execution_count": 11,
     "metadata": {},
     "output_type": "execute_result"
    }
   ],
   "source": [
    "abilab.docvar(\"ecut\")"
   ]
  },
  {
   "cell_type": "markdown",
   "metadata": {
    "slideshow": {
     "slide_type": "slide"
    }
   },
   "source": [
    "## Interfacing Abinit with Python via *AbinitInput*\n",
    "\n",
    "* Once we have an *AbinitInput*, it is possible to execute Abinit to:\n",
    "\n",
    "    * get useful information from the Fortran code (e.g. IBZ, space group…)\n",
    "    * validate the input file before running the calculation \n",
    "        \n",
    "* Methods invoking Abinit start with the *abi* prefix followed by a verb: \n",
    "\n",
    "    * *inp.abiget_irred_phperts(...)* \n",
    "    * *inp.abivalidate()*\n",
    "\n",
    "#### Important: \n",
    "\n",
    "* To call Abinit from AbiPy, one has to prepare a configuration file (*manager.yml*)\n",
    "  providing all the information required to execute/submit Abinit jobs: \n",
    "\n",
    "     * `$PATH`, `$LD_LIBRARY_PATH`\n",
    "     * modules\n",
    "     * python environment\n",
    "\n",
    "\n",
    "* For futher info consult the [documentation](https://abinit.github.io/abipy/workflows/taskmanager.html)\n",
    "\n"
   ]
  },
  {
   "cell_type": "markdown",
   "metadata": {
    "slideshow": {
     "slide_type": "subslide"
    }
   },
   "source": [
    "#### To get the list of k-points in the IBZ as computed by Abinit:"
   ]
  },
  {
   "cell_type": "code",
   "execution_count": 12,
   "metadata": {
    "slideshow": {
     "slide_type": "-"
    }
   },
   "outputs": [
    {
     "name": "stdout",
     "output_type": "stream",
     "text": [
      "Number of k-points: 198\n",
      "Weights normalized to: 198.0\n",
      "0 kpt: [0. 0. 0.] weight: 1.0\n",
      "1 kpt: [0.01785714 0.         0.01785714] weight: 1.0\n",
      "2 kpt: [0.03571429 0.         0.03571429] weight: 1.0\n",
      "3 kpt: [0.05357143 0.         0.05357143] weight: 1.0\n",
      "4 kpt: [0.07142857 0.         0.07142857] weight: 1.0\n",
      "...\n"
     ]
    }
   ],
   "source": [
    "ibz = inp.abiget_ibz()\n",
    "\n",
    "print(\"Number of k-points:\", len(ibz.points))\n",
    "print(\"Weights normalized to:\", ibz.weights.sum())\n",
    "n = min(5, len(ibz.points))\n",
    "for i, (k, w) in enumerate(zip(ibz.points[:n], ibz.weights[:n])):\n",
    "    print(i, \"kpt:\", k, \"weight:\", w)\n",
    "if n != len(ibz.points): print(\"...\")"
   ]
  },
  {
   "cell_type": "markdown",
   "metadata": {
    "slideshow": {
     "slide_type": "-"
    }
   },
   "source": [
    "* Being able to call ABINIT from python is crucial for implementing automatic calculations,\n",
    "  especially when symmetries and $\\bf{k}$-points are involved\n",
    "* The calculation is done in Fortran so ABINIT is always right even when it's wrong!"
   ]
  },
  {
   "cell_type": "markdown",
   "metadata": {
    "slideshow": {
     "slide_type": "subslide"
    }
   },
   "source": [
    "#### To get the list of possible parallel configurations for this input up to *max_ncpus*:"
   ]
  },
  {
   "cell_type": "code",
   "execution_count": 13,
   "metadata": {
    "slideshow": {
     "slide_type": "-"
    }
   },
   "outputs": [
    {
     "name": "stdout",
     "output_type": "stream",
     "text": [
      "Best efficiency:\n",
      " {'efficiency': 0.8465,\n",
      " 'mem_per_cpu': 0.0,\n",
      " 'mpi_ncpus': 5,\n",
      " 'omp_ncpus': 1,\n",
      " 'tot_ncpus': 5,\n",
      " 'vars': {'bandpp': 1,\n",
      "          'npband': 1,\n",
      "          'npfft': 1,\n",
      "          'npimage': 1,\n",
      "          'npkpt': 5,\n",
      "          'npspinor': 1}}\n",
      "\n"
     ]
    }
   ],
   "source": [
    "inp[\"paral_kgb\"] = 1\n",
    "pconfs = inp.abiget_autoparal_pconfs(max_ncpus=5)\n",
    "print(\"Best efficiency:\\n\", pconfs.sort_by_efficiency()[0])\n",
    "#print(\"Best speedup:\\n\", pconfs.sort_by_speedup()[0])"
   ]
  },
  {
   "cell_type": "markdown",
   "metadata": {
    "slideshow": {
     "slide_type": "-"
    }
   },
   "source": [
    "* python will select the \"optimal\" configuration according to some criterion and constraints e.g. exclusive node allocation\n",
    "* Crucial for implementing automatic $GW$ calculations\n",
    "* Supporting *autoparal* for all possible cases is not trivial. \n",
    "* For new developments (e.g. EPH) we prefer to implement smart logic in fortran "
   ]
  },
  {
   "cell_type": "markdown",
   "metadata": {
    "slideshow": {
     "slide_type": "subslide"
    }
   },
   "source": [
    "#### To get the list of irreducible phonon perturbations for a given q-point:"
   ]
  },
  {
   "cell_type": "code",
   "execution_count": 14,
   "metadata": {
    "slideshow": {
     "slide_type": "-"
    }
   },
   "outputs": [
    {
     "data": {
      "text/plain": [
       "[{'qpt': [0.25, 0.0, 0.0], 'ipert': 1, 'idir': 1},\n",
       " {'qpt': [0.25, 0.0, 0.0], 'ipert': 1, 'idir': 2}]"
      ]
     },
     "execution_count": 14,
     "metadata": {},
     "output_type": "execute_result"
    }
   ],
   "source": [
    "inp.abiget_irred_phperts(qpt=(0.25, 0, 0))"
   ]
  },
  {
   "cell_type": "markdown",
   "metadata": {
    "slideshow": {
     "slide_type": "-"
    }
   },
   "source": [
    "#### To get the irreducible perturbations for strain calculations:"
   ]
  },
  {
   "cell_type": "code",
   "execution_count": 15,
   "metadata": {
    "slideshow": {
     "slide_type": "-"
    }
   },
   "outputs": [
    {
     "data": {
      "text/plain": [
       "[{'qpt': [0.0, 0.0, 0.0], 'ipert': 1, 'idir': 1},\n",
       " {'qpt': [0.0, 0.0, 0.0], 'ipert': 5, 'idir': 1},\n",
       " {'qpt': [0.0, 0.0, 0.0], 'ipert': 5, 'idir': 2},\n",
       " {'qpt': [0.0, 0.0, 0.0], 'ipert': 5, 'idir': 3},\n",
       " {'qpt': [0.0, 0.0, 0.0], 'ipert': 6, 'idir': 1},\n",
       " {'qpt': [0.0, 0.0, 0.0], 'ipert': 6, 'idir': 2},\n",
       " {'qpt': [0.0, 0.0, 0.0], 'ipert': 6, 'idir': 3}]"
      ]
     },
     "execution_count": 15,
     "metadata": {},
     "output_type": "execute_result"
    }
   ],
   "source": [
    "inp.abiget_irred_strainperts()"
   ]
  },
  {
   "cell_type": "markdown",
   "metadata": {
    "slideshow": {
     "slide_type": "-"
    }
   },
   "source": [
    "* DFPT perturbations are independent hence jobs can be executed in parallel\n",
    "* These methods represent the **building block** to generate workflows at runtime.\n",
    "<!-- div class=\"alert alert-info\"> </div -->"
   ]
  },
  {
   "cell_type": "markdown",
   "metadata": {
    "slideshow": {
     "slide_type": "slide"
    }
   },
   "source": [
    "<center><img src=\"./assets/how_does_it_work.jpg\" width=\"50%\" align=\"center\"></center>\n",
    "\n",
    "* ABINIT and AbiPy communicate through Yaml docs and netcdf files\n",
    "* AbiPy uses the protocol to:\n",
    "     * generate input files\n",
    "     * handle errors\n",
    "     * implement high-level logic\n",
    "* Config options required to run/submit calculations are specified in *manager.yml* "
   ]
  },
  {
   "cell_type": "markdown",
   "metadata": {
    "slideshow": {
     "slide_type": "subslide"
    }
   },
   "source": [
    "## Example of *manager.yml* for laptops (shell adapter)\n",
    "<hr>\n",
    "\n",
    "```yaml\n",
    "\n",
    "qadapters:\n",
    "  # List of qadapters objects \n",
    "  - priority: 1 \n",
    "    queue:\n",
    "      qtype: shell\n",
    "      qname: localhost\n",
    "    job:\n",
    "       mpi_runner: mpirun\n",
    "       pre_run: \n",
    "           # abinit exec must be in $PATH\n",
    "           - export PATH=$HOME/git_repos/abinit/_build/src/98_main:$PATH\n",
    "    limits:\n",
    "       timelimit: 30:00\n",
    "       max_cores: 2\n",
    "    hardware:\n",
    "       num_nodes: 2\n",
    "       sockets_per_node: 1\n",
    "       cores_per_socket: 2\n",
    "       mem_per_node: 4Gb\n",
    "```\n",
    "\n",
    "* Examples of configuration files for clusters available [here](https://abinit.github.io/abipy/workflows/manager_examples.html)\n",
    "\n",
    "* Use *abirun.py doc_manager* to get documentation inside the shell"
   ]
  },
  {
   "cell_type": "markdown",
   "metadata": {
    "slideshow": {
     "slide_type": "notes"
    }
   },
   "source": [
    "## An example for a Slurm-based cluster\n",
    "<hr>\n",
    "\n",
    "```yaml\n",
    "\n",
    "hardware: &hardware\n",
    "   num_nodes: 80\n",
    "   sockets_per_node: 2\n",
    "   cores_per_socket: 12\n",
    "   mem_per_node: 95Gb\n",
    "\n",
    "job: &job\n",
    "    mpi_runner: mpirun\n",
    "    modules: # Load modules used to compile Abinit \n",
    "        - intel/2017b\n",
    "        - netCDF-Fortran/4.4.4-intel-2017b\n",
    "        - abinit_8.11\n",
    "    pre_run: \"ulimit -s unlimited\"\n",
    "\n",
    "# Slurm options.\n",
    "qadapters:\n",
    "  - priority: 1\n",
    "    queue:\n",
    "       qtype: slurm\n",
    "       #qname: Def\n",
    "    limits:\n",
    "       timelimit: 0-0:30:00\n",
    "       min_cores: 1\n",
    "       max_cores: 12\n",
    "       min_mem_per_proc: 1000\n",
    "       max_mem_per_proc: 2000\n",
    "       max_num_launches: 10\n",
    "    hardware: *hardware\n",
    "    job: *job\n",
    "```"
   ]
  },
  {
   "cell_type": "markdown",
   "metadata": {
    "slideshow": {
     "slide_type": "subslide"
    }
   },
   "source": [
    "## Why two formats?\n",
    "\n",
    "Each format has pros and cons:\n",
    "\n",
    "* **YAML**\n",
    "    * Used for small documents:\n",
    "        * error messages in log file\n",
    "        * *autoparal* section\n",
    "        * list of DFPT *perturbations* \n",
    "    * Easy to write with plain Fortran write (provided doc is *flat*) \n",
    "    * Not designed for big-data and performance  \n",
    "    * There are still speciaize cases in which Yaml can be used to represent results (cfr Theo's talk) but\n",
    "      Yaml should be used when both human- and machine-readability are wanted!\n",
    "        \n",
    "* **Netcdf4**\n",
    "    * Portable binary format. Can handle big-data and <u>metadata</u> in an efficient way\n",
    "    * Support for parallel MPI-IO (HDF5)\n",
    "    * [ETSF-IO specifications](https://www.etsf.eu/fileformats) for crystalline structures, wavefunctions, densities…\n",
    "    * Still, ETSF-IO specs are not enough as we need to add *hdr_t* and lot of physical properties \n",
    "      are not covered by the standard\n",
    "    * A machine-readable format is also human-readable. Just put some python logic around it! "
   ]
  },
  {
   "cell_type": "markdown",
   "metadata": {
    "slideshow": {
     "slide_type": "subslide"
    }
   },
   "source": [
    "## Error messages in Yaml\n",
    "<p></p>\n",
    "\n",
    "#### Fortran API\n",
    "<p></p>\n",
    "\n",
    "```fortran\n",
    "MSG_ERROR(\"Fatal error!\")\n",
    "MSG_BUG(\"This is a bug!\")\n",
    "ABI_CHECK(natom > 0, sjoin(\"Input natom must be > 0 but was:\", itoa(natom))\n",
    "```\n",
    "\n",
    "* Macros to call the error handler and MPI_ABORT to terminates all processes \n",
    "* Never ever use plain Fortran *stop* in MPI codes \n",
    "\n",
    "#### Yaml doc printed to log file (if master) and  `__ABI_ABORT_FILE__`\n",
    "<p></p>\n",
    "\n",
    "```yaml\n",
    "--- !ERROR\n",
    "src_file: m_invars1.F90\n",
    "src_line: 314\n",
    "mpi_rank: 0\n",
    "message: |\n",
    "    Input natom must be > 0, but was -42 \n",
    "...\n",
    "```\n",
    "\n",
    "* *src_file* and *str_line* added by CPP preprocessor (see *abi_common.h*)\n",
    "* *message*: Informative string for users. It might be used by AbiPy for quick fixes \n",
    "  although we prefer a more robust approach..."
   ]
  },
  {
   "cell_type": "markdown",
   "metadata": {
    "slideshow": {
     "slide_type": "subslide"
    }
   },
   "source": [
    "## Specialized error classes \n",
    "\n",
    "* Runtime errors that appear with a certain frequency are associated to specialized error classes:  \n",
    "<p></p>\n",
    "\n",
    "```fortran\n",
    "             MSG_ERROR_CLASS(dilatmx_errmsg, \"DilatmxError\")\n",
    "```\n",
    "\n",
    "* These classes bring metadata and/or imply some action at the Fortran level \n",
    "\n",
    "* The presence of the Yaml Error in the log file triggers specialized logic in python:\n",
    "\n",
    "<center><img src=\"./assets/dilatmx_2.png\" width=\"25%\" align=\"center\"></center>\n",
    "\n",
    "* As usual, error handling requires some discipline 🧘..."
   ]
  },
  {
   "cell_type": "markdown",
   "metadata": {
    "slideshow": {
     "slide_type": "subslide"
    }
   },
   "source": [
    "## Fortran handler based on YAML + netcdf\n",
    "<p></p>\n",
    "\n",
    "```fortran\n",
    "call chkdilatmx(dt_chkdilatmx, dilatmx, rprimd, rprimd_orig, dilatmx_errmsg)\n",
    "\n",
    "if (len_trim(dilatmx_errmsg) /= 0) then\n",
    "  nerr_dilatmx = nerr_dilatmx + 1\n",
    "  if (nerr_dilatmx > 3) then\n",
    "    ! Write last structure before aborting so that we can restart from it.\n",
    "    if (my_rank == master) then\n",
    "      NCF_CHECK(crystal%ncwrite_path(\"out_DILATMX_STRUCT.nc\")))\n",
    "    end if\n",
    "    call xmpi_barrier(comm_cell)\n",
    "    write(dilatmx_errmsg, '(a,i0,3a)') &\n",
    "      'Dilatmx has been exceeded too many times (', nerr_dilatmx, ')',ch10, &\n",
    "      'Restart calculation from larger lattice vectors and/or a larger dilatmx'\n",
    "    MSG_ERROR_CLASS(dilatmx_errmsg, \"DilatmxError\")\n",
    "  end if\n",
    "end if\n",
    "```\n",
    "\n",
    "* If `!DilatmxError` in log file, AbiPy expects a ncfile with the last structure\n",
    "* Note MPI_BARRIER to guarantee that the ncfile is written before MPI_ABORT"
   ]
  },
  {
   "cell_type": "markdown",
   "metadata": {
    "slideshow": {
     "slide_type": "skip"
    }
   },
   "source": [
    "## How do we understand that the job completed successfully?\n",
    "<p></p>\n",
    "\n",
    "```yaml\n",
    "--- !FinalSummary\n",
    "program: abinit\n",
    "version: 8.11.6\n",
    "start_datetime: Sat Mar 30 23:01:14 2019\n",
    "end_datetime: Sat Mar 30 23:04:04 2019\n",
    "overall_cpu_time:         168.8\n",
    "overall_wall_time:         169.7\n",
    "exit_requested_by_user: no \n",
    "timelimit: 0\n",
    "pseudos: \n",
    "    Li  : 9517c0b7d24d4898578b8627ce68311d\n",
    "    F   : 14cf65a61ba7320a86892d2f062b1f44\n",
    "usepaw: 0\n",
    "mpi_procs: 1\n",
    "omp_threads: 1\n",
    "num_warnings: 2\n",
    "num_comments: 73\n",
    "...\n",
    "```"
   ]
  },
  {
   "cell_type": "markdown",
   "metadata": {
    "slideshow": {
     "slide_type": "subslide"
    }
   },
   "source": [
    "## Netcdf files in Abinit\n",
    "\n",
    "#### Phylosophy\n",
    "\n",
    "* A ncfile is a container of \"objects\"\n",
    "* Each object implements the *ncwrite* method to dump its status\n",
    "* Client code uses these methods to implement *composition*\n",
    "* A *GSR.nc* file, for instance, has a *crystal*, an *header*, *ebands* and *results_gs*\n",
    "\n",
    "#### Fortran code for GSR.nc\n",
    "<p></p>\n",
    "\n",
    "```Fortran\n",
    "! Write crystal and band structure energies.\n",
    "ncerr = nctk_open_create(ncid, \"si_scf_GSR.nc\", xmpi_comm_self))\n",
    "ncerr = hdr%ncwrite(ncid, fform_den, nc_define=.True.)\n",
    "ncerr = crystal%ncwrite(ncid)\n",
    "ncerr = ebands%ncwrite(ncid)\n",
    "! Add energy, forces, stresses\n",
    "ncerr = results_gs%ncwrite(ncid, dtset%ecut, dtset%pawecutdg))\n",
    "ncerr = nf90_close(ncid)\n",
    "```\n",
    "\n",
    "#### The same pattern can be used for other files\n",
    "<p></p>\n",
    "\n",
    "```fortran\n",
    "NCF_CHECK(nctk_open_create(ncid, \"out_PHDOS.nc\", xmpi_comm_self))\n",
    "NCF_CHECK(cryst%ncwrite(ncid))\n",
    "NCF_CHECK(phdos%ncwrite(ncid)\n",
    "NCF_CHECK(nf90_close(ncid))\n",
    "```"
   ]
  },
  {
   "cell_type": "markdown",
   "metadata": {
    "slideshow": {
     "slide_type": "subslide"
    }
   },
   "source": [
    "#### Advantages\n",
    "\n",
    "* Code reuse: implement extra logic just for the *extra data*\n",
    "* Standardized format for structure, hdr, crystal, ebands ...\n",
    "* Post-processing tools need metadata (e.g. structure) to interpret the data \n",
    "* Less boiler-plate code to implement parsers and post-processing tools\n",
    "\n",
    "#### Abipy implementation based on mixins\n",
    "<p></p>\n",
    "\n",
    "\n",
    "```python\n",
    "class GsrFile(Has_Header, Has_Structure, Has_ElectronBands, ...):\n",
    "    \"\"\"This file contains ground-state results\"\"\"\n",
    "    \n",
    "class FatBandsFile(Has_Header, Has_Structure, Has_ElectronBands, ...):\n",
    "    \"\"\"This file contains LM-projected bands\"\"\"\n",
    "```\n",
    "\n",
    "#### Easy-to-use API that plays well with the dynamic nature of the Python language\n",
    "<p></p>\n",
    "\n",
    "```python\n",
    "for path in (\"out_GSR.nc\", \"out_FATBANDS.nc\", \"out_WFK.nc\", \"out_SIGEPH.nc\"):\n",
    "    abifile = abilab.abiopen(path)\n",
    "    abifile.ebands.plot()\n",
    "```"
   ]
  },
  {
   "cell_type": "code",
   "execution_count": 16,
   "metadata": {
    "slideshow": {
     "slide_type": "subslide"
    }
   },
   "outputs": [
    {
     "name": "stdout",
     "output_type": "stream",
     "text": [
      "npwarr [181 178 193 195 180 177 193 196 193 189 193 186 202 195 192 190 192 198\n",
      " 198 194 190 194 195 194 197 198 197 196 200]\n",
      "pspso [0]\n",
      "ecutsm 0.0\n",
      "codvsn 8.0.6\n"
     ]
    }
   ],
   "source": [
    "gsr = abilab.abiopen(\"si_scf_GSR.nc\")\n",
    "for key in (\"npwarr\", \"pspso\", \"ecutsm\", \"codvsn\"):\n",
    "    print(key, gsr.hdr[key])"
   ]
  },
  {
   "cell_type": "code",
   "execution_count": 17,
   "metadata": {},
   "outputs": [],
   "source": [
    "#Objects are constructed lazily from file\n",
    "#print(gsr.hdr.to_string())"
   ]
  },
  {
   "cell_type": "code",
   "execution_count": 18,
   "metadata": {
    "slideshow": {
     "slide_type": "notes"
    }
   },
   "outputs": [
    {
     "data": {
      "text/plain": [
       "Term                  Value\n",
       "e_localpsp            -68.62575616682041 eV\n",
       "e_eigenvalues         4.453251781809304 eV\n",
       "e_ewald               -226.94266538122858 eV\n",
       "e_hartree             14.989583868349118 eV\n",
       "e_corepsp             2.262480246606245 eV\n",
       "e_corepspdc           0.0 eV\n",
       "e_kinetic             80.6603511758275 eV\n",
       "e_nonlocalpsp         52.15353045099117 eV\n",
       "e_entropy             0.0 eV\n",
       "entropy               0.0 eV\n",
       "e_xc                  -95.73399250916707 eV\n",
       "e_xcdc                0.0 eV\n",
       "e_paw                 0.0 eV\n",
       "e_pawdc               0.0 eV\n",
       "e_elecfield           0.0 eV\n",
       "e_magfield            0.0 eV\n",
       "e_fermie              5.5984532787385985 eV\n",
       "e_sicdc               0.0 eV\n",
       "e_exactX              0.0 eV\n",
       "h0                    0.0 eV\n",
       "e_electronpositron    0.0 eV\n",
       "edc_electronpositron  0.0 eV\n",
       "e0_electronpositron   0.0 eV\n",
       "e_monopole            0.0 eV"
      ]
     },
     "execution_count": 18,
     "metadata": {},
     "output_type": "execute_result"
    }
   ],
   "source": [
    "gsr.energy_terms"
   ]
  },
  {
   "cell_type": "markdown",
   "metadata": {
    "slideshow": {
     "slide_type": "notes"
    }
   },
   "source": [
    "#### This function returns an *AbiFile* object provinding access to physical properties.\n",
    "\n",
    "Conventions:\n",
    "\n",
    "   * *abifile.structure* ➝ crystalline structure (subclass of pymatgen *Structure*)\n",
    "   * *abifile.ebands* ➝ electron band energies\n",
    "   * *abifile.ebands.kpoints* ➝ list of k-points (k-path, IBZ) \n",
    "   * *abifile.phbands* ➝ phonon frequencies and displacements\n",
    "   \n",
    "Several AbiPy objects provide *plot* methods returning [*matplotlib*](https://matplotlib.org/) figures"
   ]
  },
  {
   "cell_type": "markdown",
   "metadata": {
    "slideshow": {
     "slide_type": "notes"
    }
   },
   "source": [
    "<img src=\"./assets/mongoengine_logo.png\" width=\"50%\" align=\"center\">\n",
    "\n",
    "#### Document-Object Mapper \n",
    "\n",
    "   * Like ORM but for document databases\n",
    "   * Mixins for standard quantities\n",
    "   * Document associated with workflows\n",
    "   * Standardized output\n",
    "\n",
    "abiflows.database.mongoengine modules:"
   ]
  },
  {
   "cell_type": "markdown",
   "metadata": {
    "slideshow": {
     "slide_type": "notes"
    }
   },
   "source": [
    "### How to recostruct AbiPy objects from a MondoDb database\n",
    "<p></p>\n",
    "\n",
    "```python\n",
    "from abiflows.database.mongoengine.abinit_results import PhononResult\n",
    "\n",
    "# Find results for SiC\n",
    "r = PhononResult.objects(mp_id='mp-8062')[0] \n",
    "\n",
    "# Get DDB object from the database.\n",
    "with r.abinit_output.gs_gsr.abiopen() as gsr:\n",
    "    gsr.ebands.plot()\n",
    "    \n",
    "# Get DDB object from the database.\n",
    "with r.abinit_output.ddb.abiopen() as ddb: \n",
    "    # Run anaddb \n",
    "    phbst, phdos = ddb.anaget_phbst_and_phdos_files(ngqpt=[8, 8, 5]) \n",
    "    # Use AbiPy API\n",
    "    phbst.phbands.plot_with_phdos(phdos.phdos, units='cm-1')\n",
    "```"
   ]
  },
  {
   "cell_type": "markdown",
   "metadata": {
    "slideshow": {
     "slide_type": "slide"
    }
   },
   "source": [
    "<center><img src=\"./assets/technical_problems.jpg\" width=\"55%\" align=\"center\"></center>"
   ]
  },
  {
   "cell_type": "markdown",
   "metadata": {
    "slideshow": {
     "slide_type": "subslide"
    }
   },
   "source": [
    "#### Using AbiPy to implement unit tests with extra logic\n",
    "\n",
    "* More that 1200 tests in *TestSuite* still the infrastructure <u>is not bulletproof</u>\n",
    "* We assume the reference files are *always* correct but mistakes happen and there are errors that can be easily spotted by analyzing the raw data\n",
    "\n",
    "\n",
    "#### Based on a true story:\n",
    "\n",
    "* a bug in the calculation of the ph-DOS entered trunk/develop\n",
    "* refs were updated so buildbot was happy!\n",
    "* fortunately, AbiPy detected the problem because there was a test based \n",
    "* on the post-processing of the numerical results"
   ]
  },
  {
   "cell_type": "markdown",
   "metadata": {
    "slideshow": {
     "slide_type": "subslide"
    }
   },
   "source": [
    "```python\n",
    "# Test whether projected DOSes computed by anaddb integrate to 3*natom.\n",
    "ddb = abilab.abiopen(\"out_DDB\")\n",
    "\n",
    "for dos_method in (\"tetra\", \"gaussian\"):\n",
    "    # Get phonon bands and dos with anaddb.\n",
    "    phbands_file, phdos_file = ddb.anaget_phbst_and_phdos_files(dos_method=dos_method)\n",
    "\n",
    "    phbands, phdos = phbands_file.phbands, phdos_file.phdos\n",
    "    natom3 = len(phbands.structure) * 3\n",
    "\n",
    "    # Total PHDOS should integrate to 3 * natom\n",
    "    assert_almost_equal(phdos.integral_value, natom3)\n",
    "\n",
    "    # Summing projected DOSes over types should give the total DOS.\n",
    "    pj_sum = sum(pjdos.integral_value for pjdos in phdos_file.pjdos_symbol.values())\n",
    "    assert_almost_equal(phdos.integral_value, pj_sum)\n",
    "\n",
    "    # Summing proj-DOSes over types and directions should give the total DOS.\n",
    "    values = phdos_file.reader.read_value(\"pjdos_rc_type\").sum(axis=(0, 1))\n",
    "    tot_dos = abilab.Function1D(phdos.mesh, values)\n",
    "    assert_almost_equal(phdos.integral_value, tot_dos.integral_value)\n",
    "```"
   ]
  },
  {
   "cell_type": "markdown",
   "metadata": {
    "slideshow": {
     "slide_type": "subslide"
    }
   },
   "source": [
    "* The idea is not new: FFTW3 built-in tests use this kind of internal consistency check\n",
    "* Implementing this kind of tests in Fortran is a real pain (I did it for the FFT machinery in *fftprof*)\n",
    "* python and the AbiPy API represent a very flexible approach to implement this kind of agnostic tests\n",
    "* Want to run the test in parallel with MPI? Just add:\n",
    "<p></p>\n",
    "\n",
    "```python\n",
    "for mpi_procs in range(1, 10**23):\n",
    "    ddb.anaget_phbst_and_phdos_files(dos_method=dos_method, mpi_procs=mpi_procs)\n",
    "```"
   ]
  },
  {
   "cell_type": "markdown",
   "metadata": {
    "slideshow": {
     "slide_type": "slide"
    }
   },
   "source": [
    "## Clean exit with *--timeline* and smart-io mode\n",
    "<p></p>\n",
    "\n",
    "```sh\n",
    "$ cat job.sh\n",
    "\n",
    "#!/bin/bash\n",
    "#SBATCH --ntasks=48\n",
    "#SBATCH --time=12:00:00\n",
    "\n",
    "abinit --timelimit 12:00:00 < run.file > run.log 2> run.err\n",
    "```\n",
    "\n",
    "* Available for iterative algorithms (Relax, Scf, Nscf?)\n",
    "* Compute wall-time required by one iteration, save intermediate results if timelimit is approaching\n",
    "* Abipy will restart the job from the previous results\n",
    "* timelimit and prtwf -1 to reduce IO-pressure and avoid disk-quota hell \n",
    "\n",
    "Discuss IO pressure, too many files"
   ]
  },
  {
   "cell_type": "markdown",
   "metadata": {
    "slideshow": {
     "slide_type": "subslide"
    }
   },
   "source": [
    "### TestSuite is too gentle whereas the world is dark and full of errors  🐉🐉🐉\n",
    "\n",
    "> Stress testing involves testing beyond normal operational capacity, \n",
    "  often to a breaking point, in order to observe the results (*wikipedia*)\n",
    "\n",
    "Reasons can include:\n",
    "\n",
    "* to determine breaking points or safe usage limits\n",
    "* to confirm intended specifications are being met\n",
    "* to determine modes of failure (how exactly a system fails)\n",
    "\n",
    "Example: *ionmov 22*, see Guido's talk\n",
    "\n",
    "* AbiPy uses integration tests to check *ErrorHandlers*. The code is supposed to \n",
    "  **fail several times** before giving the right answer. \n",
    "* Is it possible to implement this pattern in *TestSuite*?"
   ]
  },
  {
   "cell_type": "markdown",
   "metadata": {
    "slideshow": {
     "slide_type": "subslide"
    }
   },
   "source": [
    "#### Using AbiPy to benchmark ABINIT\n",
    "\n",
    "* The programmatic API allows one to write benchmarks in a few lines of code\n",
    "* Want to analyze the strong scaling efficiency of the GS solver with different configurations \n",
    "  of MPI/OMP and input variables?"
   ]
  },
  {
   "cell_type": "markdown",
   "metadata": {
    "slideshow": {
     "slide_type": "-"
    }
   },
   "source": [
    "```python\n",
    "# Titanium with 256 atoms and k-point sampling.\n",
    "# GS calculations with paral_kgb == 1 and different values of wfoptalg.\n",
    "\n",
    "# List of MPI distribution.\n",
    "pconfs = [\n",
    "     dict(npkpt=2, npband=8 , npfft=8 ),  # 128\n",
    "     dict(npkpt=2, npband=8 , npfft=16),  # 256\n",
    "     dict(npkpt=2, npband=16, npfft=16),  # 512\n",
    "     dict(npkpt=2, npband=16, npfft=32),  # 1024\n",
    "]\n",
    "\n",
    "omp_list = [1, 2 4] # List of OpenMP threads\n",
    "\n",
    "flow = BenchmarkFlow()\n",
    "template = make_input()\n",
    "\n",
    "for wfoptalg in [None, 1]:\n",
    "    work = flowtk.Work()\n",
    "    for d, omp_threads in product(pconfs, omp_list):\n",
    "        mpi_procs = reduce(operator.mul, d.values(), 1)\n",
    "        manager = manager.new_with_fixed_mpi_omp(mpi_procs, omp_threads)\n",
    "        inp = template.new_with_vars(d, wfoptalg=wfoptalg)\n",
    "        work.register_scf_task(inp, manager=manager)\n",
    "    flow.register_work(work)\n",
    "\n",
    "flow.allocate()\n",
    "```"
   ]
  },
  {
   "cell_type": "markdown",
   "metadata": {
    "slideshow": {
     "slide_type": "notes"
    }
   },
   "source": [
    "For years, I was not able to use strings in datasets because of the infamous bindings!\n",
    "\n",
    "getwfk_path"
   ]
  },
  {
   "cell_type": "markdown",
   "metadata": {
    "slideshow": {
     "slide_type": "subslide"
    }
   },
   "source": [
    "## Conclusion\n",
    "\n",
    "* The *ab-initio* community is migrating to *python* to implement:\n",
    "\n",
    "    * Pre-processing and post-processing tools\n",
    "    * Web-based technologies to analyze/visualize data (*e.g.* *jupyter* notebooks …) \n",
    "    * High-level logic for scientific workflows and *high-throughput* applications\n",
    "    \n",
    "* <u>Difficulties</u> for users:\n",
    "\n",
    "    * Installation of big software stack (C, C++, Fortran, Python, Javascript …)\n",
    "    * Multiple technologies under the hood (databases, *JSON*, *HDF5*, *MPI/OMP* …) \n",
    "    * Users are supposed to be familiar with programming techniques\n",
    "\n",
    "* <u>Advantages</u> for users:\n",
    "    \n",
    "    * Traditional GUIs are still useful but researchers sometimes need programmatic \n",
    "      interfaces to analyze raw data\n",
    "    * Several *python* packages to boost productivity and do better science\n",
    "\n",
    "\n",
    "> \"An investment in knowledge pays the best interest\" (B. Franklin)"
   ]
  }
 ],
 "metadata": {
  "celltoolbar": "Slideshow",
  "kernelspec": {
   "display_name": "Python 3",
   "language": "python",
   "name": "python3"
  },
  "language_info": {
   "codemirror_mode": {
    "name": "ipython",
    "version": 3
   },
   "file_extension": ".py",
   "mimetype": "text/x-python",
   "name": "python",
   "nbconvert_exporter": "python",
   "pygments_lexer": "ipython3",
   "version": "3.6.8"
  },
  "latex_envs": {
   "bibliofile": "biblio.bib",
   "cite_by": "apalike",
   "current_citInitial": 1,
   "eqLabelWithNumbers": true,
   "eqNumInitial": 0
  }
 },
 "nbformat": 4,
 "nbformat_minor": 2
}
