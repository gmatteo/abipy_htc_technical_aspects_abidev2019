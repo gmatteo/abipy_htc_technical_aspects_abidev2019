{
 "cells": [
  {
   "cell_type": "code",
   "execution_count": 27,
   "metadata": {
    "slideshow": {
     "slide_type": "skip"
    }
   },
   "outputs": [],
   "source": [
    "import os\n",
    "\n",
    "# Ignore numpy warnings\n",
    "import warnings\n",
    "warnings.filterwarnings('ignore')\n",
    "\n",
    "%matplotlib inline\n",
    "#%matplotlib notebook\n",
    "\n",
    "# Use seaborn settings.\n",
    "import seaborn as sns\n",
    "sns.set(\n",
    "        #context=\"paper\",\n",
    "        context=\"talk\",\n",
    "        #context=\"poster\",\n",
    "        style='darkgrid',\n",
    "        #style=\"dark\",\n",
    "        #palette='deep',\n",
    "        font='sans-serif', \n",
    "        #font_scale=1.0, \n",
    "        #color_codes=False, \n",
    "        rc={'figure.figsize': (12, 8.0)}, # width and height in inches.\n",
    ")\n",
    "\n",
    "import IPython\n",
    "\n",
    "def _embed(src, width=\"800\", height=\"400\"):\n",
    "    return IPython.display.IFrame(src=src, width=str(width), height=str(height))\n",
    "\n",
    "from IPython.core.magic import (register_line_magic, register_cell_magic,\n",
    "                                register_line_cell_magic)\n",
    "\n",
    "@register_line_magic\n",
    "def embed(line):\n",
    "    \"my line magic\"\n",
    "    #return line\n",
    "    return _embed(line)\n",
    "\n",
    "\n",
    "# We delete these to avoid name conflicts for automagic to work\n",
    "del embed\n",
    "#del lcmagic\n",
    "\n",
    "# Theme\n",
    "# import jtplot module in notebook\n",
    "#from jupyterthemes import jtplot\n",
    "\n",
    "# choose which theme to inherit plotting style from\n",
    "# onedork | grade3 | oceans16 | chesterish | monokai | solarizedl | solarizedd\n",
    "#jtplot.style(theme='monokai')\n",
    "\n",
    "# set \"context\" (paper, notebook, talk, poster)\n",
    "# scale font-size of ticklabels, legend, etc.\n",
    "# remove spines from x and y axes and make grid dashed\n",
    "#jtplot.style(context='talk', fscale=1.4, spines=False, gridlines='--')\n",
    "\n",
    "# turn on X- and Y-axis tick marks (default=False)\n",
    "# turn off the axis grid lines (default=True)\n",
    "# and set the default figure size\n",
    "#jtplot.style(ticks=True, grid=False, figsize=(6, 4.5))\n",
    "\n",
    "# reset default matplotlib rcParams\n",
    "#jtplot.reset()\n",
    "\n",
    "from abipy import abilab\n",
    "import abipy.data as abidata\n",
    "\n",
    "si_pseudo = os.path.join(abidata.pseudo_dir, \"si.psp8\")"
   ]
  },
  {
   "cell_type": "markdown",
   "metadata": {
    "slideshow": {
     "slide_type": "slide"
    }
   },
   "source": [
    "# Technical aspects related to automatic calculations with ABINIT\n",
    "\n",
    "### M. Giantomassi and the AbiPy group\n",
    "\n",
    "9th international ABINIT developer workshop<br>\n",
    "<small>20-22nd May 2019 - Louvain-la-Neuve, Belgium</small>\n",
    "\n",
    "<!-- link rel=\"stylesheet\" href=\"reveal.js/css/theme/sky.css\" id=\"theme\" -->\n",
    "\n",
    "<img src=\"./assets/intro_logos.png\" width=\"85%\" heigh=\"15%\" align=\"center\">\n",
    "\n",
    "## Overview:\n",
    "\n",
    "* Approach used to connect AbiPy with Abinit\n",
    "* Advantages and drawbacks of Yaml and *netcdf*\n",
    "* Technical problems related to automatic calculations and possible solutions\n",
    "\n",
    "<!--\n",
    "<hr> \n",
    "\n",
    "* These slides have been generated using [jupyter](https://jupyter.org), [nbconvert](https://github.com/jupyter/nbconvert) and [revealjs](https://revealjs.com/)\n",
    "\n",
    "* The notebook can be downloaded from this [github repo](https://github.com/gmatteo/abipy_htc_technical_aspects_abidev2019)\n",
    "\n",
    "* To install and configure the software, follow these [installation instructions](https://github.com/abinit/abipy#getting-abipy)\n",
    "\n",
    "Use the Space key to navigate through all slides.\n",
    "\n",
    "\n",
    "In this talk, I will present the approach employed in AbiPy to implement automatic ABINIT calculations. More specifically, I will discuss how we employ\n",
    "YAML and netcdf files to exchange information between Fortran and Python,\n",
    "the logic used in AbiPy to parallelize and optimize calculations at runtime and\n",
    "the protocol used to handle possible errors during the ab-initio computation. I\n",
    "will also discuss how to use the Fortran API of ABINIT to generate netcdf files\n",
    "that can interoperate seamlessly with our high-throughput infrastructure. In the\n",
    "last part, I will present some of the technical problems we are still facing and\n",
    "discuss possible approaches to address these issues.\n",
    "-->"
   ]
  },
  {
   "cell_type": "markdown",
   "metadata": {
    "slideshow": {
     "slide_type": "skip"
    }
   },
   "source": [
    "<img src=\"./assets/abipy_logo.jpg\" width=\"55%\" align=\"center\">\n",
    "\n",
    "## What is AbiPy?\n",
    "\n",
    "#### Python package for:\n",
    "\n",
    "   * Generating ABINIT input files automatically\n",
    "   * Post-processing output results (*netcdf* and *text* files)\n",
    "   * Interfacing ABINIT with external tools (e.g. [Vesta](http://jp-minerals.org/vesta/en/))\n",
    "   * Creating and executing workflows (band structures, phonons, $GW$…)\n",
    "   \n",
    "#### Project:\n",
    "\n",
    "* Developed and maintained by the ABINIT community\n",
    "* Used by developers to validate, profile and optimize ABINIT\n",
    "* Hosted on [github](https://github.com/abinit/abipy) \n",
    "* Release under the GPLv2 license"
   ]
  },
  {
   "cell_type": "markdown",
   "metadata": {
    "slideshow": {
     "slide_type": "slide"
    }
   },
   "source": [
    "## What do we need to automate calculations?\n",
    "\n",
    "* Tools to parse and analyze output results\n",
    "* Programatic interface to generate input files\n",
    "* High-level logic for:\n",
    "    * Managing complicated workflows\n",
    "    * Exposing task parallelism (independent steps can be executed in parallel)\n",
    "    * Handling runtime errors and restarting calculations\n",
    "    * Saving final results in machine-readable format (e.g. databases)\n",
    "<p></p>\n",
    "<hr>\n",
    "\n",
    "<center>\n",
    "<img src=\"./assets/sdata201865-f2.jpg\" width=\"65%\" align=\"center\">\n",
    "</center>"
   ]
  },
  {
   "cell_type": "markdown",
   "metadata": {
    "slideshow": {
     "slide_type": "skip"
    }
   },
   "source": [
    "## AbiPy design principles\n",
    "\n",
    "* Extend the pymatgen code-base with ABINIT-specific objects\n",
    "* Layered structure designed for different use-cases:\n",
    "        \n",
    "     * Post-processing tools and command-line interfaces\n",
    "     * API to automate calculations and data analysis\n",
    "     * High-throughput infrastructure ([abiflows](https://github.com/abinit/abiflows), [fireworks](https://github.com/materialsproject/fireworks), [mongodb](https://www.mongodb.com/))\n",
    "     \n",
    "* Closely connected to the ABINIT executable:\n",
    "\n",
    "    * CPU-intensive algorithms performed by ABINIT (Fortran + MPI + OpenMP)\n",
    "    * Use files in machine-readable format to exchange data\n",
    "    * High-level logic implemented in python\n",
    "    * Can invoke Abinit directly from AbinitInput instance"
   ]
  },
  {
   "cell_type": "markdown",
   "metadata": {
    "slideshow": {
     "slide_type": "subslide"
    }
   },
   "source": [
    "## Workflow infrastructure\n",
    "\n",
    "Two different approaches:\n",
    "\n",
    "#### AbiPy workflows (*flowtk*):\n",
    "\n",
    "   * Lightweight implementation (*pymatgen* + *AbiPy*)\n",
    "   * No database required. Object persistence provided by [*pickle*](https://docs.python.org/3/library/pickle.html)\n",
    "   * Ideal tool for prototyping, testing, debugging.\n",
    "    \n",
    "    \n",
    "#### AbiFlows workflows: \n",
    "\n",
    "   * Based on [fireworks](https://materialsproject.github.io/fireworks/)\n",
    "   * Requires [MongoDb](https://www.mongodb.com/) database\n",
    "   * Designed and optimized for <u>high-throughput applications</u> (Guido's talk)\n",
    "   \n",
    "<hr>\n",
    "\n",
    "Both approaches share the same codebase (*AbinitInput*, factory functions, AbiPy objects, TaskManager...).\n",
    "\n",
    "Number and type of calculations are important ➝ choose according to your needs."
   ]
  },
  {
   "cell_type": "markdown",
   "metadata": {
    "slideshow": {
     "slide_type": "subslide"
    }
   },
   "source": [
    "## Main features of workflows\n",
    "\n",
    "* Factory functions for typical calculations (DFPT, GW, BSE, EPH, ...)\n",
    "* Support for different resource managers (*Slurm*, *PBS*, *Torque*, *SGE*, *LoadLever*, *shell*)\n",
    "* *autoparal*: the number of MPI processes is optimized at runtime\n",
    "* Iterative algorithms are automatically restarted by the framework\n",
    "* Error handlers for common runtime failures\n",
    "<hr>\n",
    "<p></p>\n",
    "\n",
    "<center>\n",
    "<img src=\"./assets/not_converged_task_2.png\" width=\"40%\" align=\"center\">\n",
    "</center>"
   ]
  },
  {
   "cell_type": "markdown",
   "metadata": {
    "slideshow": {
     "slide_type": "slide"
    }
   },
   "source": [
    "## *AbinitInput* object \n",
    "\n",
    "Programmatic interface to generate input files:\n",
    "* *Dict-like* object storing ABINIT variables \n",
    "* Methods to set multiple variables (*e.g.* **k**-path from *structure*)\n",
    "* Factory functions to generate input files with minimal effort\n",
    "\n",
    "Can invoke ABINIT to get important parameters such as:\n",
    "  * list of **k**-points in the IBZ\n",
    "  * list of irreducible perturbations for DFPT\n",
    "  * list of possible configurations for MPI jobs (*npkpt*, *npfft*, *npband* …)\n",
    "     \n",
    "#### To build an input, we need a *structure* and a list of *pseudos*:"
   ]
  },
  {
   "cell_type": "code",
   "execution_count": 28,
   "metadata": {
    "slideshow": {
     "slide_type": "-"
    }
   },
   "outputs": [],
   "source": [
    "inp = abilab.AbinitInput(structure=\"si.cif\", pseudos=\"si.psp8\")"
   ]
  },
  {
   "cell_type": "markdown",
   "metadata": {
    "slideshow": {
     "slide_type": "subslide"
    }
   },
   "source": [
    "#### Low-level API (should look familiar to Abinit users):"
   ]
  },
  {
   "cell_type": "code",
   "execution_count": 29,
   "metadata": {
    "slideshow": {
     "slide_type": "-"
    }
   },
   "outputs": [
    {
     "data": {
      "text/plain": [
       "True"
      ]
     },
     "execution_count": 29,
     "metadata": {},
     "output_type": "execute_result"
    }
   ],
   "source": [
    "inp[\"ecut\"] = 8\n",
    "\"ecut\" in inp"
   ]
  },
  {
   "cell_type": "markdown",
   "metadata": {
    "slideshow": {
     "slide_type": "-"
    }
   },
   "source": [
    "#### Use *set_vars* to set the value of several variables with a single call:"
   ]
  },
  {
   "cell_type": "code",
   "execution_count": 30,
   "metadata": {
    "slideshow": {
     "slide_type": "-"
    }
   },
   "outputs": [],
   "source": [
    "inp.set_vars(kptopt=1, ngkpt=[2, 2, 2],  \n",
    "             shiftk=[0.0, 0.0, 0.0, 0.5, 0.5, 0.5]  # 2 shifts in one list\n",
    "            );"
   ]
  },
  {
   "cell_type": "markdown",
   "metadata": {
    "slideshow": {
     "slide_type": "-"
    }
   },
   "source": [
    "#### althought it's much easier to use:"
   ]
  },
  {
   "cell_type": "code",
   "execution_count": 31,
   "metadata": {
    "slideshow": {
     "slide_type": "-"
    }
   },
   "outputs": [
    {
     "data": {
      "text/plain": [
       "{'ngkpt': array([2, 2, 2]),\n",
       " 'kptopt': 1,\n",
       " 'nshiftk': 4,\n",
       " 'shiftk': array([[0.5, 0.5, 0.5],\n",
       "        [0.5, 0. , 0. ],\n",
       "        [0. , 0.5, 0. ],\n",
       "        [0. , 0. , 0.5]])}"
      ]
     },
     "execution_count": 31,
     "metadata": {},
     "output_type": "execute_result"
    }
   ],
   "source": [
    "inp.set_autokmesh(nksmall=2)"
   ]
  },
  {
   "cell_type": "markdown",
   "metadata": {
    "slideshow": {
     "slide_type": "notes"
    }
   },
   "source": [
    "####  The method builds a homogeneous k-mesh from metavariables:\n",
    "\n",
    "* *nksmall* is the number of divisions used to sample the smallest lattice vector\n",
    "* *shiftk* is automatically selected from an internal database."
   ]
  },
  {
   "cell_type": "markdown",
   "metadata": {
    "slideshow": {
     "slide_type": "skip"
    }
   },
   "source": [
    "#### An *AbinitInput* has a structure object "
   ]
  },
  {
   "cell_type": "code",
   "execution_count": 32,
   "metadata": {
    "slideshow": {
     "slide_type": "skip"
    }
   },
   "outputs": [
    {
     "name": "stdout",
     "output_type": "stream",
     "text": [
      "Full Formula (Si2)\n",
      "Reduced Formula: Si\n",
      "abc   :   3.866975   3.866975   3.866975\n",
      "angles:  60.000000  60.000000  60.000000\n",
      "Sites (2)\n",
      "  #  SP       a     b     c\n",
      "---  ----  ----  ----  ----\n",
      "  0  Si    0     0     0\n",
      "  1  Si    0.25  0.25  0.25\n"
     ]
    }
   ],
   "source": [
    "print(inp.structure)"
   ]
  },
  {
   "cell_type": "markdown",
   "metadata": {
    "slideshow": {
     "slide_type": "skip"
    }
   },
   "source": [
    "#### and a list of pseudopotentials"
   ]
  },
  {
   "cell_type": "code",
   "execution_count": 33,
   "metadata": {
    "slideshow": {
     "slide_type": "skip"
    }
   },
   "outputs": [
    {
     "name": "stdout",
     "output_type": "stream",
     "text": [
      "<NcAbinitPseudo: si.psp8>\n",
      "  summary: Si    ONCVPSP-3.2.3.1  r_core=   1.60303   1.72197   1.91712\n",
      "  number of valence electrons: 4.0\n",
      "  maximum angular momentum: d\n",
      "  angular momentum for local part: g\n",
      "  XC correlation: PBE\n",
      "  supports spin-orbit: False\n",
      "  radius for non-linear core correction: 0.0\n",
      "  hint for low accuracy: ecut: 0.0, pawecutdg: 0.0\n",
      "  hint for normal accuracy: ecut: 0.0, pawecutdg: 0.0\n",
      "  hint for high accuracy: ecut: 0.0, pawecutdg: 0.0\n"
     ]
    }
   ],
   "source": [
    "print(inp.pseudos[0])"
   ]
  },
  {
   "cell_type": "markdown",
   "metadata": {
    "slideshow": {
     "slide_type": "slide"
    }
   },
   "source": [
    "## Interfacing Abinit with Python via *AbinitInput*\n",
    "\n",
    "* Once we have an *AbinitInput*, it is possible to execute Abinit to:\n",
    "\n",
    "    * get useful data from the Fortran code (e.g. IBZ, space group…)\n",
    "    * validate the input file before running the calculation \n",
    "        \n",
    "* Methods invoking Abinit start with the *abi* prefix followed by a verb: \n",
    "\n",
    "    * *inp.abiget_irred_phperts(...)* \n",
    "    * *inp.abivalidate()*\n",
    "\n",
    "#### Important: \n",
    "\n",
    "* To call Abinit from AbiPy, one has to prepare a configuration file (*manager.yml*)\n",
    "  providing all the information required to execute/submit Abinit jobs: \n",
    "\n",
    "     * `$PATH`, `$LD_LIBRARY_PATH`\n",
    "     * modules (if any)\n",
    "\n",
    "* For futher info consult the [documentation](https://abinit.github.io/abipy/workflows/taskmanager.html)"
   ]
  },
  {
   "cell_type": "markdown",
   "metadata": {
    "slideshow": {
     "slide_type": "subslide"
    }
   },
   "source": [
    "## Example of *manager.yml* for laptops (shell adapter)\n",
    "<hr>\n",
    "\n",
    "```yaml\n",
    "\n",
    "qadapters:\n",
    "  # List of qadapters objects \n",
    "  - priority: 1 \n",
    "    queue:\n",
    "      qtype: shell\n",
    "      qname: localhost\n",
    "    job:\n",
    "       mpi_runner: mpirun\n",
    "       pre_run: \n",
    "           # abinit exec must be in $PATH\n",
    "           - export PATH=$HOME/git_repos/abinit/_build/src/98_main:$PATH\n",
    "    limits:\n",
    "       timelimit: 30:00\n",
    "       max_cores: 2\n",
    "    hardware:\n",
    "       num_nodes: 1\n",
    "       sockets_per_node: 1\n",
    "       cores_per_socket: 2\n",
    "       mem_per_node: 4Gb\n",
    "```\n",
    "\n",
    "* Examples of configuration files for clusters available [here](https://abinit.github.io/abipy/workflows/manager_examples.html)\n",
    "\n",
    "* Use *abirun.py doc_manager* to get documentation inside the shell"
   ]
  },
  {
   "cell_type": "markdown",
   "metadata": {
    "slideshow": {
     "slide_type": "subslide"
    }
   },
   "source": [
    "## An example for a Slurm-based cluster\n",
    "<hr>\n",
    "\n",
    "```yaml\n",
    "\n",
    "hardware: &hardware\n",
    "   num_nodes: 80\n",
    "   sockets_per_node: 2\n",
    "   cores_per_socket: 12\n",
    "   mem_per_node: 95Gb\n",
    "\n",
    "job: &job\n",
    "    mpi_runner: mpirun\n",
    "    modules: # Load modules used to compile Abinit \n",
    "        - intel/2017b\n",
    "        - netCDF-Fortran/4.4.4-intel-2017b\n",
    "        - abinit_8.11\n",
    "    pre_run: \"ulimit -s unlimited\"\n",
    "\n",
    "# Slurm options.\n",
    "qadapters:\n",
    "  - priority: 1\n",
    "    queue:\n",
    "       qtype: slurm\n",
    "       qname: large\n",
    "    limits:\n",
    "       timelimit: 0-0:30:00\n",
    "       min_cores: 1\n",
    "       max_cores: 48\n",
    "       min_mem_per_proc: 1000\n",
    "       max_mem_per_proc: 2000\n",
    "       max_num_launches: 10\n",
    "    hardware: *hardware\n",
    "    job: *job\n",
    "```"
   ]
  },
  {
   "cell_type": "markdown",
   "metadata": {
    "slideshow": {
     "slide_type": "subslide"
    }
   },
   "source": [
    "#### To get the list of k-points in the IBZ as computed by Abinit:"
   ]
  },
  {
   "cell_type": "code",
   "execution_count": 34,
   "metadata": {
    "slideshow": {
     "slide_type": "-"
    }
   },
   "outputs": [
    {
     "name": "stdout",
     "output_type": "stream",
     "text": [
      "Number of k-points: 2\n",
      "Weights normalized to: 1.0\n",
      "0 kpt: [-0.25  0.5   0.  ] weight: 0.75\n",
      "1 kpt: [-0.25  0.    0.  ] weight: 0.25\n"
     ]
    }
   ],
   "source": [
    "ibz = inp.abiget_ibz()\n",
    "\n",
    "print(\"Number of k-points:\", len(ibz.points))\n",
    "print(\"Weights normalized to:\", ibz.weights.sum())\n",
    "\n",
    "n = min(5, len(ibz.points))\n",
    "for i, (k, w) in enumerate(zip(ibz.points[:n], ibz.weights[:n])):\n",
    "    print(i, \"kpt:\", k, \"weight:\", w)\n",
    "if n != len(ibz.points): print(\"...\")"
   ]
  },
  {
   "cell_type": "markdown",
   "metadata": {
    "slideshow": {
     "slide_type": "-"
    }
   },
   "source": [
    "* Being able to call ABINIT from python is crucial for implementing automatic calculations,\n",
    "  especially when symmetries and $\\bf{k}$-points are involved\n",
    "* The calculation is done in Fortran so ABINIT is always right even when it's wrong!"
   ]
  },
  {
   "cell_type": "markdown",
   "metadata": {
    "slideshow": {
     "slide_type": "subslide"
    }
   },
   "source": [
    "#### To get the list of possible parallel configurations for this input up to *max_ncpus*:"
   ]
  },
  {
   "cell_type": "code",
   "execution_count": 35,
   "metadata": {
    "slideshow": {
     "slide_type": "-"
    }
   },
   "outputs": [
    {
     "name": "stdout",
     "output_type": "stream",
     "text": [
      "Best efficiency:\n",
      " {'efficiency': 0.788,\n",
      " 'mem_per_cpu': 0.0,\n",
      " 'mpi_ncpus': 2,\n",
      " 'omp_ncpus': 1,\n",
      " 'tot_ncpus': 2,\n",
      " 'vars': {'bandpp': 1,\n",
      "          'npband': 1,\n",
      "          'npfft': 1,\n",
      "          'npimage': 1,\n",
      "          'npkpt': 2,\n",
      "          'npspinor': 1}}\n",
      "\n"
     ]
    }
   ],
   "source": [
    "inp[\"paral_kgb\"] = 1\n",
    "pconfs = inp.abiget_autoparal_pconfs(max_ncpus=5)\n",
    "print(\"Best efficiency:\\n\", pconfs.sort_by_efficiency()[0])\n",
    "#print(\"Best speedup:\\n\", pconfs.sort_by_speedup()[0])"
   ]
  },
  {
   "cell_type": "markdown",
   "metadata": {
    "slideshow": {
     "slide_type": "-"
    }
   },
   "source": [
    "* python will select the \"optimal\" configuration according to some criterion and additional constraints \n",
    "  specified by the user *e.g.* exclusive node allocation\n",
    "  \n",
    "<!--\n",
    "* Crucial for implementing automatic $GW$ calculations but...\n",
    "* Supporting *autoparal* for all possible cases is not trivial. \n",
    "* For new developments (e.g. EPH) we prefer to implement smart logic in fortran \n",
    "-->"
   ]
  },
  {
   "cell_type": "markdown",
   "metadata": {
    "slideshow": {
     "slide_type": "subslide"
    }
   },
   "source": [
    "#### To get the list of irreducible phonon perturbations for a given q-point:"
   ]
  },
  {
   "cell_type": "code",
   "execution_count": 36,
   "metadata": {
    "slideshow": {
     "slide_type": "-"
    }
   },
   "outputs": [
    {
     "data": {
      "text/plain": [
       "[{'qpt': [0.25, 0.0, 0.0], 'ipert': 1, 'idir': 1},\n",
       " {'qpt': [0.25, 0.0, 0.0], 'ipert': 1, 'idir': 2}]"
      ]
     },
     "execution_count": 36,
     "metadata": {},
     "output_type": "execute_result"
    }
   ],
   "source": [
    "inp.abiget_irred_phperts(qpt=(0.25, 0, 0))"
   ]
  },
  {
   "cell_type": "markdown",
   "metadata": {
    "slideshow": {
     "slide_type": "-"
    }
   },
   "source": [
    "#### To get the irreducible perturbations for strain calculations:"
   ]
  },
  {
   "cell_type": "code",
   "execution_count": 37,
   "metadata": {
    "slideshow": {
     "slide_type": "-"
    }
   },
   "outputs": [
    {
     "data": {
      "text/plain": [
       "[{'qpt': [0.0, 0.0, 0.0], 'ipert': 1, 'idir': 1},\n",
       " {'qpt': [0.0, 0.0, 0.0], 'ipert': 5, 'idir': 1},\n",
       " {'qpt': [0.0, 0.0, 0.0], 'ipert': 5, 'idir': 2},\n",
       " {'qpt': [0.0, 0.0, 0.0], 'ipert': 5, 'idir': 3},\n",
       " {'qpt': [0.0, 0.0, 0.0], 'ipert': 6, 'idir': 1},\n",
       " {'qpt': [0.0, 0.0, 0.0], 'ipert': 6, 'idir': 2},\n",
       " {'qpt': [0.0, 0.0, 0.0], 'ipert': 6, 'idir': 3}]"
      ]
     },
     "execution_count": 37,
     "metadata": {},
     "output_type": "execute_result"
    }
   ],
   "source": [
    "inp.abiget_irred_strainperts()"
   ]
  },
  {
   "cell_type": "markdown",
   "metadata": {
    "slideshow": {
     "slide_type": "-"
    }
   },
   "source": [
    "* DFPT perturbations are independent hence jobs can be executed in parallel\n",
    "* Handling errors in calculations with datasets is not trivial ➔ Divide and conquer approach\n",
    "* These methods represent the **building block** to generate workflows at runtime.\n",
    "<!-- div class=\"alert alert-info\"> </div -->"
   ]
  },
  {
   "cell_type": "markdown",
   "metadata": {
    "slideshow": {
     "slide_type": "slide"
    }
   },
   "source": [
    "<center><img src=\"./assets/how_does_it_work.jpg\" width=\"45%\" align=\"center\"></center>\n",
    "\n",
    "* ABINIT and AbiPy communicate through Yaml docs in *log* and *netcdf* files\n",
    "* AbiPy uses this protocol to:\n",
    "     * generate input files\n",
    "     * handle errors\n",
    "     * implement high-level logic\n",
    "* Config options required to run/submit calculations are specified in *manager.yml* \n",
    "* Programmatic interface to set number of MPI procs and job parameters"
   ]
  },
  {
   "cell_type": "markdown",
   "metadata": {
    "slideshow": {
     "slide_type": "subslide"
    }
   },
   "source": [
    "## Why two formats?\n",
    "\n",
    "Each format has pros and cons:\n",
    "\n",
    "* **YAML**\n",
    "    * Mainly used for small documents:\n",
    "        * error messages in log file\n",
    "        * *autoparal* section and list of DFPT *perturbations* \n",
    "    * Easy to write with plain Fortran write (provided doc is *flat*) \n",
    "    * Not designed for big-data and performance  \n",
    "    * Yaml should be used when both human- and machine-readability are wanted (*cfr.* Theo's talk)\n",
    "        \n",
    "* **Netcdf4**\n",
    "    * Portable binary format. Can handle big-data and <u>metadata</u> efficiently with MPI-IO\n",
    "    * [ETSF-IO specifications](https://www.etsf.eu/fileformats) for crystalline structures, wavefunctions, densities…\n",
    "    * Still, ETSF-IO specs are not enough as we need *hdr_t* to restart. Besides many physical properties \n",
    "      are not covered by the standard\n",
    "    * A machine-readable format is also human-readable. Just put some python code around it!"
   ]
  },
  {
   "cell_type": "markdown",
   "metadata": {
    "slideshow": {
     "slide_type": "subslide"
    }
   },
   "source": [
    "## Error messages in Yaml\n",
    "<p></p>\n",
    "\n",
    "#### Fortran API\n",
    "<p></p>\n",
    "\n",
    "```fortran\n",
    "MSG_ERROR(\"Fatal error!\")\n",
    "MSG_BUG(\"This is a bug!\")\n",
    "ABI_CHECK(natom > 0, sjoin(\"Input natom must be > 0 but was:\", itoa(natom))\n",
    "```\n",
    "\n",
    "* Macros to call the error handler and MPI_ABORT to terminates all processes \n",
    "* Never ever use plain Fortran *stop* in MPI codes \n",
    "\n",
    "#### Yaml doc printed to log file and  *__ABI_ABORT_FILE__*\n",
    "<p></p>\n",
    "\n",
    "```yaml\n",
    "--- !ERROR\n",
    "src_file: m_invars1.F90\n",
    "src_line: 314\n",
    "mpi_rank: 0\n",
    "message: |\n",
    "    Input natom must be > 0, but was -42 \n",
    "...\n",
    "```\n",
    "\n",
    "* *src_file* and *str_line* added by CPP (see *abi_common.h*)\n",
    "* *message*: String meant for users. It might be used by AbiPy for quick fixes \n",
    "  although we usually prefer a more robust approach..."
   ]
  },
  {
   "cell_type": "markdown",
   "metadata": {
    "slideshow": {
     "slide_type": "subslide"
    }
   },
   "source": [
    "## Specialized error classes \n",
    "\n",
    "* Runtime errors appearing with a certain frequency are associated to specialized error classes:  \n",
    "<p></p>\n",
    "\n",
    "```fortran\n",
    "MSG_ERROR_CLASS(dilatmx_errmsg, \"DilatmxError\")\n",
    "```\n",
    "\n",
    "* These classes bring metadata and/or imply some action at the Fortran level \n",
    "\n",
    "* The presence of the Yaml error in the *log* file triggers specialized python logic:\n",
    "\n",
    "<center><img src=\"./assets/dilatmx_2.png\" width=\"30%\" align=\"center\"></center>\n",
    "\n",
    "* As usual, error handling requires some discipline 🧘..."
   ]
  },
  {
   "cell_type": "markdown",
   "metadata": {
    "slideshow": {
     "slide_type": "subslide"
    }
   },
   "source": [
    "## Fortran handler based on YAML + netcdf\n",
    "<p></p>\n",
    "\n",
    "```fortran\n",
    "call chkdilatmx(dt_chkdilatmx, dilatmx, rprimd, rprimd_orig, dilatmx_errmsg)\n",
    "\n",
    "if (len_trim(dilatmx_errmsg) /= 0) then\n",
    "    ! Write last structure before aborting so that we can restart from it.\n",
    "    if (my_rank == master) then\n",
    "      NCF_CHECK(crystal%ncwrite_path(\"out_DILATMX_STRUCT.nc\")))\n",
    "    end if\n",
    "    call xmpi_barrier(comm_cell)\n",
    "    write(dilatmx_errmsg, '(a,i0,3a)') &\n",
    "      'Dilatmx has been exceeded too many times (', nerr_dilatmx, ')',ch10, &\n",
    "      'Restart calculation from larger lattice vectors and/or a larger dilatmx'\n",
    "    MSG_ERROR_CLASS(dilatmx_errmsg, \"DilatmxError\")\n",
    "end if\n",
    "```\n",
    "\n",
    "* If `!DilatmxError` in *log* file, AbiPy expects a *ncfile* with the last structure\n",
    "* Note MPI_BARRIER to guarantee that the *ncfile* is written before MPI_ABORT"
   ]
  },
  {
   "cell_type": "markdown",
   "metadata": {
    "slideshow": {
     "slide_type": "subslide"
    }
   },
   "source": [
    "## How do we understand that the job completed successfully?\n",
    "<p></p>\n",
    "\n",
    "```yaml\n",
    "--- !FinalSummary\n",
    "program: abinit\n",
    "version: 8.11.6\n",
    "start_datetime: Sat Mar 30 23:01:14 2019\n",
    "end_datetime: Sat Mar 30 23:04:04 2019\n",
    "overall_cpu_time:         168.8\n",
    "overall_wall_time:         169.7\n",
    "exit_requested_by_user: no \n",
    "timelimit: 0\n",
    "pseudos: \n",
    "    Li  : 9517c0b7d24d4898578b8627ce68311d\n",
    "    F   : 14cf65a61ba7320a86892d2f062b1f44\n",
    "usepaw: 0\n",
    "mpi_procs: 1\n",
    "omp_threads: 1\n",
    "num_warnings: 2\n",
    "num_comments: 73\n",
    "...\n",
    "```\n",
    "\n",
    "* Understanding whether the job is still running or stuck is more difficult since there's no \"official protocol\" implemented by resource managers\n",
    "* AbiPy analyzes *stderr* files and uses heuristic rules to detect this kind of problem"
   ]
  },
  {
   "cell_type": "markdown",
   "metadata": {
    "slideshow": {
     "slide_type": "subslide"
    }
   },
   "source": [
    "## Netcdf files in Abinit\n",
    "\n",
    "#### Philosophy\n",
    "\n",
    "* A *ncfile* is a container of \"objects\"\n",
    "* Each object implements the *ncwrite* method to dump its status\n",
    "* Client code uses these methods to implement *composition*\n",
    "* A *GSR.nc* file, for instance, has a *crystal*, an *header*, *ebands* and *results_gs*\n",
    "\n",
    "#### Fortran code for GSR.nc\n",
    "<p></p>\n",
    "\n",
    "```Fortran\n",
    "ncerr = nctk_open_create(ncid, \"si_scf_GSR.nc\", xmpi_comm_self)\n",
    "! Write hdr, crystal and band structure\n",
    "ncerr = hdr%ncwrite(ncid, fform_den, nc_define=.True.)\n",
    "ncerr = crystal%ncwrite(ncid)\n",
    "ncerr = ebands%ncwrite(ncid)\n",
    "! Add energy, forces, stresses\n",
    "ncerr = results_gs%ncwrite(ncid, dtset%ecut, dtset%pawecutdg)\n",
    "ncerr = nf90_close(ncid)\n",
    "```\n",
    "#### The same pattern can be used for other files:\n",
    "<p></p>\n",
    "\n",
    "```fortran\n",
    "NCF_CHECK(nctk_open_create(ncid, \"out_PHDOS.nc\", xmpi_comm_self))\n",
    "! PHDOS.nc has a crystalline structure + DOS values\n",
    "NCF_CHECK(cryst%ncwrite(ncid))\n",
    "NCF_CHECK(phdos%ncwrite(ncid)\n",
    "```"
   ]
  },
  {
   "cell_type": "markdown",
   "metadata": {
    "slideshow": {
     "slide_type": "subslide"
    }
   },
   "source": [
    "#### Advantages of the *ncwrite* API:\n",
    "\n",
    "* Code reuse. Need to implement extra logic only for *extra data*\n",
    "* Standardized format for *hdr*, *crystal*, *ebands* ...\n",
    "* Post-processing tools need metadata (*e.g.* *crystal*) to interpret the data \n",
    "* Less boiler-plate code to implement parsers and post-processing tools\n",
    "\n",
    "#### Abipy implementation based on mixins:\n",
    "<p></p>\n",
    "\n",
    "```python\n",
    "class GsrFile(AbinitNcFile, Has_Header, Has_Structure, Has_ElectronBands):\n",
    "    \"\"\"This file contains ground-state results\"\"\"\n",
    "    \n",
    "class FatBandsFile(AbinitNcFile, Has_Header, Has_Structure, Has_ElectronBands):\n",
    "    \"\"\"This file contains LM-projected bands\"\"\"\n",
    "```\n",
    "\n",
    "#### Easy-to-use API that plays well with the dynamic nature of the python language\n",
    "<p></p>\n",
    "\n",
    "```python\n",
    "for path in (\"out_GSR.nc\", \"out_FATBANDS.nc\", \"out_WFK.nc\", \"out_SIGEPH.nc\"):\n",
    "    abifile = abilab.abiopen(path)\n",
    "    abifile.ebands.plot()\n",
    "```"
   ]
  },
  {
   "cell_type": "code",
   "execution_count": 38,
   "metadata": {
    "slideshow": {
     "slide_type": "skip"
    }
   },
   "outputs": [
    {
     "name": "stdout",
     "output_type": "stream",
     "text": [
      "npwarr [181 178 193 195 180 177 193 196 193 189 193 186 202 195 192 190 192 198\n",
      " 198 194 190 194 195 194 197 198 197 196 200]\n",
      "pspso [0]\n",
      "ecutsm 0.0\n",
      "codvsn 8.0.6\n"
     ]
    }
   ],
   "source": [
    "gsr = abilab.abiopen(\"si_scf_GSR.nc\")\n",
    "for key in (\"npwarr\", \"pspso\", \"ecutsm\", \"codvsn\"):\n",
    "    print(key, gsr.hdr[key])"
   ]
  },
  {
   "cell_type": "code",
   "execution_count": 39,
   "metadata": {
    "slideshow": {
     "slide_type": "skip"
    }
   },
   "outputs": [
    {
     "data": {
      "text/plain": [
       "Term                  Value\n",
       "e_localpsp            -68.62575616682041 eV\n",
       "e_eigenvalues         4.453251781809304 eV\n",
       "e_ewald               -226.94266538122858 eV\n",
       "e_hartree             14.989583868349118 eV\n",
       "e_corepsp             2.262480246606245 eV\n",
       "e_corepspdc           0.0 eV\n",
       "e_kinetic             80.6603511758275 eV\n",
       "e_nonlocalpsp         52.15353045099117 eV\n",
       "e_entropy             0.0 eV\n",
       "entropy               0.0 eV\n",
       "e_xc                  -95.73399250916707 eV\n",
       "e_xcdc                0.0 eV\n",
       "e_paw                 0.0 eV\n",
       "e_pawdc               0.0 eV\n",
       "e_elecfield           0.0 eV\n",
       "e_magfield            0.0 eV\n",
       "e_fermie              5.5984532787385985 eV\n",
       "e_sicdc               0.0 eV\n",
       "e_exactX              0.0 eV\n",
       "h0                    0.0 eV\n",
       "e_electronpositron    0.0 eV\n",
       "edc_electronpositron  0.0 eV\n",
       "e0_electronpositron   0.0 eV\n",
       "e_monopole            0.0 eV"
      ]
     },
     "execution_count": 39,
     "metadata": {},
     "output_type": "execute_result"
    }
   ],
   "source": [
    "gsr.energy_terms"
   ]
  },
  {
   "cell_type": "markdown",
   "metadata": {
    "slideshow": {
     "slide_type": "slide"
    }
   },
   "source": [
    "<center><img src=\"./assets/technical_problems.jpg\" width=\"85%\" align=\"center\"></center>\n",
    "<br><hr>\n",
    "\n",
    "* Restart capabilities and IO\n",
    "* Extending *TesSuite* with AbiPy\n",
    "* *TestSuite* is too gentle but clusters are dark and full of errors 🐉🐉🐉\n",
    "* Using AbiPy to benchmark ABINIT"
   ]
  },
  {
   "cell_type": "markdown",
   "metadata": {
    "slideshow": {
     "slide_type": "subslide"
    }
   },
   "source": [
    "## Restart capabilities and IO\n",
    "\n",
    "#### Clean exit with *--timelimit* and smart-io mode (prtwf -1)\n",
    "<p></p>\n",
    "\n",
    "```sh\n",
    "    $ cat job.sh\n",
    "\n",
    "    #SBATCH --time=12:00:00\n",
    "    abinit --timelimit 12:00:00 < run.file > run.log 2> run.err\n",
    "```\n",
    "\n",
    "* Available for iterative algorithms (*Relax*, *Scf*)\n",
    "* Compute wall-time required by one iteration, producd *restart files* if *timelimit* is approaching\n",
    "* *prtwf* -1: Print WFK only if *not converged* to reduce IO-pressure and avoid disk-quota\n",
    "* AbiPy will restart the job from the previous results \n",
    "\n",
    "#### Restart from *netcdf* file\n",
    "\n",
    "* EPH approach: Save results to SIGEPH with table *done(ikpt, spin)*\n",
    "\n",
    "#### Unfortunately:\n",
    "\n",
    "* Not all the drivers support restart e.g. GW or BSE\n",
    "* Output of certain files may use smart-io mode by default *e.g.* first-order WFK\n",
    "* The number of files *per user* is limited. Should make list of files that may be removed e.g. *_OUT.nc* "
   ]
  },
  {
   "cell_type": "markdown",
   "metadata": {
    "slideshow": {
     "slide_type": "subslide"
    }
   },
   "source": [
    "## Extending TestSuite with AbiPy\n",
    "\n",
    "* More that 1200 tests in *TestSuite* still the infrastructure <u>is not bulletproof</u>\n",
    "* We assume the reference results are *always* correct but\n",
    "     * mistakes may happen when updating refs\n",
    "     * in comes cases, inconsistencies can be spotted by analyzing the raw data\n",
    "\n",
    "#### Based on a true story:\n",
    "\n",
    "* A bug in the calculation of the atom-projected phonon DOS entered trunk/develop\n",
    "* All the refs were updated so buildbot was happy!\n",
    "* I had a look at the diffs but it was like finding needle in the haystack\n",
    "* Fortunately, AbiPy detected the problem because there was a test based \n",
    "  on the post-processing of the numerical results..."
   ]
  },
  {
   "cell_type": "markdown",
   "metadata": {
    "slideshow": {
     "slide_type": "subslide"
    }
   },
   "source": [
    "```python\n",
    "# Test whether projected DOSes computed by anaddb integrate to 3*natom.\n",
    "ddb = abilab.abiopen(\"out_DDB\")\n",
    "\n",
    "for dos_method in (\"tetra\", \"gaussian\"):\n",
    "    # Get phonon bands and dos with anaddb.\n",
    "    phbst_nc, phdos_nc = ddb.anaget_phbst_and_phdos_files(dos_method=dos_method)\n",
    "    phbands, phdos = phbst_nc.phbands, phdos_nc.phdos\n",
    "\n",
    "    # Total PHDOS should integrate to 3 * natom\n",
    "    assert_almost_equal(phdos.integral_value, len(phbands.structure) * 3)\n",
    "\n",
    "    # Summing projected DOSes over types should give the total DOS.\n",
    "    pj_sum = sum(pjdos.integral_value for pjdos in phdos_file.pjdos_symbol.values())\n",
    "    assert_almost_equal(phdos.integral_value, pj_sum)\n",
    "\n",
    "    # Summing proj-DOSes over types and directions should give the total DOS.\n",
    "    values = phdos_file.reader.read_value(\"pjdos_rc_type\").sum(axis=(0, 1))\n",
    "    tot_dos = abilab.Function1D(phdos.mesh, values)\n",
    "    assert_almost_equal(phdos.integral_value, tot_dos.integral_value)\n",
    "```\n",
    "\n",
    "## Want to run the test in parallel with MPI? Just add:\n",
    "<p></p>\n",
    "\n",
    "```python\n",
    "for mpi_procs in range(1, 10**23):\n",
    "    ddb.anaget_phbst_and_phdos_files(dos_method=dos_method, mpi_procs=mpi_procs)\n",
    "```"
   ]
  },
  {
   "cell_type": "markdown",
   "metadata": {
    "slideshow": {
     "slide_type": "skip"
    }
   },
   "source": [
    "* The idea is not new: FFTW3 built-in tests use this kind of internal consistency check\n",
    "* Implementing this kind of tests in Fortran is a real pain (I did it for the FFT machinery in *fftprof*)\n",
    "* python and the AbiPy API represent a very flexible approach to implement this kind of agnostic tests\n",
    "* Want to run the test in parallel with MPI? Just add:\n",
    "<p></p>\n",
    "\n",
    "```python\n",
    "for mpi_procs in range(1, 10**23):\n",
    "    ddb.anaget_phbst_and_phdos_files(dos_method=dos_method, mpi_procs=mpi_procs)\n",
    "```"
   ]
  },
  {
   "cell_type": "markdown",
   "metadata": {
    "slideshow": {
     "slide_type": "subslide"
    }
   },
   "source": [
    "### TestSuite is too gentle but clusters are dark and full of errors  🐉🐉🐉\n",
    "\n",
    "> Stress testing involves testing beyond normal operational capacity, \n",
    "> often to a breaking point in order to:\n",
    ">    - determine breaking points or safe usage limits\n",
    ">    - determine how exactly a system fails\n",
    ">\n",
    ">  (*wikipedia*)\n",
    "\n",
    "#### Questions:\n",
    "\n",
    "* How many tests do we perform before saying that one algo is clearly superior to another one?\n",
    "* Do we have a suite of input systems designed to reveal weaknesses in algorithms?\n",
    "* Is it possible to handle some of these errors at the Fortran level?\n",
    "\n",
    "#### Stress testing is not easy because one needs logic to cope with errors \n",
    "\n",
    "* AbiPy uses integration tests to check *ErrorHandlers* in which the code is supposed to \n",
    "  **fail several times** before giving the right answer.\n",
    "* I'm not claiming that stress testing with AbiPy is gonna be easy, but it's clear that \n",
    "  *TestSuite* was not designed with this goal in mind.  "
   ]
  },
  {
   "cell_type": "markdown",
   "metadata": {
    "slideshow": {
     "slide_type": "subslide"
    }
   },
   "source": [
    "#### Using AbiPy to benchmark ABINIT\n",
    "\n",
    "* The programmatic API allows one to write benchmarks in a few lines of code\n",
    "* Want to analyze the strong scaling efficiency of the GS solver with different configurations \n",
    "  of MPI/OMP and input variables?"
   ]
  },
  {
   "cell_type": "markdown",
   "metadata": {
    "slideshow": {
     "slide_type": "-"
    }
   },
   "source": [
    "```python\n",
    "# Titanium with 256 atoms and k-point sampling.\n",
    "# GS calculations with paral_kgb == 1 and different values of wfoptalg.\n",
    "\n",
    "# List of MPI distribution.\n",
    "pconfs = [\n",
    "     dict(npkpt=2, npband=8 , npfft=8 ),  # 128\n",
    "     dict(npkpt=2, npband=8 , npfft=16),  # 256\n",
    "     dict(npkpt=2, npband=16, npfft=16),  # 512\n",
    "]\n",
    "\n",
    "omp_list = [1, 2, 4] # List of OpenMP threads\n",
    "\n",
    "flow = BenchmarkFlow()\n",
    "template = generate_input()\n",
    "\n",
    "for wfoptalg in [1, 10, 14]:\n",
    "    work = flowtk.Work()\n",
    "    for d, omp_threads in product(pconfs, omp_list):\n",
    "        mpi_procs = reduce(operator.mul, d.values(), 1)\n",
    "        manager = manager.new_with_fixed_mpi_omp(mpi_procs, omp_threads)\n",
    "        inp = template.new_with_vars(d, wfoptalg=wfoptalg)\n",
    "        work.register_scf_task(inp, manager=manager)\n",
    "    flow.register_work(work)\n",
    "flow.allocate()\n",
    "```"
   ]
  },
  {
   "cell_type": "markdown",
   "metadata": {
    "slideshow": {
     "slide_type": "slide"
    }
   },
   "source": [
    "## Conclusions\n",
    "\n",
    "* This talk has no conclusions because we have not yet found optimal solutions to the problems \n",
    "  mentioned in the previous slides except one:\n",
    "  \n",
    "#### Different Problems Require Different Solutions Based On Different Technologies"
   ]
  }
 ],
 "metadata": {
  "celltoolbar": "Slideshow",
  "kernelspec": {
   "display_name": "Python 3",
   "language": "python",
   "name": "python3"
  },
  "language_info": {
   "codemirror_mode": {
    "name": "ipython",
    "version": 3
   },
   "file_extension": ".py",
   "mimetype": "text/x-python",
   "name": "python",
   "nbconvert_exporter": "python",
   "pygments_lexer": "ipython3",
   "version": "3.6.8"
  },
  "latex_envs": {
   "bibliofile": "biblio.bib",
   "cite_by": "apalike",
   "current_citInitial": 1,
   "eqLabelWithNumbers": true,
   "eqNumInitial": 0
  }
 },
 "nbformat": 4,
 "nbformat_minor": 2
}
